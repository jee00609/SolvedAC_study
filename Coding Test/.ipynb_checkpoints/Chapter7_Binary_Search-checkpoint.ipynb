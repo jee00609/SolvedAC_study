{
 "cells": [
  {
   "cell_type": "code",
   "execution_count": 3,
   "metadata": {},
   "outputs": [
    {
     "name": "stdout",
     "output_type": "stream",
     "text": [
      "5 Dongbin\n",
      "Hanul Jonggu Dongbin Taeil Sangwook\n",
      "3\n",
      "Time =  22.41415286064148\n"
     ]
    }
   ],
   "source": [
    "#순차 탐색\n",
    "#데이터의 정렬 여부와 상관 없이 하나씩 확인 => 듣기만 해도 효율적이지 않아보인다.\n",
    "#최악 시간 복잡도 => O(N)\n",
    "import time\n",
    "start_time = time.time()\n",
    "\n",
    "def sequential_search(n,target,array):\n",
    "    for i in range(n):\n",
    "        if array[i] == target:\n",
    "            return i+1\n",
    "        \n",
    "input_data = input().split()\n",
    "n = int(input_data[0])\n",
    "target = input_data[1]\n",
    "\n",
    "array = input().split()\n",
    "    \n",
    "print(sequential_search(n,target,array))\n",
    "\n",
    "end_time = time.time()\n",
    "print(\"Time = \",end_time-start_time)"
   ]
  },
  {
   "cell_type": "code",
   "execution_count": 4,
   "metadata": {},
   "outputs": [
    {
     "name": "stdout",
     "output_type": "stream",
     "text": [
      "10 7\n",
      "1 3 5 7 9 11 13 15 17 19\n",
      "4\n",
      "Time =  8.353521823883057\n"
     ]
    }
   ],
   "source": [
    "#재귀 함수를 이용한 이진 탐색 코드\n",
    "#여기선 이미 리스트가 정렬되있다고 가정\n",
    "import time\n",
    "start_time = time.time()\n",
    "\n",
    "def binary_search(array,target,start,end):\n",
    "    if start > end:\n",
    "        return None\n",
    "    \n",
    "    mid = (start+end)//2\n",
    "    \n",
    "    if array[mid] == target:\n",
    "        return mid\n",
    "    \n",
    "    elif array[mid]>target:\n",
    "        return binary_search(array,target,start,mid-1)\n",
    "    else :\n",
    "        return binary_search(array,target,mid+1,end)\n",
    "\n",
    "\n",
    "n,target = list(map(int,input().split()))\n",
    "\n",
    "array = list(map(int,input().split()))\n",
    "\n",
    "result = binary_search(array,target,0,n-1)\n",
    "if result == None:\n",
    "    print(\"원소 존재 X\")\n",
    "else :\n",
    "    print(result+1)\n",
    "\n",
    "end_time = time.time()\n",
    "print(\"Time = \",end_time-start_time)"
   ]
  },
  {
   "cell_type": "code",
   "execution_count": 8,
   "metadata": {},
   "outputs": [
    {
     "name": "stdout",
     "output_type": "stream",
     "text": [
      "10 7\n",
      "19 17 13 15 11 1 3 9 7 5\n",
      "4\n",
      "Time =  13.236679553985596\n"
     ]
    }
   ],
   "source": [
    "#재귀 함수를 이용한 이진 탐색 코드\n",
    "import time\n",
    "start_time = time.time()\n",
    "\n",
    "def binary_search(array,target,start,end):\n",
    "    if start > end:\n",
    "        return None\n",
    "    \n",
    "    mid = (start+end)//2\n",
    "    \n",
    "    if array[mid] == target:\n",
    "        return mid\n",
    "    #중간점의 값보다 찾고자 하는 값이 작은 경우 왼쪽 확인\n",
    "    elif array[mid]>target:\n",
    "        return binary_search(array,target,start,mid-1)\n",
    "    #중간점의 값보다 찾고자 하는 값이 클 경우 오른쪽 확인\n",
    "    else :\n",
    "        return binary_search(array,target,mid+1,end)\n",
    "\n",
    "\n",
    "n,target = list(map(int,input().split()))\n",
    "\n",
    "array = list(map(int,input().split()))\n",
    "#정렬을 해준다.\n",
    "array.sort()\n",
    "#이후 이진탐색\n",
    "result = binary_search(array,target,0,n-1)\n",
    "\n",
    "if result == None:\n",
    "    print(\"원소 존재 X\")\n",
    "else :\n",
    "    print(result+1)\n",
    "\n",
    "end_time = time.time()\n",
    "print(\"Time = \",end_time-start_time)"
   ]
  },
  {
   "cell_type": "code",
   "execution_count": 23,
   "metadata": {},
   "outputs": [
    {
     "name": "stdout",
     "output_type": "stream",
     "text": [
      "10 7\n",
      "1 9 5 3 7 13 11 15 17 19\n",
      "5\n",
      "Time =  13.355466604232788\n"
     ]
    }
   ],
   "source": [
    "#반복문을 이용한 이진 탐색\n",
    "#정렬 되지 않은 리스트에 대해 잘못된 정답을 내는 것을 확인 가능하다\n",
    "import time\n",
    "start_time = time.time()\n",
    "\n",
    "def binary_for_search(array,target,start,end):\n",
    "    while start <= end:\n",
    "        mid = (start+end)//2\n",
    "        \n",
    "        if array[mid] == target:\n",
    "            return mid\n",
    "        elif array[mid] > target:\n",
    "            end = mid-1\n",
    "        else :\n",
    "            start = mid+1\n",
    "            \n",
    "    return None\n",
    "\n",
    "n,target = list(map(int,input().split()))\n",
    "\n",
    "array = list(map(int,input().split()))\n",
    "\n",
    "#이후 이진탐색\n",
    "result = binary_for_search(array,target,0,n-1)\n",
    "\n",
    "if result == None:\n",
    "    print(\"원소 존재 X\")\n",
    "else :\n",
    "    print(result+1)\n",
    "\n",
    "end_time = time.time()\n",
    "print(\"Time = \",end_time-start_time)"
   ]
  },
  {
   "cell_type": "code",
   "execution_count": 24,
   "metadata": {},
   "outputs": [
    {
     "name": "stdout",
     "output_type": "stream",
     "text": [
      "10 7\n",
      "1 9 5 3 7 13 11 15 17 19\n",
      "4\n",
      "Time =  7.436190128326416\n"
     ]
    }
   ],
   "source": [
    "#반복문을 이용한 이진 탐색\n",
    "#정렬을 해준다.\n",
    "import time\n",
    "start_time = time.time()\n",
    "\n",
    "def binary_for_search(array,target,start,end):\n",
    "    while start <= end:\n",
    "        mid = (start+end)//2\n",
    "        \n",
    "        if array[mid] == target:\n",
    "            return mid\n",
    "        elif array[mid] > target:\n",
    "            end = mid-1\n",
    "        else :\n",
    "            start = mid+1\n",
    "            \n",
    "    return None\n",
    "\n",
    "n,target = list(map(int,input().split()))\n",
    "\n",
    "array = list(map(int,input().split()))\n",
    "\n",
    "#정렬\n",
    "array.sort()\n",
    "#이후 이진탐색\n",
    "result = binary_for_search(array,target,0,n-1)\n",
    "\n",
    "if result == None:\n",
    "    print(\"원소 존재 X\")\n",
    "else :\n",
    "    print(result+1)\n",
    "\n",
    "end_time = time.time()\n",
    "print(\"Time = \",end_time-start_time)"
   ]
  }
 ],
 "metadata": {
  "kernelspec": {
   "display_name": "Python 3",
   "language": "python",
   "name": "python3"
  },
  "language_info": {
   "codemirror_mode": {
    "name": "ipython",
    "version": 3
   },
   "file_extension": ".py",
   "mimetype": "text/x-python",
   "name": "python",
   "nbconvert_exporter": "python",
   "pygments_lexer": "ipython3",
   "version": "3.6.10"
  }
 },
 "nbformat": 4,
 "nbformat_minor": 4
}
