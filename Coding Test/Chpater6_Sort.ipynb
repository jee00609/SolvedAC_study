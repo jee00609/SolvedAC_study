{
 "cells": [
  {
   "cell_type": "code",
   "execution_count": 1,
   "metadata": {},
   "outputs": [
    {
     "name": "stdout",
     "output_type": "stream",
     "text": [
      "[0, 1, 2, 3, 4, 5, 6, 7, 8, 9]\n",
      "Time =  0.0009963512420654297\n"
     ]
    }
   ],
   "source": [
    "#선택 정렬\n",
    "# O(N^2)\n",
    "import time\n",
    "\n",
    "start_time = time.time()\n",
    "\n",
    "array = [7,5,9,0,3,1,6,2,4,8]\n",
    "\n",
    "for i in range(len(array)):\n",
    "    min_index = i\n",
    "    for j in range(i+1,len(array)):\n",
    "        if array[min_index] > array[j]:\n",
    "            min_index = j\n",
    "    array[i],array[min_index] = array[min_index],array[i]\n",
    "    \n",
    "print(array)\n",
    "\n",
    "end_time = time.time()\n",
    "print(\"Time = \",end_time-start_time)"
   ]
  },
  {
   "cell_type": "code",
   "execution_count": 2,
   "metadata": {},
   "outputs": [
    {
     "name": "stdout",
     "output_type": "stream",
     "text": [
      "[0, 1, 2, 3, 4, 5, 6, 7, 8, 9]\n",
      "Time =  0.00099945068359375\n"
     ]
    }
   ],
   "source": [
    "#삽입 정렬\n",
    "#O(N^2)\n",
    "#삽입 정렬 특 -> 이미 정렬이 거의 된 상황에선 퀵 정렬 보다 더 강력\n",
    "import time\n",
    "start_time = time.time()\n",
    "\n",
    "array = [7,5,9,0,3,1,6,2,4,8]\n",
    "\n",
    "for i in range(1,len(array)):\n",
    "    for j in range(i,0,-1):\n",
    "        if array[j]<array[j-1]:\n",
    "            array[j],array[j-1] = array[j-1],array[j]\n",
    "        else:\n",
    "            break\n",
    "\n",
    "print(array)\n",
    "\n",
    "end_time = time.time()\n",
    "print(\"Time = \",end_time-start_time)"
   ]
  },
  {
   "cell_type": "code",
   "execution_count": 3,
   "metadata": {},
   "outputs": [
    {
     "name": "stdout",
     "output_type": "stream",
     "text": [
      "[0, 1, 2, 3, 4, 5, 6, 7, 8, 9]\n",
      "Time =  0.0\n"
     ]
    }
   ],
   "source": [
    "#퀵정렬\n",
    "#O(NlogN)\n",
    "#피봇 을 이용한 정렬\n",
    "#이미 데이터가 거의 다 정렬이 되있을 경우 매우 느리게 동작\n",
    "import time\n",
    "start_time = time.time()\n",
    "\n",
    "array = [7,5,9,0,3,1,6,2,4,8]\n",
    "\n",
    "def quick_sort(array):\n",
    "    if len(array)<=1:\n",
    "        return array\n",
    "    \n",
    "    pivot = array[0]\n",
    "    tail = array[1:]\n",
    "    \n",
    "    \n",
    "    #for in if 구문\n",
    "    #https://velog.io/@tkdfo93/Python-Basic-%EB%A6%AC%EC%8A%A4%ED%8A%B8-for%EB%B0%98%EB%B3%B5%EB%AC%B8-%ED%95%9C%EC%A4%84%EC%97%90-%EC%9E%91%EC%84%B1-if-%EC%A1%B0%EA%B1%B4%EB%AC%B8\n",
    "    \n",
    "    ## i가 홀수 일 때 i * j 아니면 'pass'\n",
    "    #temp = [i * j if i % 2 == 1 else 'pass' for i in range(1, 5) for j in range(1, 4)]\n",
    "    #print(temp) # [1, 2, 3, 'pass', 'pass', 'pass', 3, 6, 9, 'pass', 'pass', 'pass']\n",
    "    \n",
    "    #else 필요 없을 경우\n",
    "    #temp = [i for i in range(0, 10) if i % 2 == 1]\n",
    "    #print(temp)\n",
    "    \n",
    "    left_side = [x for x in tail if x<=pivot]\n",
    "    right_side = [x for x in tail if x> pivot]\n",
    "    \n",
    "    # [pivot] 인 이유 -> 안 씌울 경우 can only concatenate list (not \"int\") to list Error 뜬다\n",
    "    return quick_sort(left_side)+ [pivot] + quick_sort(right_side)\n",
    "\n",
    "print(quick_sort(array))\n",
    "\n",
    "\n",
    "end_time = time.time()\n",
    "print(\"Time = \",end_time-start_time)"
   ]
  },
  {
   "cell_type": "code",
   "execution_count": 4,
   "metadata": {},
   "outputs": [
    {
     "name": "stdout",
     "output_type": "stream",
     "text": [
      "0 0 1 1 2 2 3 4 5 5 6 7 8 9 9 \n",
      "Time =  0.0009953975677490234\n"
     ]
    }
   ],
   "source": [
    "#계수 정렬\n",
    "#O(N+K)\n",
    "#데이터의 크기 범위가 제한되어 정수형태로 표현할 수 있을 경우에만 사용 가능 -> But 그만큼 강력\n",
    "\n",
    "import time\n",
    "start_time = time.time()\n",
    "\n",
    "array = [7,5,9,0,3,1,6,2,9,1,4,8,0,5,2]\n",
    "\n",
    "count = [0]*(max(array)+1)\n",
    "\n",
    "for i in range(len(array)):\n",
    "    #각 데이터에 해당하는 인덱스의 값 증가\n",
    "    count[array[i]] += 1\n",
    "\n",
    "#리스트에 기록된 정렬 정보 확인    \n",
    "for i in range(len(count)):\n",
    "    for j in range(count[i]):\n",
    "        #띄어쓰기를 구분으로 등장한 횟수만큼 인덱스 출력\n",
    "        print(i,end=' ')\n",
    "\n",
    "\n",
    "\n",
    "end_time = time.time()\n",
    "print()\n",
    "print(\"Time = \",end_time-start_time)"
   ]
  },
  {
   "cell_type": "code",
   "execution_count": 6,
   "metadata": {},
   "outputs": [
    {
     "name": "stdout",
     "output_type": "stream",
     "text": [
      "3\n",
      "15\n",
      "27\n",
      "22\n",
      "27 22 15 \n",
      "Time =  2.997302532196045\n"
     ]
    }
   ],
   "source": [
    "#위에서 아래로\n",
    "import time\n",
    "start_time = time.time()\n",
    "\n",
    "n = int(input())\n",
    "data = []\n",
    "\n",
    "for _ in range(n):\n",
    "    data.append(int(input()))\n",
    "    \n",
    "data.sort()\n",
    "data.reverse()\n",
    "\n",
    "for i in data:\n",
    "    print(i,end=' ')\n",
    "    \n",
    "end_time = time.time()\n",
    "print()\n",
    "print(\"Time = \",end_time-start_time)"
   ]
  },
  {
   "cell_type": "code",
   "execution_count": 8,
   "metadata": {},
   "outputs": [
    {
     "name": "stdout",
     "output_type": "stream",
     "text": [
      "3\n",
      "15\n",
      "27\n",
      "22\n",
      "27 22 15 \n",
      "Time =  2.5577902793884277\n"
     ]
    }
   ],
   "source": [
    "#위에서 아래로\n",
    "#정렬과 리버싱을 같이 하는 구문\n",
    "\n",
    "import time\n",
    "start_time = time.time()\n",
    "\n",
    "n = int(input())\n",
    "data = []\n",
    "\n",
    "for i in range(n):\n",
    "    data.append(int(input()))\n",
    "    \n",
    "data = sorted(data,reverse=True)\n",
    "\n",
    "for i in data:\n",
    "    print(i,end=' ')\n",
    "    \n",
    "end_time = time.time()\n",
    "print()\n",
    "print(\"Time = \",end_time-start_time)"
   ]
  },
  {
   "cell_type": "code",
   "execution_count": 9,
   "metadata": {},
   "outputs": [
    {
     "name": "stdout",
     "output_type": "stream",
     "text": [
      "2\n",
      "홍길동 95\n",
      "이순신 77\n",
      "이순신 홍길동 \n",
      "Time =  5.412400484085083\n"
     ]
    }
   ],
   "source": [
    "#성적이 낮은 순서로 학생 출력\n",
    "import time\n",
    "start_time = time.time()\n",
    "\n",
    "n = int(input())\n",
    "data = []\n",
    "\n",
    "for _ in range(n):\n",
    "    input_data = input().split()\n",
    "    data.append((input_data[0],int(input_data[1])))\n",
    "    \n",
    "data.sort(key = lambda x:x[1])    \n",
    "\n",
    "for i in data:\n",
    "    print(i[0],end=' ')\n",
    "\n",
    "print()\n",
    "end_time = time.time()\n",
    "print(\"Time = \",end_time-start_time)"
   ]
  },
  {
   "cell_type": "code",
   "execution_count": 10,
   "metadata": {},
   "outputs": [
    {
     "name": "stdout",
     "output_type": "stream",
     "text": [
      "2\n",
      "홍길동 95\n",
      "이순신 77\n",
      "이순신 홍길동 \n",
      "Time =  7.395613670349121\n"
     ]
    }
   ],
   "source": [
    "#성적이 낮은 순서로 학생 출력\n",
    "import time\n",
    "start_time = time.time()\n",
    "\n",
    "n = int(input())\n",
    "data = []\n",
    "\n",
    "# for _ in range(n):\n",
    "#     input_data = input().split()\n",
    "#     data,append((input_data[0],int(input_data[1])))\n",
    "\n",
    "\n",
    "for _ in range(n):\n",
    "    input_data = input().split()\n",
    "    data.append((input_data[0],int(input_data[1])))\n",
    "    \n",
    "data = sorted(data, key = lambda student : student[1])   \n",
    "\n",
    "for i in data:\n",
    "    print(i[0],end=' ')\n",
    "\n",
    "print()\n",
    "end_time = time.time()\n",
    "print(\"Time = \",end_time-start_time)"
   ]
  },
  {
   "cell_type": "markdown",
   "metadata": {},
   "source": [
    "## 정렬 속도 비교\n",
    "\n",
    "참고 사이트 : https://www.acmicpc.net/blog/view/58\n",
    "\n",
    "\n",
    "## sort 와 sorted 의 차이점\n",
    "\n",
    "sorted() => 원래의 list는 원래대로 존재하며, 새로운 list를 생성하여 정렬한다.\n",
    "sort() => 원래의 list내에서 정렬이 되는 것\n",
    "\n",
    "원래의 list를 사용해야 할 경우에는 sorted()\n",
    "조금이라도 더 속도를 추구해야할 시 sort()"
   ]
  },
  {
   "cell_type": "code",
   "execution_count": 18,
   "metadata": {},
   "outputs": [
    {
     "name": "stdout",
     "output_type": "stream",
     "text": [
      "5 3\n",
      "1 2 5 4 3\n",
      "5 5 6 6 5\n",
      "[5, 6, 6, 4, 5]\n",
      "26\n",
      "Time =  6.005845785140991\n"
     ]
    }
   ],
   "source": [
    "# 두 배열의 원소 교체\n",
    "import time\n",
    "start_time = time.time()\n",
    "\n",
    "n,k = map(int,input().split())\n",
    "\n",
    "a = list(map(int,input().split()))\n",
    "b = list(map(int,input().split()))\n",
    "\n",
    "#a 는 작은 것 부터 비교\n",
    "a.sort()\n",
    "#b 는 큰 것 부터 비교\n",
    "b.sort(reverse = True)\n",
    "\n",
    "while k > 0 :\n",
    "    for i in range(len(b)):\n",
    "        if b[i] > a[k-1]:\n",
    "            a[k-1],b[i] = b[i],a[k-1]\n",
    "            k-=1\n",
    "\n",
    "print(a)\n",
    "print(sum(a))\n",
    "            \n",
    "end_time = time.time()\n",
    "print(\"Time = \",end_time-start_time)"
   ]
  },
  {
   "cell_type": "code",
   "execution_count": 19,
   "metadata": {},
   "outputs": [
    {
     "name": "stdout",
     "output_type": "stream",
     "text": [
      "5 3\n",
      "1 2 5 4 3\n",
      "5 5 6 6 5\n",
      "[6, 6, 5, 4, 5]\n",
      "26\n",
      "Time =  6.06000018119812\n"
     ]
    }
   ],
   "source": [
    "# 두 배열의 원소 교체\n",
    "import time\n",
    "start_time = time.time()\n",
    "\n",
    "n,k = map(int,input().split())\n",
    "\n",
    "a = list(map(int,input().split()))\n",
    "b = list(map(int,input().split()))\n",
    "\n",
    "a.sort()\n",
    "b.sort(reverse = True)\n",
    "\n",
    "for i in range(k):\n",
    "    if a[i] < b[i]:\n",
    "        a[i],b[i] = b[i],a[i]\n",
    "    else:\n",
    "        break\n",
    "\n",
    "print(a)\n",
    "print(sum(a))\n",
    "\n",
    "end_time = time.time()\n",
    "print(\"Time = \",end_time-start_time)"
   ]
  }
 ],
 "metadata": {
  "kernelspec": {
   "display_name": "Python 3",
   "language": "python",
   "name": "python3"
  },
  "language_info": {
   "codemirror_mode": {
    "name": "ipython",
    "version": 3
   },
   "file_extension": ".py",
   "mimetype": "text/x-python",
   "name": "python",
   "nbconvert_exporter": "python",
   "pygments_lexer": "ipython3",
   "version": "3.6.10"
  }
 },
 "nbformat": 4,
 "nbformat_minor": 4
}
