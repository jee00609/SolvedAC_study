{
 "cells": [
  {
   "cell_type": "code",
   "execution_count": 5,
   "metadata": {},
   "outputs": [
    {
     "name": "stdout",
     "output_type": "stream",
     "text": [
      "[0, 1, 2, 3, 4, 5, 6, 7, 8, 9]\n",
      "Time =  0.0009944438934326172\n"
     ]
    }
   ],
   "source": [
    "#선택 정렬\n",
    "# O(N^2)\n",
    "import time\n",
    "\n",
    "start_time = time.time()\n",
    "\n",
    "array = [7,5,9,0,3,1,6,2,4,8]\n",
    "\n",
    "for i in range(len(array)):\n",
    "    min_index = i\n",
    "    for j in range(i+1,len(array)):\n",
    "        if array[min_index] > array[j]:\n",
    "            min_index = j\n",
    "    array[i],array[min_index] = array[min_index],array[i]\n",
    "    \n",
    "print(array)\n",
    "\n",
    "end_time = time.time()\n",
    "print(\"Time = \",end_time-start_time)"
   ]
  },
  {
   "cell_type": "code",
   "execution_count": 7,
   "metadata": {},
   "outputs": [
    {
     "name": "stdout",
     "output_type": "stream",
     "text": [
      "[0, 1, 2, 3, 4, 5, 6, 7, 8, 9]\n",
      "Time =  0.000995635986328125\n"
     ]
    }
   ],
   "source": [
    "#삽입 정렬\n",
    "#O(N^2)\n",
    "#삽입 정렬 특 -> 이미 정렬이 거의 된 상황에선 퀵 정렬 보다 더 강력\n",
    "import time\n",
    "start_time = time.time()\n",
    "\n",
    "array = [7,5,9,0,3,1,6,2,4,8]\n",
    "\n",
    "for i in range(1,len(array)):\n",
    "    for j in range(i,0,-1):\n",
    "        if array[j]<array[j-1]:\n",
    "            array[j],array[j-1] = array[j-1],array[j]\n",
    "        else:\n",
    "            break\n",
    "\n",
    "print(array)\n",
    "\n",
    "end_time = time.time()\n",
    "print(\"Time = \",end_time-start_time)"
   ]
  },
  {
   "cell_type": "code",
   "execution_count": 4,
   "metadata": {},
   "outputs": [
    {
     "name": "stdout",
     "output_type": "stream",
     "text": [
      "[0, 1, 2, 3, 4, 5, 6, 7, 8, 9]\n",
      "Time =  0.0009984970092773438\n"
     ]
    }
   ],
   "source": [
    "#퀵정렬\n",
    "#O(NlogN)\n",
    "#피봇 을 이용한 정렬\n",
    "#이미 데이터가 거의 다 정렬이 되있을 경우 매우 느리게 동작\n",
    "import time\n",
    "start_time = time.time()\n",
    "\n",
    "array = [7,5,9,0,3,1,6,2,4,8]\n",
    "\n",
    "def quick_sort(array):\n",
    "    if len(array)<=1:\n",
    "        return array\n",
    "    \n",
    "    pivot = array[0]\n",
    "    tail = array[1:]\n",
    "    \n",
    "    \n",
    "    #for in if 구문\n",
    "    #https://velog.io/@tkdfo93/Python-Basic-%EB%A6%AC%EC%8A%A4%ED%8A%B8-for%EB%B0%98%EB%B3%B5%EB%AC%B8-%ED%95%9C%EC%A4%84%EC%97%90-%EC%9E%91%EC%84%B1-if-%EC%A1%B0%EA%B1%B4%EB%AC%B8\n",
    "    \n",
    "    ## i가 홀수 일 때 i * j 아니면 'pass'\n",
    "    #temp = [i * j if i % 2 == 1 else 'pass' for i in range(1, 5) for j in range(1, 4)]\n",
    "    #print(temp) # [1, 2, 3, 'pass', 'pass', 'pass', 3, 6, 9, 'pass', 'pass', 'pass']\n",
    "    \n",
    "    #else 필요 없을 경우\n",
    "    #temp = [i for i in range(0, 10) if i % 2 == 1]\n",
    "    #print(temp)\n",
    "    \n",
    "    left_side = [x for x in tail if x<=pivot]\n",
    "    right_side = [x for x in tail if x> pivot]\n",
    "    \n",
    "    # [pivot] 인 이유 -> 안 씌울 경우 can only concatenate list (not \"int\") to list Error 뜬다\n",
    "    return quick_sort(left_side)+ [pivot] + quick_sort(right_side)\n",
    "\n",
    "print(quick_sort(array))\n",
    "\n",
    "\n",
    "end_time = time.time()\n",
    "print(\"Time = \",end_time-start_time)"
   ]
  },
  {
   "cell_type": "code",
   "execution_count": 9,
   "metadata": {},
   "outputs": [
    {
     "name": "stdout",
     "output_type": "stream",
     "text": [
      "0 0 1 1 2 2 3 4 5 5 6 7 8 9 9 \n",
      "Time =  0.0009982585906982422\n"
     ]
    }
   ],
   "source": [
    "#계수 정렬\n",
    "#O(N+K)\n",
    "#데이터의 크기 범위가 제한되어 정수형태로 표현할 수 있을 경우에만 사용 가능 -> But 그만큼 강력\n",
    "\n",
    "import time\n",
    "start_time = time.time()\n",
    "\n",
    "array = [7,5,9,0,3,1,6,2,9,1,4,8,0,5,2]\n",
    "\n",
    "count = [0]*(max(array)+1)\n",
    "\n",
    "for i in range(len(array)):\n",
    "    #각 데이터에 해당하는 인덱스의 값 증가\n",
    "    count[array[i]] += 1\n",
    "\n",
    "#리스트에 기록된 정렬 정보 확인    \n",
    "for i in range(len(count)):\n",
    "    for j in range(count[i]):\n",
    "        #띄어쓰기를 구분으로 등장한 횟수만큼 인덱스 출력\n",
    "        print(i,end=' ')\n",
    "\n",
    "\n",
    "\n",
    "end_time = time.time()\n",
    "print()\n",
    "print(\"Time = \",end_time-start_time)"
   ]
  }
 ],
 "metadata": {
  "kernelspec": {
   "display_name": "Python 3",
   "language": "python",
   "name": "python3"
  },
  "language_info": {
   "codemirror_mode": {
    "name": "ipython",
    "version": 3
   },
   "file_extension": ".py",
   "mimetype": "text/x-python",
   "name": "python",
   "nbconvert_exporter": "python",
   "pygments_lexer": "ipython3",
   "version": "3.6.10"
  }
 },
 "nbformat": 4,
 "nbformat_minor": 4
}
