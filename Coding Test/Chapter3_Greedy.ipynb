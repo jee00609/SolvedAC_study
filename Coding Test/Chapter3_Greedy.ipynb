{
 "cells": [
  {
   "cell_type": "code",
   "execution_count": 5,
   "metadata": {},
   "outputs": [
    {
     "name": "stdout",
     "output_type": "stream",
     "text": [
      "5 8 3\n",
      "2 4 5 4 6\n",
      "46\n",
      "Time :  7.65375280380249\n"
     ]
    }
   ],
   "source": [
    "#Greedy_2\n",
    "#Bad Code\n",
    "import time\n",
    "start_time = time.time()\n",
    "\n",
    "n, m, k = map(int,input().split())\n",
    "data = list(map(int,input().split()))\n",
    "\n",
    "data.sort()\n",
    "first = data[n-1]\n",
    "second = data[n-2]\n",
    "\n",
    "score = 0\n",
    "\n",
    "while True:\n",
    "    for i in range(k):\n",
    "        if m == 0 : \n",
    "            break\n",
    "        score += first\n",
    "        m-=1\n",
    "    if m == 0:\n",
    "        break\n",
    "    score += second\n",
    "    m-=1\n",
    "\n",
    "print(score)    \n",
    "\n",
    "\n",
    "\n",
    "end_time = time.time()\n",
    "print(\"Time : \",end_time-start_time)"
   ]
  },
  {
   "cell_type": "code",
   "execution_count": 12,
   "metadata": {},
   "outputs": [
    {
     "name": "stdout",
     "output_type": "stream",
     "text": [
      "5 8 3\n",
      "2 4 5 4 6\n",
      "46.0\n",
      "Time :  3.4604477882385254\n"
     ]
    }
   ],
   "source": [
    "#Greedy_2\n",
    "#Good Code\n",
    "import time\n",
    "start_time = time.time()\n",
    "\n",
    "# 5 8 3\n",
    "# 2 4 5 4 6\n",
    "# 6665 6665 6665 -----\n",
    "# [6665 666]5\n",
    "# 수열의 반복 -> 6665 의 반복\n",
    "\n",
    "n,m,k = map(int,input().split())\n",
    "data = list(map(int,input().split()))\n",
    "\n",
    "\n",
    "data.sort()\n",
    "first = data[n-1]\n",
    "second = data[n-2]\n",
    "\n",
    "#가장 큰 수가 더해지는 횟수\n",
    "count = (m/(k+1)*k) + (m%(k+1))\n",
    "\n",
    "resut= 0\n",
    "result = count*first + (m-count)*second\n",
    "\n",
    "print(result)\n",
    "\n",
    "end_time = time.time()\n",
    "print(\"Time : \",end_time-start_time)"
   ]
  },
  {
   "cell_type": "code",
   "execution_count": 9,
   "metadata": {},
   "outputs": [
    {
     "name": "stdout",
     "output_type": "stream",
     "text": [
      "2 4\n",
      "7 3 1 8\n",
      "3 3 3 4\n",
      "3\n",
      "Time :  8.469099760055542\n"
     ]
    }
   ],
   "source": [
    "#Greedy_3\n",
    "#틀린 코드\n",
    "\n",
    "import time\n",
    "start_time = time.time()\n",
    "\n",
    "n,m = map(int,input().split())\n",
    "result = 0\n",
    "\n",
    "#그저 가장 작은 수를 구함\n",
    "#문제의 맥락에 맞지 않음\n",
    "for i in range(n):\n",
    "    data = list(map(int,input().split()))\n",
    "    data.sort()\n",
    "    result = data[0]\n",
    "\n",
    "print(result)\n",
    "end_time = time.time()\n",
    "print(\"Time : \",end_time-start_time)"
   ]
  },
  {
   "cell_type": "code",
   "execution_count": 10,
   "metadata": {},
   "outputs": [
    {
     "name": "stdout",
     "output_type": "stream",
     "text": [
      "2 4\n",
      "7 3 1 8\n",
      "3 3 3 4\n",
      "3\n",
      "Time :  11.086879253387451\n"
     ]
    }
   ],
   "source": [
    "#Greedy_3\n",
    "\n",
    "import time\n",
    "start_time = time.time()\n",
    "\n",
    "n,m = map(int,input().split())\n",
    "result = 0\n",
    "for i in range(n):\n",
    "    data = list(map(int,input().split()))\n",
    "    min_data = min(data)\n",
    "    result = max(result,min_data)\n",
    "\n",
    "print(result)\n",
    "end_time = time.time()\n",
    "print(\"Time : \",end_time-start_time)"
   ]
  },
  {
   "cell_type": "code",
   "execution_count": 49,
   "metadata": {},
   "outputs": [
    {
     "name": "stdout",
     "output_type": "stream",
     "text": [
      "25 3\n",
      "result =  4\n",
      "Time :  2.709402322769165\n"
     ]
    }
   ],
   "source": [
    "#Greedy_4\n",
    "# 잘못된 코드\n",
    "\n",
    "import time\n",
    "start_time = time.time()\n",
    "\n",
    "n,k = map(int,input().split())\n",
    "count = 0\n",
    "result = 0\n",
    "\n",
    "while True:        \n",
    "    n//=k\n",
    "    count+=1\n",
    "    if n<k:\n",
    "        break\n",
    "\n",
    "if n%k!=1:\n",
    "    count+=n\n",
    "    \n",
    "result = count\n",
    "print(\"result = \",int(result))\n",
    "\n",
    "end_time = time.time()\n",
    "print(\"Time : \",end_time-start_time)"
   ]
  },
  {
   "cell_type": "code",
   "execution_count": 42,
   "metadata": {},
   "outputs": [
    {
     "name": "stdout",
     "output_type": "stream",
     "text": [
      "25 5\n",
      "2\n",
      "Time :  1.1727550029754639\n"
     ]
    }
   ],
   "source": [
    "#Greedy_4\n",
    "#정답이지만 Bad Code\n",
    "\n",
    "import time\n",
    "start_time = time.time()\n",
    "\n",
    "n,k = map(int,input().split())\n",
    "result = 0\n",
    "\n",
    "while n>=k:\n",
    "    #n 이 k 로 나누어 떨어지지 않으면 -1\n",
    "    while n%k!=0:\n",
    "        n-=1\n",
    "        result +=1\n",
    "    #k 로 나누기\n",
    "    n//=k\n",
    "    result +=1\n",
    "\n",
    "while n > 1:\n",
    "    n-=1\n",
    "    result +=1\n",
    "    \n",
    "print(result)\n",
    "    \n",
    "end_time = time.time()\n",
    "print(\"Time : \",end_time-start_time)"
   ]
  },
  {
   "cell_type": "code",
   "execution_count": 55,
   "metadata": {},
   "outputs": [
    {
     "name": "stdout",
     "output_type": "stream",
     "text": [
      "25 3\n",
      "6\n",
      "Time :  3.661591053009033\n"
     ]
    }
   ],
   "source": [
    "#Greedy_4\n",
    "\n",
    "import time\n",
    "start_time = time.time()\n",
    "\n",
    "n,k = map(int,input().split())\n",
    "result = 0\n",
    "\n",
    "while True:\n",
    "    #n 이 k로 나누어지도록 -1 처리가 이렇게 바뀜 \n",
    "    target = (n//k)*k\n",
    "    result += (n-target)\n",
    "    n = target\n",
    "    \n",
    "    if n < k :\n",
    "        break\n",
    "    \n",
    "    #나누기\n",
    "    n//=k\n",
    "    result +=1\n",
    "\n",
    "#남은 수에 대해서 -1\n",
    "result += (n-1)\n",
    "    \n",
    "print(result)\n",
    "end_time = time.time()\n",
    "print(\"Time : \",end_time-start_time)"
   ]
  }
 ],
 "metadata": {
  "kernelspec": {
   "display_name": "Python 3",
   "language": "python",
   "name": "python3"
  },
  "language_info": {
   "codemirror_mode": {
    "name": "ipython",
    "version": 3
   },
   "file_extension": ".py",
   "mimetype": "text/x-python",
   "name": "python",
   "nbconvert_exporter": "python",
   "pygments_lexer": "ipython3",
   "version": "3.6.10"
  }
 },
 "nbformat": 4,
 "nbformat_minor": 4
}
