{
 "cells": [
  {
   "cell_type": "code",
   "execution_count": 1,
   "metadata": {},
   "outputs": [
    {
     "name": "stdout",
     "output_type": "stream",
     "text": [
      "3 2\n",
      "10 3\n",
      "21 8\n",
      "0 15\n",
      "비와이\n"
     ]
    }
   ],
   "source": [
    "## 이번 문제는 친구가 추천해줘서 풀어본 문제다\n",
    "## 입력값에 상관없이 오로지 버스 운전수의 이름만 출력하면 되는 아주 쉬운 문제\n",
    "## 비와이가 누구지?\n",
    "\n",
    "N, K = map(int, input().split())\n",
    "\n",
    "for _ in range(N):\n",
    "    A,B = map(int, input().split())\n",
    "    \n",
    "print(\"비와이\")"
   ]
  }
 ],
 "metadata": {
  "kernelspec": {
   "display_name": "Python 3",
   "language": "python",
   "name": "python3"
  },
  "language_info": {
   "codemirror_mode": {
    "name": "ipython",
    "version": 3
   },
   "file_extension": ".py",
   "mimetype": "text/x-python",
   "name": "python",
   "nbconvert_exporter": "python",
   "pygments_lexer": "ipython3",
   "version": "3.6.10"
  }
 },
 "nbformat": 4,
 "nbformat_minor": 4
}
