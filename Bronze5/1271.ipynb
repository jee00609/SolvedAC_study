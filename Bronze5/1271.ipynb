{
 "cells": [
  {
   "cell_type": "code",
   "execution_count": 8,
   "metadata": {},
   "outputs": [
    {
     "name": "stdout",
     "output_type": "stream",
     "text": [
      "10000000 123\n",
      "81300\n",
      "100\n"
     ]
    }
   ],
   "source": [
    "import math\n",
    "\n",
    "class Solution:\n",
    "    def solution(self, Nums):\n",
    "        money,person = map(int, Nums.split())\n",
    "        \n",
    "        result1 = money/person\n",
    "        result2 = money%person\n",
    "        print(int(result1))\n",
    "        print(result2)\n",
    "        \n",
    "        \n",
    "        \n",
    "inputs = input()        \n",
    "test = Solution()\n",
    "test.solution(inputs)"
   ]
  },
  {
   "cell_type": "code",
   "execution_count": 16,
   "metadata": {},
   "outputs": [
    {
     "name": "stdout",
     "output_type": "stream",
     "text": [
      "120 10\n",
      "12\n",
      "0\n"
     ]
    }
   ],
   "source": [
    "import math\n",
    "\n",
    "\n",
    "inputs = input()        \n",
    "\n",
    "if inputs != None:\n",
    "    money,person = map(int, inputs.split())\n",
    "\n",
    "    result1 = money/person\n",
    "    result2 = money%person\n",
    "    print(int(result1))\n",
    "    print(int(result2))"
   ]
  },
  {
   "cell_type": "code",
   "execution_count": 17,
   "metadata": {},
   "outputs": [
    {
     "name": "stdout",
     "output_type": "stream",
     "text": [
      "120 10\n",
      "12\n",
      "0\n"
     ]
    }
   ],
   "source": [
    "n, m = map(int, input().split())\n",
    "print(n//m)\n",
    "print(n%m)"
   ]
  },
  {
   "cell_type": "markdown",
   "metadata": {},
   "source": [
    "//\n",
    "\n",
    "2048 // 123 -> 16\n",
    "\n",
    "33 // 5 -> 6\n",
    "\n",
    "소수점 이하의 수를 모두 버리고 몫만 나타낼 때 ‘//’ 연산자를 사용한다.\n",
    "\n",
    "\n",
    "\n",
    "출처: https://includestdio.tistory.com/16 [includestdio]"
   ]
  },
  {
   "cell_type": "markdown",
   "metadata": {},
   "source": [
    "/\n",
    "\n",
    "2048 / 123 -> 16.650406504065042\n",
    "\n",
    "33 / 5 -> 6.6\n",
    "\n",
    "정확히 나누어 떨어지지 않는 경우, 파이썬에서는 소수점 15자리 까지 표현한다.\n"
   ]
  },
  {
   "cell_type": "markdown",
   "metadata": {},
   "source": [
    "<!-- /\n",
    "\n",
    ">>> 2048 / 123\n",
    "\n",
    "16.650406504065042\n",
    "\n",
    "정확히 나누어 떨어지지 않는 경우, 파이썬에서는 소수점 15자리 까지 표현한다. -->"
   ]
  }
 ],
 "metadata": {
  "kernelspec": {
   "display_name": "Python 3",
   "language": "python",
   "name": "python3"
  },
  "language_info": {
   "codemirror_mode": {
    "name": "ipython",
    "version": 3
   },
   "file_extension": ".py",
   "mimetype": "text/x-python",
   "name": "python",
   "nbconvert_exporter": "python",
   "pygments_lexer": "ipython3",
   "version": "3.6.10"
  }
 },
 "nbformat": 4,
 "nbformat_minor": 4
}
