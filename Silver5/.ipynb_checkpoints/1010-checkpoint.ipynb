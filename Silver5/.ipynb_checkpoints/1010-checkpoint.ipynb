{
 "cells": [
  {
   "cell_type": "markdown",
   "metadata": {},
   "source": [
    "이번 문제는 다리 놓기 라는 문제다.\n",
    "\n",
    "백준 사이트의 문제나 코딩 테스트들의 문제들 대부분이 기본적인 수학적 지식이 있어야 매우 쉽게 푸는 것 같다.\n",
    "\n",
    "이 말을 꺼내는 이유는 내가 문과 학생으로서 수학 문제를 푸는 것을 매우 힘들어했기 때문이고,\n",
    "\n",
    "대신 수학 공식을 매우 열심히 외웠기 때문이다.\n",
    "\n",
    "이번 문제는 수학 공식의 \"조합\" 공식을 외웠으면 매우 쉽게 풀 수 있는 문제다.\n",
    "\n",
    "다행히 경우의 수 문제는 확률과 통계에서 나오는 문제였고, 조합의 공식은 nCr 이다.\n",
    "\n",
    "nCr 을 어떻게 하면 구현할 수 있을까?\n",
    "\n",
    "https://brownbears.tistory.com/459 를 참고했는데 이해가 가지 않는 코드부분에 주석을 더 붙였다."
   ]
  },
  {
   "cell_type": "code",
   "execution_count": 5,
   "metadata": {},
   "outputs": [
    {
     "name": "stdout",
     "output_type": "stream",
     "text": [
      "3\n",
      "2 2\n",
      "1 5\n",
      "13 29\n",
      "1\n",
      "5\n",
      "67863915\n"
     ]
    }
   ],
   "source": [
    "# 성공!\n",
    "\n",
    "import operator as op\n",
    "from functools import reduce\n",
    "\n",
    "def nCr(n, r):\n",
    "    if n < 1 or r < 0 or n < r:\n",
    "        raise ValueError\n",
    "    \n",
    "    # nCr == nCn-r\n",
    "    r = min(r, n-r)\n",
    "    \n",
    "    # 마지막 인자로 1 안 넣어주면 오류 생김\n",
    "    # reduce() of empty sequence with no initial value\n",
    "    numerator = reduce(op.mul, range(n, n-r, -1), 1)\n",
    "    \n",
    "    denominator = reduce(op.mul, range(1, r+1), 1)\n",
    "    \n",
    "    return numerator // denominator\n",
    "\n",
    "TestCase = int(input())\n",
    "\n",
    "ResultList = []\n",
    "\n",
    "for _ in range(TestCase):\n",
    "    N,M = map(int, input().split())\n",
    "    result = nCr(M,N)\n",
    "    ResultList.append(result)\n",
    "    \n",
    "for i in ResultList:\n",
    "    print(i)\n"
   ]
  }
 ],
 "metadata": {
  "kernelspec": {
   "display_name": "Python 3",
   "language": "python",
   "name": "python3"
  },
  "language_info": {
   "codemirror_mode": {
    "name": "ipython",
    "version": 3
   },
   "file_extension": ".py",
   "mimetype": "text/x-python",
   "name": "python",
   "nbconvert_exporter": "python",
   "pygments_lexer": "ipython3",
   "version": "3.6.10"
  }
 },
 "nbformat": 4,
 "nbformat_minor": 4
}
