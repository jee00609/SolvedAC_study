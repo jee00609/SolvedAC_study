{
 "cells": [
  {
   "cell_type": "code",
   "execution_count": null,
   "metadata": {},
   "outputs": [],
   "source": [
    "def fibonacci(n) :\n",
    "    if n == 0 :\n",
    "        print(\"hey 0\")\n",
    "        return 0\n",
    "    elif n == 1 :\n",
    "        print(\"hello 1\")\n",
    "        return 1\n",
    "    else:\n",
    "        return fibonacci(n-1)+fibonacci(n-2)\n",
    "T = int(input())   \n",
    "fibonacci(T)"
   ]
  },
  {
   "cell_type": "code",
   "execution_count": null,
   "metadata": {},
   "outputs": [],
   "source": [
    "## 시간 초과\n",
    "## 딱봐도 이렇게 풀면 안될 것 같긴 했다.\n",
    "## 테스트로 50을 돌려봤더니 참 재밌었다. 알고리즘이 딱봐도 다이나믹 프로그래밍 그건 것 같은디...\n",
    "\n",
    "def fibonacci(n) :\n",
    "    if n == 0 :\n",
    "        resultList[0] = resultList[0]+1\n",
    "        return 0\n",
    "    elif n == 1 :\n",
    "        resultList[1] = resultList[1]+1\n",
    "        return 1\n",
    "    else:\n",
    "        return fibonacci(n-1)+fibonacci(n-2)\n",
    "\n",
    "\n",
    "resultList = [0,0]\n",
    "\n",
    "myList = []\n",
    "\n",
    "T = int(input())\n",
    "\n",
    "for _ in range(T):\n",
    "    userInput = int(input())\n",
    "    fibonacci(userInput)\n",
    "    myList.append(resultList)\n",
    "    resultList = [0,0]\n",
    "\n",
    "for i in myList:\n",
    "    v1 = i[0]\n",
    "    v2 = i[1]\n",
    "    print(v1,\" \",v2)"
   ]
  },
  {
   "cell_type": "markdown",
   "metadata": {},
   "source": [
    "다이나믹 프로그램의 기본 풀이 방식\n",
    "\n",
    "내 생각에는 노가다로 직접 테스트 해보면 규칙이 보일 것이다.\n",
    "\n",
    "실제로\n",
    "input,zero,one 이 순서대로 할 시\n",
    "[0,1,0]\n",
    "[1,0,1]\n",
    "[2,1,1]\n",
    "[3,1,2]\n",
    "[4,2,3]\n",
    "[5,3,5]\n",
    "[6,5,8]\n",
    "[7,8,13]\n",
    "대충 이렇게 나온다. \n",
    "이렇게 보니 대충 피보나치 수열이 보이기 시작한다.\n",
    "\n",
    "# 0 1 1 2 3 5 8 13 ...\n",
    "\n",
    "0 에서 피보나치 수열이 보이기 시작하는 지점은 input 0\n",
    "1 에서 피보나치 수열이 보이기 시작하는 지점은 input 1"
   ]
  },
  {
   "cell_type": "code",
   "execution_count": 7,
   "metadata": {},
   "outputs": [
    {
     "name": "stdout",
     "output_type": "stream",
     "text": [
      "3\n",
      "0\n",
      "1\n",
      "3\n",
      "1   0\n",
      "0   1\n",
      "1   2\n"
     ]
    }
   ],
   "source": [
    "## 출력 형식이 잘못됬다고 한다.\n",
    "## 대체 이건 뭔 문제지...\n",
    "\n",
    "def fib(n):\n",
    "    a, b = 1, 1\n",
    "    for _ in range(n):\n",
    "        a, b = b, a + b\n",
    "    return a\n",
    "\n",
    "def solve(n):\n",
    "    if n == 0:\n",
    "        return [1,0]\n",
    "    elif n ==1:\n",
    "        return [0,1]\n",
    "    else:\n",
    "        v1 = fib(n-2)\n",
    "        v2 = fib(n-1)\n",
    "        return [v1,v2]\n",
    "    \n",
    "T = int(input())      \n",
    "myList = []\n",
    "\n",
    "for _ in range(T):\n",
    "    userInput = int(input())\n",
    "    myList.append(solve(userInput))\n",
    "    \n",
    "for i in myList:\n",
    "    print(i[0],\" \",i[1])"
   ]
  },
  {
   "cell_type": "code",
   "execution_count": 11,
   "metadata": {},
   "outputs": [
    {
     "name": "stdout",
     "output_type": "stream",
     "text": [
      "3\n",
      "0\n",
      "1\n",
      "3\n",
      "1 0\n",
      "0 1\n",
      "1 2\n"
     ]
    }
   ],
   "source": [
    "## 29076kb 68ms\n",
    "## 성공!!\n",
    "## 확실히 출력 공백이 뭔가 다르다. 위에건 뭔가 \\t 된 느낌?\n",
    "\n",
    "def fib(n):\n",
    "    a, b = 1, 1\n",
    "    for _ in range(n):\n",
    "        a, b = b, a + b\n",
    "    return a\n",
    "\n",
    "def solve(n):\n",
    "    if n == 0:\n",
    "        return [1,0]\n",
    "    elif n ==1:\n",
    "        return [0,1]\n",
    "    else:\n",
    "        v1 = fib(n-2)\n",
    "        v2 = fib(n-1)\n",
    "        return [v1,v2]\n",
    "    \n",
    "T = int(input())      \n",
    "myList = []\n",
    "\n",
    "for _ in range(T):\n",
    "    userInput = int(input())\n",
    "    myList.append(solve(userInput))\n",
    "    \n",
    "for i in myList:\n",
    "    print(\"%d %d\"%(i[0],i[1]))"
   ]
  }
 ],
 "metadata": {
  "kernelspec": {
   "display_name": "Python 3",
   "language": "python",
   "name": "python3"
  },
  "language_info": {
   "codemirror_mode": {
    "name": "ipython",
    "version": 3
   },
   "file_extension": ".py",
   "mimetype": "text/x-python",
   "name": "python",
   "nbconvert_exporter": "python",
   "pygments_lexer": "ipython3",
   "version": "3.6.10"
  }
 },
 "nbformat": 4,
 "nbformat_minor": 4
}
