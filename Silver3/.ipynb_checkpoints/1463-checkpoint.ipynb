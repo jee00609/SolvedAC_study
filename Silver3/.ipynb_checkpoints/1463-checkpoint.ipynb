{
 "cells": [
  {
   "cell_type": "markdown",
   "metadata": {},
   "source": [
    "다이나믹 프로그래밍 정리\n",
    "\n",
    "큰 문제를 작은 문제로 나눠서 푸는 알고리즘인데, 코딩테스트에서 자주 출제되는 알고리즘 기법입니다.\n",
    "\n",
    "DP 속성\n",
    "   * Overlapping Subproblem (부분 문제가 겹친다.)\n",
    "   * Optimal Substructure (최적 부분 구조)\n",
    " \n",
    "각 숫자에서 소요되는 최수 수는 이전 단계 + 1 라는 것을 이용해 풀자\n",
    "\n",
    "처음 풀려고 할 떄 재귀로 풀려고 했는데 너무 이상해서 내가 모르는 방법이 있나보다 생각했는데\n",
    "역시나 피보나치 수열 할 때 나오는 다이나믹 프로그래밍 이라는 방법이 있더라\n",
    "\n",
    "새로운걸 알아나가는 건 좋지만 이걸 왜 지금 알았을까?\n",
    "\n",
    "지금이라도 알게되서 다행이다."
   ]
  },
  {
   "cell_type": "code",
   "execution_count": 16,
   "metadata": {},
   "outputs": [
    {
     "name": "stdout",
     "output_type": "stream",
     "text": [
      "10\n",
      "3\n"
     ]
    }
   ],
   "source": [
    "## Bottom-Up\n",
    "## 틀렸다 왜지????\n",
    "userInput = int(input())\n",
    "\n",
    "dp=[0 for _ in range(userInput+1)]\n",
    "\n",
    "for i in range(2,userInput+1):\n",
    "    dp[i]= dp[i-1]+1\n",
    "    if i%2 == 0 and dp[i] > dp[i//2]+1:\n",
    "        dp[i]=dp[i//3]+1 ## 나누기를 3으로 하면 어찌하니...\n",
    "        \n",
    "    if i%3 == 0 and dp[i] > dp[i//3]+1:\n",
    "        dp[i]=dp[i//3]+1\n",
    "        \n",
    "print(dp[userInput])"
   ]
  },
  {
   "cell_type": "code",
   "execution_count": 15,
   "metadata": {},
   "outputs": [
    {
     "name": "stdout",
     "output_type": "stream",
     "text": [
      "10\n",
      "3\n"
     ]
    }
   ],
   "source": [
    "## Bottom-Up\n",
    "## 성공!\n",
    "## 37324kb 564ms\n",
    "\n",
    "userInput = int(input())\n",
    "\n",
    "dp=[0 for _ in range(userInput+1)]\n",
    "\n",
    "for i in range(2,userInput+1):\n",
    "    dp[i]= dp[i-1]+1\n",
    "        \n",
    "    if i%3 == 0 and dp[i] > dp[i//3]+1:\n",
    "        dp[i]=dp[i//3]+1\n",
    "        \n",
    "    if i%2 == 0 and dp[i] > dp[i//2]+1:\n",
    "        dp[i]=dp[i//2]+1\n",
    "        \n",
    "print(dp[userInput])"
   ]
  }
 ],
 "metadata": {
  "kernelspec": {
   "display_name": "Python 3",
   "language": "python",
   "name": "python3"
  },
  "language_info": {
   "codemirror_mode": {
    "name": "ipython",
    "version": 3
   },
   "file_extension": ".py",
   "mimetype": "text/x-python",
   "name": "python",
   "nbconvert_exporter": "python",
   "pygments_lexer": "ipython3",
   "version": "3.6.10"
  }
 },
 "nbformat": 4,
 "nbformat_minor": 4
}
