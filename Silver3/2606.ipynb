{
 "cells": [
  {
   "cell_type": "markdown",
   "metadata": {},
   "source": [
    "이번 문제는 드디어 어떤 알고리즘을 사용해야할지 감이 오는 문제였다.\n",
    "\n",
    "DFS 혹은 BFS 문제일 것 같다.\n",
    "\n",
    "물론 이제 이 알고리즘이란 걸 알지만 어떻게 해야 잘 만들지는 아직도 모르겠다.\n",
    "\n",
    "내가 볼 때 최대 BFS 로 만드는게 좋아보인다.\n",
    "\n",
    "생각해보니 이거 Silver2 에서 푼 문제랑 비슷한 것 같아 코드만 살짝 고쳐봤다."
   ]
  },
  {
   "cell_type": "code",
   "execution_count": 7,
   "metadata": {},
   "outputs": [
    {
     "name": "stdout",
     "output_type": "stream",
     "text": [
      "7\n",
      "6\n",
      "1 2\n",
      "2 3\n",
      "1 5\n",
      "5 2\n",
      "5 6\n",
      "4 7\n",
      "4\n"
     ]
    }
   ],
   "source": [
    "## 성곧!\n",
    "## 29076kb 72ms\n",
    "\n",
    "def bfs(v):\n",
    "    queue = [v]\n",
    "    visit[v] = 1\n",
    "    virus = 0\n",
    "    \n",
    "    while queue:\n",
    "        v = queue.pop(0)\n",
    "        virus+=1\n",
    "        for i in range(1,comNum+1):\n",
    "            if visit[i]==0 and computer[v][i]==1:\n",
    "                queue.append(i)\n",
    "                visit[i]=1\n",
    "    virus-=1            \n",
    "    print(virus)\n",
    "    \n",
    "comNum = int(input())\n",
    "edge = int(input())\n",
    "\n",
    "computer = [[0]*(comNum+1) for i in range(comNum+1)]\n",
    "visit = [0 for i in range(comNum+1)]\n",
    "\n",
    "i = 0\n",
    "while i < edge:\n",
    "    a,b = map(int, input().split())\n",
    "    computer[a][b]=computer[b][a]=1\n",
    "    i += 1\n",
    "    \n",
    "bfs(1) # 가장 첫번째 컴퓨터로 시작해야하기 때문"
   ]
  }
 ],
 "metadata": {
  "kernelspec": {
   "display_name": "Python 3",
   "language": "python",
   "name": "python3"
  },
  "language_info": {
   "codemirror_mode": {
    "name": "ipython",
    "version": 3
   },
   "file_extension": ".py",
   "mimetype": "text/x-python",
   "name": "python",
   "nbconvert_exporter": "python",
   "pygments_lexer": "ipython3",
   "version": "3.6.10"
  }
 },
 "nbformat": 4,
 "nbformat_minor": 4
}
