{
 "cells": [
  {
   "cell_type": "markdown",
   "metadata": {},
   "source": [
    "이 문제는 등차수열의 합 공식을 이용하면 매우 쉽게 풀린다.\n",
    "\n",
    "등차수열의 합 공식을 알고 있었으나, 갑자기 이를 어떻게 증명할 수 있는가에 대해 생각하다가 머리가 이상해져서 몇시간을 헤맸다.\n",
    "\n",
    "N은 길이가 L인 연속된 숫자의 합이다.\n",
    "\n",
    "이를 식으로 나타내면\n",
    "\n",
    "N\n",
    "= X + (X+1) + (X+2) + ... + (X+L-1)\n",
    "\n",
    "= LX + (1+2+...+L-1)\n",
    "\n",
    "= LX + (L-1)*(1+L-1)/2\n",
    "\n",
    "= LX + L(L-1)/2\n",
    "\n",
    "임을 알 수 있다.\n",
    "\n",
    "이 때 L(L-1)/2 을 k라고 하자\n",
    "\n",
    "우리는 여기서 X 를 알아내야 한다.\n",
    "\n",
    "N = LX+K\n",
    "\n",
    "X = N-K/L\n",
    "\n",
    "이 된다.\n",
    "  \n",
    "여기서 X 는 문제에서 말했듯이 '음이 아닌 정수' 가 되어야 한다.\n",
    "\n",
    "이를 만족시키는 X 를 출력하면 된다.\n",
    "\n",
    "이번 문제는 혼자서 풀지 못한 문제이기 때문에 다시 한번 찬찬히 생각해봐야할듯 싶다."
   ]
  },
  {
   "cell_type": "code",
   "execution_count": 5,
   "metadata": {},
   "outputs": [
    {
     "name": "stdout",
     "output_type": "stream",
     "text": [
      "18 2\n",
      "5 6 7 "
     ]
    }
   ],
   "source": [
    "## 성공!\n",
    "## 28776KB 76ms\n",
    "\n",
    "## 첫째 줄에 N과 L이 주어진다. N은 1,000,000,000보다 작거나 같은 자연수이고, L은 2보다 크거나 같고, 100보다 작거나 같은 자연수이다.\n",
    "N,L = map(int, input().split())\n",
    "\n",
    "x = -1\n",
    "length = 0\n",
    "\n",
    "for i in range(L,101):\n",
    "    k = (i*(i-1))/2\n",
    "    if (N-k)%i == 0 and (N-k)//i>=0:\n",
    "        x = (N-k)//i\n",
    "        length = i\n",
    "        break\n",
    "        \n",
    "if x==-1:\n",
    "    print(\"-1\")\n",
    "\n",
    "else:\n",
    "    for i in range(length):\n",
    "        print(round(x+i),end=' ')"
   ]
  }
 ],
 "metadata": {
  "kernelspec": {
   "display_name": "Python 3",
   "language": "python",
   "name": "python3"
  },
  "language_info": {
   "codemirror_mode": {
    "name": "ipython",
    "version": 3
   },
   "file_extension": ".py",
   "mimetype": "text/x-python",
   "name": "python",
   "nbconvert_exporter": "python",
   "pygments_lexer": "ipython3",
   "version": "3.6.10"
  }
 },
 "nbformat": 4,
 "nbformat_minor": 4
}
