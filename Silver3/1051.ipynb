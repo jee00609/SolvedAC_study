{
 "cells": [
  {
   "cell_type": "markdown",
   "metadata": {},
   "source": [
    "처음 문제를 봤을 땐 이걸 어찌 푸나 고민을 많이 했다.\n",
    "현재 내가 성공한 코드는 뭔가 뭔가... 무식하게 짰고 느린 것 같다.\n",
    "\n",
    "이 문제의 핵심은 정사각형이란 것이다.\n",
    "정사각형이기 위해선 어떤 직사각형이든 간에 가장 작은 변의 길이가 기준이 된다.\n",
    "\n",
    "이를 이용해서 limit 을 잡고 점을 검사해주면 된다.\n",
    "내걸 채점하는데 매우 오래걸렸기에 이걸 간단히 푼 사람 것을 같이 찾아봐야겠다."
   ]
  },
  {
   "cell_type": "code",
   "execution_count": 7,
   "metadata": {},
   "outputs": [
    {
     "name": "stdout",
     "output_type": "stream",
     "text": [
      "3 5\n",
      "[[0, 0, 0, 0, 0], [0, 0, 0, 0, 0], [0, 0, 0, 0, 0]]\n",
      "42101\n",
      "22100\n",
      "22101\n",
      "[[4, 2, 1, 0, 1], [2, 2, 1, 0, 0], [2, 2, 1, 0, 1]]\n",
      "9\n"
     ]
    }
   ],
   "source": [
    "## 성공!\n",
    "## 28776KB 116MS\n",
    "\n",
    "N,M = map(int, input().split())\n",
    "\n",
    "matrix = [[0 for j in range(M)]for i in range(N)]\n",
    "## pirnt(matrix)\n",
    "\n",
    "k = 0\n",
    "result = 0\n",
    "\n",
    "for i in range(N):\n",
    "    userInput = input()\n",
    "    for j in userInput:\n",
    "        matrix[i][k]=int(j)\n",
    "        k+=1\n",
    "    k=0\n",
    "\n",
    "    \n",
    "limit = N if N<=M else M## 정사각형의 한계를 잡아준다.\n",
    "## pirnt(matrix)\n",
    "\n",
    "for i in range(N):\n",
    "    for j in range(M):\n",
    "        \n",
    "        for len in range(limit):\n",
    "            if i+len<N and j+len<M:\n",
    "                vertex1 = matrix[i][j]\n",
    "                vertex2 = matrix[i][j+len]\n",
    "                vertex3 = matrix[i+len][j]\n",
    "                vertex4 = matrix[i+len][j+len]\n",
    "            \n",
    "                if vertex1 == vertex2 == vertex3 == vertex4: ## 꼭짓점이 모두 같다면?\n",
    "                    result = max(result,(len+1)**2)\n",
    "                \n",
    "print(result)"
   ]
  },
  {
   "cell_type": "code",
   "execution_count": 8,
   "metadata": {},
   "outputs": [
    {
     "name": "stdout",
     "output_type": "stream",
     "text": [
      "3 5\n",
      "42101\n",
      "22100\n",
      "22101\n",
      "9\n"
     ]
    }
   ],
   "source": [
    "## scvhero 유저님이 푸신 방법\n",
    "## 29380kb 72ms\n",
    "\n",
    "R=range\n",
    "r,c=map(int,input().split())\n",
    "m=[[*map(int,input())]for i in R(r)] ## 어떻게 이렇게 짠거지?\n",
    "print(max(v+1 for v in R(0,min(r,c))for x in R(r-v)for y in R(c-v)if m[x][y]==m[x+v][y+v]==m[x+v][y]==m[x][y+v])**2)"
   ]
  }
 ],
 "metadata": {
  "kernelspec": {
   "display_name": "Python 3",
   "language": "python",
   "name": "python3"
  },
  "language_info": {
   "codemirror_mode": {
    "name": "ipython",
    "version": 3
   },
   "file_extension": ".py",
   "mimetype": "text/x-python",
   "name": "python",
   "nbconvert_exporter": "python",
   "pygments_lexer": "ipython3",
   "version": "3.6.10"
  }
 },
 "nbformat": 4,
 "nbformat_minor": 4
}
