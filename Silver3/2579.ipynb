{
 "cells": [
  {
   "cell_type": "code",
   "execution_count": null,
   "metadata": {},
   "outputs": [],
   "source": [
    "## 런타임 에러\n",
    "## 틀림!!!\n",
    "## 왜애애애애애애애애\n",
    "\n",
    "num = int(input())\n",
    "\n",
    "stairs = [0 for i in range(num)]\n",
    "dp = [0 for i in range(num)]\n",
    "for i in range(num):\n",
    "    userInput = int(input())\n",
    "    stairs[i] = userInput\n",
    "\n",
    "    \n",
    "dp[0] = stairs[0]\n",
    "dp[1] = max(stairs[0]+stairs[1],stairs[1])\n",
    "dp[2] = max(stairs[0]+stairs[2],stairs[1]+stairs[2])\n",
    "    \n",
    "i = 3\n",
    "while i<num:\n",
    "    dp[i] = max(dp[i-3]+stairs[i-1]+stairs[i],dp[i-2]+stairs[i])\n",
    "    i+=1\n",
    "    \n",
    "print(dp[num-1])"
   ]
  },
  {
   "cell_type": "code",
   "execution_count": 26,
   "metadata": {},
   "outputs": [
    {
     "name": "stdout",
     "output_type": "stream",
     "text": [
      "2\n",
      "6\n",
      "10\n",
      "16\n"
     ]
    }
   ],
   "source": [
    "## 성공!\n",
    "## 29076KB 72ms\n",
    "\n",
    "num = int(input())\n",
    "\n",
    "stairs = [0 for i in range(num)]\n",
    "dp = [0 for i in range(num)]\n",
    "for i in range(num):\n",
    "    userInput = int(input())\n",
    "    stairs[i] = userInput\n",
    "\n",
    "\n",
    "if num == 1:\n",
    "    dp[0] = stairs[0]\n",
    "    \n",
    "elif num ==2:\n",
    "    dp[0] = stairs[0]\n",
    "    dp[1] = max(stairs[0]+stairs[1],stairs[1])\n",
    "\n",
    "elif num >=3:\n",
    "    dp[0] = stairs[0]\n",
    "    dp[1] = max(stairs[0]+stairs[1],stairs[1])\n",
    "    dp[2] = max(stairs[0]+stairs[2],stairs[1]+stairs[2])\n",
    "    \n",
    "    i = 3\n",
    "    while i<num:\n",
    "        dp[i] = max(dp[i-3]+stairs[i-1]+stairs[i],dp[i-2]+stairs[i])\n",
    "        i+=1\n",
    "    \n",
    "print(dp[num-1])"
   ]
  },
  {
   "cell_type": "markdown",
   "metadata": {},
   "source": [
    "6\n",
    "10\n",
    "20\n",
    "15\n",
    "25\n",
    "10\n",
    "20"
   ]
  }
 ],
 "metadata": {
  "kernelspec": {
   "display_name": "Python 3",
   "language": "python",
   "name": "python3"
  },
  "language_info": {
   "codemirror_mode": {
    "name": "ipython",
    "version": 3
   },
   "file_extension": ".py",
   "mimetype": "text/x-python",
   "name": "python",
   "nbconvert_exporter": "python",
   "pygments_lexer": "ipython3",
   "version": "3.6.10"
  }
 },
 "nbformat": 4,
 "nbformat_minor": 4
}
