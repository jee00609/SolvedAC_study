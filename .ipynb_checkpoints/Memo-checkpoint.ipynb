{
 "cells": [
  {
   "cell_type": "markdown",
   "metadata": {},
   "source": [
    "## 소수 구하기 (에라토스테네스의 체)"
   ]
  },
  {
   "cell_type": "code",
   "execution_count": 11,
   "metadata": {},
   "outputs": [
    {
     "data": {
      "text/plain": [
       "[2, 3, 5, 7, 11, 13]"
      ]
     },
     "execution_count": 11,
     "metadata": {},
     "output_type": "execute_result"
    }
   ],
   "source": [
    "def prime_list(n):\n",
    "    # 에라토스테네스의 체 초기화: n개 요소에 True 설정(소수로 간주)\n",
    "    sieve = [True] * n\n",
    "\n",
    "    #m = n 의 제곱근\n",
    "    m = int(n ** 0.5)\n",
    "    for i in range(2, m + 1):\n",
    "        if sieve[i] == True:           # i가 소수인 경우 \n",
    "            for j in range(i+i, n, i): # i이후 i의 배수들을 False 판정\n",
    "                sieve[j] = False\n",
    "\n",
    "    # 소수 목록 산출\n",
    "    return [i for i in range(2, n) if sieve[i] == True]\n",
    "\n",
    "\n",
    "prime_list(16)"
   ]
  },
  {
   "cell_type": "code",
   "execution_count": 12,
   "metadata": {},
   "outputs": [
    {
     "data": {
      "text/plain": [
       "[2, 3, 5, 7, 11, 13]"
      ]
     },
     "execution_count": 12,
     "metadata": {},
     "output_type": "execute_result"
    }
   ],
   "source": [
    "#math 함수 이용\n",
    "import math\n",
    "\n",
    "def prime_list(n):\n",
    "    # 에라토스테네스의 체 초기화: n개 요소에 True 설정(소수로 간주)\n",
    "    sieve = [True] * n\n",
    "    \n",
    "    #m = n 의 제곱근\n",
    "    m = int(math.sqrt(n))\n",
    "    for i in range(2, m + 1):\n",
    "        if sieve[i] == True:           # i가 소수인 경우 \n",
    "            for j in range(i+i, n, i): # i이후 i의 배수들을 False 판정\n",
    "                sieve[j] = False\n",
    "\n",
    "    # 소수 목록 산출\n",
    "    return [i for i in range(2, n) if sieve[i] == True]\n",
    "\n",
    "\n",
    "prime_list(16)"
   ]
  },
  {
   "cell_type": "markdown",
   "metadata": {},
   "source": [
    "## 피보나치 수열"
   ]
  },
  {
   "cell_type": "code",
   "execution_count": null,
   "metadata": {},
   "outputs": [],
   "source": [
    "def fib(n):\n",
    "    if n==1 or n==2:\n",
    "        return 1\n",
    "    else:\n",
    "        return fib(n-1) + fib(n-2)"
   ]
  }
 ],
 "metadata": {
  "kernelspec": {
   "display_name": "Python 3",
   "language": "python",
   "name": "python3"
  },
  "language_info": {
   "codemirror_mode": {
    "name": "ipython",
    "version": 3
   },
   "file_extension": ".py",
   "mimetype": "text/x-python",
   "name": "python",
   "nbconvert_exporter": "python",
   "pygments_lexer": "ipython3",
   "version": "3.6.10"
  }
 },
 "nbformat": 4,
 "nbformat_minor": 4
}
