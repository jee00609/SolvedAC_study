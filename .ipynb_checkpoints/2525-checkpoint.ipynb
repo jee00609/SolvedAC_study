{
 "cells": [
  {
   "cell_type": "code",
   "execution_count": 14,
   "metadata": {},
   "outputs": [
    {
     "name": "stdout",
     "output_type": "stream",
     "text": [
      "14 20\n",
      "80\n",
      "15 40\n"
     ]
    }
   ],
   "source": [
    "## 결과 틀림!\n",
    "\n",
    "## (단, 시는 0부터 23까지의 정수, 분은 0부터 59까지의 정수이다. 디지털 시계는 23시 59분에서 1분이 지나면 0시 0분이 된다.)\n",
    "## 이부분을 제대로 읽지 않고 문제를 품\n",
    "## 문제를 잘 읽도록 하자\n",
    "\n",
    "hour, minute = map(int, input().split())\n",
    "second = int(input())\n",
    "\n",
    "date = minute + second\n",
    "\n",
    "hourPlus = date//60\n",
    "minutePlus = date%60\n",
    "\n",
    "NowH = hour+hourPlus\n",
    "NowM = minutePlus\n",
    "\n",
    "result = str(NowH)+\" \"+str(NowM)\n",
    "\n",
    "print(result)"
   ]
  },
  {
   "cell_type": "code",
   "execution_count": null,
   "metadata": {},
   "outputs": [],
   "source": [
    "## 결과 정답!\n",
    "\n",
    "hour, minute = map(int, input().split())\n",
    "second = int(input())\n",
    "\n",
    "date = minute + second\n",
    "\n",
    "hourPlus = date//60\n",
    "minutePlus = date%60\n",
    "\n",
    "NowH = hour+hourPlus\n",
    "NowM = minutePlus\n",
    "\n",
    "if NowH >= 24:\n",
    "    NowH = NowH-24\n",
    "\n",
    "result = str(NowH)+\" \"+str(NowM)\n",
    "\n",
    "print(result)"
   ]
  }
 ],
 "metadata": {
  "kernelspec": {
   "display_name": "Python 3",
   "language": "python",
   "name": "python3"
  },
  "language_info": {
   "codemirror_mode": {
    "name": "ipython",
    "version": 3
   },
   "file_extension": ".py",
   "mimetype": "text/x-python",
   "name": "python",
   "nbconvert_exporter": "python",
   "pygments_lexer": "ipython3",
   "version": "3.6.10"
  }
 },
 "nbformat": 4,
 "nbformat_minor": 4
}
