{
 "cells": [
  {
   "cell_type": "markdown",
   "metadata": {},
   "source": [
    "이번 문제는 이해하는 것부터 어려운 문제였다.\n",
    "이해하면 쉽지만 이해하기까지 몇시간은 족히 걸린듯 하다.\n",
    "\n",
    "문제를 쉽게 풀이하겠다.\n",
    "\n",
    "B[P[0]] = A[0] = 2\n",
    "B[P[1]] = A[1] = 3\n",
    "B[P[2]] = A[2] = 1\n",
    "\n",
    "이 걸 먼저 간단히 이야기 하면\n",
    "\n",
    "(0,2) (1,3) (2,1) 이라고 보면 된다.\n",
    "\n",
    "이제 (A,I) 라고 부르자\n",
    "\n",
    "I는 사용자가 넣은 input 값, A는 A수열 이라고 보자\n",
    "\n",
    "사용자의 input 값에 따라 비내림차순(오름차순이라고 보면 된다.) 정렬을 하면\n",
    "\n",
    "(2,1) (0,2) (1,3) 로 정렬할 수 있다.\n",
    "\n",
    "이제 현재 정렬된 값들에게 차례대로 숫자를 붙여준다.\n",
    "\n",
    "((2,1),0) ((0,2),1) ((1,3),2)\n",
    "\n",
    "이제 기존 A수열의 순서대로 바꾸자\n",
    "\n",
    "((0,2),1) ((1,3),2) ((2,1),0)\n",
    "\n",
    "차례대로 1 2 0 의 숫자가 보이지 않는가? 이게 수열 P라고 볼 수 있다.\n",
    "규칙을 찾아냈으니 이제 만들기만 하면 된다."
   ]
  },
  {
   "cell_type": "code",
   "execution_count": null,
   "metadata": {},
   "outputs": [],
   "source": [
    "## 런타임 에러!\n",
    "\n",
    "def A_index(t):\n",
    "    return t[1]\n",
    "\n",
    "def B_index(t):\n",
    "    return t[0][0]\n",
    "\n",
    "TestCase = int(input())\n",
    "inputs = []\n",
    "results = []\n",
    "\n",
    "for i in range(TestCase):\n",
    "    userinput=int(input())\n",
    "    inputs.append((i,userinput))\n",
    "\n",
    "inputs.sort(key=A_index)\n",
    "\n",
    "for i in range(TestCase):\n",
    "    inputs[i] = (inputs[i],i)\n",
    "    \n",
    "inputs.sort(key=B_index)\n",
    "\n",
    "for i in range(TestCase):\n",
    "    print(inputs[i][1])"
   ]
  },
  {
   "cell_type": "code",
   "execution_count": 2,
   "metadata": {},
   "outputs": [
    {
     "name": "stdout",
     "output_type": "stream",
     "text": [
      "3\n",
      "2 3 1\n",
      "1 2 0\n"
     ]
    }
   ],
   "source": [
    "## 성공!\n",
    "## 위의 코드는 출력할 때 숫자가 \\n 되서 나오기 때문에 런타임 에러가 생긴 것이다.\n",
    "\n",
    "\n",
    "def A_index(t):\n",
    "    return t[1] # 사용자의 Input 값에 따라 오름차순 정렬\n",
    "\n",
    "def B_index(t):\n",
    "    return t[0][0] # 수열 A에 따라 오름차순 정렬\n",
    "\n",
    "TestCase = int(input())\n",
    "userString = str(input())\n",
    "\n",
    "input_list = userString.split()\n",
    "map_object = map(int, input_list)\n",
    "listInput = list(map_object)\n",
    "\n",
    "inputs = []\n",
    "\n",
    "for i in range(TestCase):\n",
    "    inputs.append((i,listInput[i]))\n",
    "\n",
    "inputs.sort(key=A_index)\n",
    "\n",
    "for i in range(TestCase):\n",
    "    inputs[i] = (inputs[i],i)\n",
    "    \n",
    "inputs.sort(key=B_index)\n",
    "\n",
    "print(' '.join([str(inputs[i][1]) for i in range(TestCase)]))"
   ]
  }
 ],
 "metadata": {
  "kernelspec": {
   "display_name": "Python 3",
   "language": "python",
   "name": "python3"
  },
  "language_info": {
   "codemirror_mode": {
    "name": "ipython",
    "version": 3
   },
   "file_extension": ".py",
   "mimetype": "text/x-python",
   "name": "python",
   "nbconvert_exporter": "python",
   "pygments_lexer": "ipython3",
   "version": "3.6.10"
  }
 },
 "nbformat": 4,
 "nbformat_minor": 4
}
