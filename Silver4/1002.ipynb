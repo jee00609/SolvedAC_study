{
 "cells": [
  {
   "cell_type": "markdown",
   "metadata": {},
   "source": [
    "이번 문제는 두원의 접점에 대한 문제다.\n",
    "\n",
    "두 원이 있을 때 존재가능한 관계의 수는 총 6가지\n",
    "\n",
    "https://blog.naver.com/honeyeah/110140815554\n",
    "두 원의 관계와 접점의 개수에 대해 자세히 나와있는 사이트\n",
    "\n",
    "접점의 가짓수\n",
    "    1. 0개\n",
    "    2. 1개\n",
    "    3. 2개\n",
    "    4. 무한개(백준문제에선 -1)\n",
    "    \n",
    "수학문제는 공식과 규칙이 있고, 이걸 알면 엄청 쉬운데 모르면 어려운 것 같다."
   ]
  },
  {
   "cell_type": "code",
   "execution_count": 2,
   "metadata": {},
   "outputs": [
    {
     "name": "stdout",
     "output_type": "stream",
     "text": [
      "3\n",
      "0 0 13 40 0 37\n",
      "0 0 3 0 7 4\n",
      "1 1 1 1 1 5\n",
      "2\n",
      "1\n",
      "0\n"
     ]
    }
   ],
   "source": [
    "# 성공!\n",
    "import math\n",
    "\n",
    "def Circle(x1,y1,r1,x2,y2,r2):\n",
    "    if x1==x2 and y1==y2:\n",
    "        if r1==r2:\n",
    "            return -1\n",
    "        else:\n",
    "            return 0\n",
    "        \n",
    "    else:\n",
    "        plus = r1+r2\n",
    "        minus = abs(r1-r2) # 거리가 음수면 안되니 절대값!\n",
    "        i = math.sqrt(math.pow(x1-x2,2)+math.pow(y1-y2,2)) # 두 점 사이의 거리 공식\n",
    "        \n",
    "        if minus < i and i < plus:\n",
    "            return 2\n",
    "        elif minus ==i or plus ==i:\n",
    "            return 1\n",
    "        else:\n",
    "            return 0\n",
    "        \n",
    "\n",
    "ResultList = []\n",
    "TestCase = int(input())\n",
    "\n",
    "for _ in range(TestCase):\n",
    "    x1,y1,r1,x2,y2,r2 = map(int, input().split())\n",
    "    result = Circle(x1,y1,r1,x2,y2,r2)\n",
    "    ResultList.append(result)\n",
    "    \n",
    "for i in ResultList:\n",
    "    print(i)"
   ]
  }
 ],
 "metadata": {
  "kernelspec": {
   "display_name": "Python 3",
   "language": "python",
   "name": "python3"
  },
  "language_info": {
   "codemirror_mode": {
    "name": "ipython",
    "version": 3
   },
   "file_extension": ".py",
   "mimetype": "text/x-python",
   "name": "python",
   "nbconvert_exporter": "python",
   "pygments_lexer": "ipython3",
   "version": "3.6.10"
  }
 },
 "nbformat": 4,
 "nbformat_minor": 4
}
