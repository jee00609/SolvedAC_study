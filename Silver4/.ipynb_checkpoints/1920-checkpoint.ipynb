{
 "cells": [
  {
   "cell_type": "code",
   "execution_count": null,
   "metadata": {},
   "outputs": [],
   "source": [
    "숫자를 찾는 문제다.\n",
    "\n",
    "늘 그렇듯 이런 문제는 매우 많은 숫자에서 특정 숫자를 찾는 것이기에\n",
    "\n",
    "탐색 알고리즘을 통해서 구해야한다.\n",
    "\n",
    "안그러면 시간이 오래걸려서 문제가 틀리도록 만들어 두는 그런 유형의 문제다.\n",
    "\n",
    "재귀를 통한 이진 탐색 구조로 만들었다."
   ]
  },
  {
   "cell_type": "code",
   "execution_count": 10,
   "metadata": {},
   "outputs": [
    {
     "name": "stdout",
     "output_type": "stream",
     "text": [
      "5\n",
      "4 1 5 2 3\n",
      "5\n",
      "1 3 7 9 5\n",
      "1\n",
      "1\n",
      "0\n",
      "0\n",
      "1\n"
     ]
    }
   ],
   "source": [
    "def binarySearch(target, start, end, list):\n",
    "    if start > end: # 특정 숫자가 존재하지 않음\n",
    "        return 0\n",
    "\n",
    "    mid = (start + end) // 2\n",
    "\n",
    "    if list[mid] == target: # 특정 숫자가 존재함\n",
    "        return 1\n",
    "    elif list[mid] > target:\n",
    "        end = mid - 1\n",
    "    else:\n",
    "        start = mid + 1        \n",
    "\n",
    "    return binarySearch(target, start, end, list)\n",
    "\n",
    "\n",
    "NTestCase = int(input())\n",
    "userNString = str(input())\n",
    "MTestCase = int(input())\n",
    "userMString = str(input())\n",
    "\n",
    "Ninput_list = userNString.split()\n",
    "map_object = map(int, Ninput_list)\n",
    "NlistInput = list(map_object)\n",
    "NlistInput.sort()\n",
    "\n",
    "Minput_list = userMString.split()\n",
    "map_object = map(int, Minput_list)\n",
    "MlistInput = list(map_object)\n",
    "\n",
    "right = NTestCase-1\n",
    "\n",
    "for i in MlistInput:\n",
    "    idx = binarySearch(i,0,right,NlistInput)\n",
    "    print(idx)"
   ]
  }
 ],
 "metadata": {
  "kernelspec": {
   "display_name": "Python 3",
   "language": "python",
   "name": "python3"
  },
  "language_info": {
   "codemirror_mode": {
    "name": "ipython",
    "version": 3
   },
   "file_extension": ".py",
   "mimetype": "text/x-python",
   "name": "python",
   "nbconvert_exporter": "python",
   "pygments_lexer": "ipython3",
   "version": "3.6.10"
  }
 },
 "nbformat": 4,
 "nbformat_minor": 4
}
