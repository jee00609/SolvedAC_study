{
 "cells": [
  {
   "cell_type": "markdown",
   "metadata": {},
   "source": [
    "이번 문제는 매우 쉽게 생각할 수 있다.\n",
    "\n",
    "가장 작은 result 값을 만들기 위해선\n",
    "Alist 의 값을 오름차순\n",
    "Blist 의 값을 내림차순\n",
    "하여 계산하면 된다.\n",
    "\n",
    "단번에 성공해서 기분이 좋다."
   ]
  },
  {
   "cell_type": "code",
   "execution_count": 4,
   "metadata": {},
   "outputs": [
    {
     "name": "stdout",
     "output_type": "stream",
     "text": [
      "5\n",
      "1 1 1 6 0\n",
      "2 7 8 3 1\n",
      "[0, 1, 1, 1, 6]\n",
      "18\n"
     ]
    }
   ],
   "source": [
    "# 성공!\n",
    "TestCase = int(input())\n",
    "userAString = str(input())\n",
    "userBString = str(input())\n",
    "\n",
    "Ainput_list = userAString.split()\n",
    "map_object = map(int, Ainput_list)\n",
    "AlistInput = list(map_object)\n",
    "\n",
    "Binput_list = userBString.split()\n",
    "map_object = map(int, Binput_list)\n",
    "BlistInput = list(map_object)\n",
    "\n",
    "AlistInput.sort()\n",
    "BlistInput.sort(reverse=True)\n",
    "\n",
    "sum = 0\n",
    "result = 0 \n",
    "\n",
    "for i in range(TestCase):\n",
    "    sum = AlistInput[i]*BlistInput[i]\n",
    "    result = result + sum\n",
    "\n",
    "print(result)"
   ]
  }
 ],
 "metadata": {
  "kernelspec": {
   "display_name": "Python 3",
   "language": "python",
   "name": "python3"
  },
  "language_info": {
   "codemirror_mode": {
    "name": "ipython",
    "version": 3
   },
   "file_extension": ".py",
   "mimetype": "text/x-python",
   "name": "python",
   "nbconvert_exporter": "python",
   "pygments_lexer": "ipython3",
   "version": "3.6.10"
  }
 },
 "nbformat": 4,
 "nbformat_minor": 4
}
