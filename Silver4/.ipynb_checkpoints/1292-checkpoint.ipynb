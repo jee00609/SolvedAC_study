{
 "cells": [
  {
   "cell_type": "code",
   "execution_count": 14,
   "metadata": {},
   "outputs": [
    {
     "name": "stdout",
     "output_type": "stream",
     "text": [
      "3 5\n",
      "8\n"
     ]
    }
   ],
   "source": [
    "def easy_problem(a,b):\n",
    "    full_list = []\n",
    "    num=0\n",
    "    i=0\n",
    "    j=0\n",
    "    \n",
    "    sum = 0\n",
    "    start = a\n",
    "    end=b\n",
    "    \n",
    "    while i <= 1000:\n",
    "        while j <= i:\n",
    "            full_list.append(num)\n",
    "            j=j+1\n",
    "            \n",
    "        i=i+1\n",
    "        num=i\n",
    "        j=1\n",
    "\n",
    "    \n",
    "    \n",
    "    for i in range(start,end+1):\n",
    "        sum = sum+full_list[i]\n",
    "    \n",
    "    print(sum)\n",
    "    \n",
    "        \n",
    "    \n",
    "        \n",
    "    \n",
    "\n",
    "a, b = map(int, input().split())\n",
    "easy_problem(a,b)"
   ]
  }
 ],
 "metadata": {
  "kernelspec": {
   "display_name": "Python 3",
   "language": "python",
   "name": "python3"
  },
  "language_info": {
   "codemirror_mode": {
    "name": "ipython",
    "version": 3
   },
   "file_extension": ".py",
   "mimetype": "text/x-python",
   "name": "python",
   "nbconvert_exporter": "python",
   "pygments_lexer": "ipython3",
   "version": "3.6.10"
  }
 },
 "nbformat": 4,
 "nbformat_minor": 4
}
