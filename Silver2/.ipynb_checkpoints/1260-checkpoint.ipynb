{
 "cells": [
  {
   "cell_type": "markdown",
   "metadata": {},
   "source": [
    "DFS 와 BFS\n",
    "깊이 우선 탐색과 너비 우선 탐색의 방문순서를 출력하는 문제다.\n",
    "\n",
    "자료구조 문제는 코딩 테스트 단골 문제이기 때문에 늘 반복해야 하는 문제다.\n",
    "그래프를 만드는 방법은 인접 리스트와 인접 행렬 두가지 방식이 있고,\n",
    "현재 코드에선 인접 행렬을 만드는 방법으로 구현했다.\n",
    "\n",
    "기본이 되는 matris 행렬과 방문했는지 알 수 있도록 하는 리스트 하나를 만들어 구현했다.\n",
    "\n",
    "이론상으로 알고있는 것에 비해 실제로 구현해보려고 하니까 매우 어려웠다.\n",
    "분명 예전에 구현해본 것들인데 bfs 와 같은 경우 큐의 방식으로 구현해야 하는데 계속 틀렸기에 어디가 문제인지 참 헷갈렸다.\n"
   ]
  },
  {
   "cell_type": "code",
   "execution_count": 1,
   "metadata": {},
   "outputs": [
    {
     "name": "stdout",
     "output_type": "stream",
     "text": [
      "4 5 1\n",
      "1 2\n",
      "1 3\n",
      "1 4\n",
      "2 4\n",
      "3 4\n",
      "1 2 4 3 \n",
      "1 2 3 4 "
     ]
    }
   ],
   "source": [
    "def dfs(v):\n",
    "    visit[v]=1\n",
    "    print(v, end=' ')\n",
    "    \n",
    "    for i in range(0,N+1):\n",
    "        # 방문하지 않았으며, 연결되있으면 다시 한번 dfs 시작\n",
    "        if visit[i]==0 and matrix[v][i] == 1:\n",
    "            dfs(i)\n",
    "            \n",
    "def bfs(v):\n",
    "    queue = [v] # 큐의 첫 시작\n",
    "    visit[v] = 0 # dfs 에서 1로 나타냈었기에 이번엔 0으로 표현\n",
    "    \n",
    "    while queue:\n",
    "        v = queue.pop(0)\n",
    "        print(v, end=' ')\n",
    "        for i in range(1,N+1):\n",
    "            if visit[i]==1 and matrix[v][i]==1:\n",
    "                queue.append(i)\n",
    "                visit[i]=0\n",
    "\n",
    "\n",
    "                \n",
    "i = 0\n",
    "N,M,V = map(int, input().split())\n",
    "matrix = [[0]*(N+1) for i in range(N+1)]\n",
    "visit = [0 for i in range(N+1)]\n",
    "\n",
    "while i < M:\n",
    "    a,b = map(int, input().split())\n",
    "    matrix[a][b]=matrix[b][a]=1\n",
    "    i=i+1\n",
    "\n",
    "dfs(V)\n",
    "print()\n",
    "bfs(V)"
   ]
  }
 ],
 "metadata": {
  "kernelspec": {
   "display_name": "Python 3",
   "language": "python",
   "name": "python3"
  },
  "language_info": {
   "codemirror_mode": {
    "name": "ipython",
    "version": 3
   },
   "file_extension": ".py",
   "mimetype": "text/x-python",
   "name": "python",
   "nbconvert_exporter": "python",
   "pygments_lexer": "ipython3",
   "version": "3.6.10"
  }
 },
 "nbformat": 4,
 "nbformat_minor": 4
}
