{
 "cells": [
  {
   "cell_type": "markdown",
   "metadata": {},
   "source": [
    "분명 문제의 알고리즘 분류에는 깊이 우선 탐색으로 적혀있는데\n",
    "DFS 로 하면 비효율적인 문제라고 한다.\n",
    "\n",
    "아직 내공이 부족한지, 어떤 알고리즘을 써야 효율적인지 잘 모르겠다.\n",
    "전형적인 플로이드-워셜 알고리즘 문제라는데 이걸 어떻게 해야 아는걸까?\n",
    "\n",
    "## 플로이드 - 워셜\n",
    "\n",
    "컴퓨터 과학에서, 플로이드-워셜 알고리즘은 변의 가중치가 음이거나 양인 가중 그래프에서 최단 경로들을 찾는 알고리즘이다. 알고리즘을 한 번 수행하면 모든 꼭짓점 쌍 간의 최단 경로의 길이을 찾는다.\n",
    "\n"
   ]
  },
  {
   "cell_type": "markdown",
   "metadata": {},
   "source": [
    "플로이드 - 워셜 의 코딩 구현(C)\n",
    "\n",
    "void Floyd_Warshall() {\n",
    "  for(m=1; m<=N; m++)\n",
    "    for(s=1; s<=N; s++)\n",
    "      for(e=1; e<=N; e++)\n",
    "        if (d[s][e] > d[s][m] + d[m][e])\n",
    "\t\t\td[s][e] = d[s][m] + d[m][e];\n",
    "}\n",
    "\n",
    "출처 : https://namu.wiki/w/%ED%94%8C%EB%A1%9C%EC%9D%B4%EB%93%9C-%EC%9B%8C%EC%85%9C%20%EC%95%8C%EA%B3%A0%EB%A6%AC%EC%A6%98"
   ]
  },
  {
   "cell_type": "code",
   "execution_count": 8,
   "metadata": {},
   "outputs": [
    {
     "name": "stdout",
     "output_type": "stream",
     "text": [
      "3\n",
      "[['N', 'N', 'N'], ['N', 'N', 'N'], ['N', 'N', 'N']]\n",
      "[[0, 0, 0], [0, 0, 0], [0, 0, 0]]\n",
      "NYY\n",
      "YNY\n",
      "YYN\n",
      "[['N', 'Y', 'Y'], ['Y', 'N', 'Y'], ['Y', 'Y', 'N']]\n",
      "[[0, 1, 1], [1, 0, 1], [1, 1, 0]]\n",
      "2\n"
     ]
    }
   ],
   "source": [
    "personNum = int(input())\n",
    "\n",
    "friend = [[\"N\"]*(personNum) for _ in range(personNum)]\n",
    "# visited = [[0]*(personNum) for _ in range(personNum)]\n",
    "visited = [[0 for _ in range(personNum)] for _ in range(personNum)]\n",
    "\n",
    "print(friend)\n",
    "print(visited)\n",
    "matrixNumRow = 0\n",
    "\n",
    "for _ in range(personNum):\n",
    "    \n",
    "    userInputString = input()\n",
    "    for i in range(len(userInputString)):\n",
    "        friend[matrixNumRow][i] = userInputString[i]\n",
    "    matrixNumRow+=1\n",
    "\n",
    "print(friend)\n",
    "\n",
    "## 두 사람이 친구이거나, A와 친구이고, B와 친구인 C가 존재\n",
    "for i in range(personNum):\n",
    "    for j in range(personNum):\n",
    "        for k in range(personNum):\n",
    "            if j==k:\n",
    "                continue\n",
    "            if friend[j][k]=='Y' or (friend[j][i]=='Y' and friend[i][k]=='Y'):\n",
    "                visited[j][k]=1\n",
    "\n",
    "print(visited)\n",
    "\n",
    "result_list = []\n",
    "result = 0\n",
    "sum =0\n",
    "\n",
    "for i in visited:\n",
    "    value = i\n",
    "    for j in value:\n",
    "        sum+=j\n",
    "    result_list.append(sum)\n",
    "    sum=0\n",
    "\n",
    "    \n",
    "for i in result_list:\n",
    "    result = max(result,i)\n",
    "\n",
    "print(result)"
   ]
  },
  {
   "cell_type": "code",
   "execution_count": 10,
   "metadata": {},
   "outputs": [
    {
     "name": "stdout",
     "output_type": "stream",
     "text": [
      "3\n",
      "NYY\n",
      "YNY\n",
      "YYN\n",
      "2\n"
     ]
    }
   ],
   "source": [
    "## 성공!\n",
    "\n",
    "## 29076kb 252ms\n",
    "## 다른 사람들보다 더 오래 시간이 걸렸다.\n",
    "## 확실히 코드가 좀 많이 더러운듯 싶다.\n",
    "\n",
    "personNum = int(input())\n",
    "\n",
    "friend = [[\"N\"]*(personNum) for _ in range(personNum)]\n",
    "visited = [[0]*(personNum) for _ in range(personNum)]\n",
    "\n",
    "matrixNumRow = 0\n",
    "\n",
    "for _ in range(personNum):\n",
    "    \n",
    "    userInputString = input()\n",
    "    for i in range(len(userInputString)):\n",
    "        friend[matrixNumRow][i] = userInputString[i]\n",
    "    matrixNumRow+=1\n",
    "\n",
    "\n",
    "\n",
    "## 두 사람이 친구이거나, A와 친구이고, B와 친구인 C가 존재\n",
    "for i in range(personNum):\n",
    "    for j in range(personNum):\n",
    "        for k in range(personNum):\n",
    "            if j==k:\n",
    "                continue\n",
    "            if friend[j][k]=='Y' or (friend[j][i]=='Y' and friend[i][k]=='Y'):\n",
    "                visited[j][k]=1\n",
    "\n",
    "\n",
    "result_list = []\n",
    "result = 0\n",
    "sum =0\n",
    "\n",
    "for i in visited:\n",
    "    value = i\n",
    "    for j in value:\n",
    "        sum+=j\n",
    "    result_list.append(sum)\n",
    "    sum=0\n",
    "\n",
    "    \n",
    "for i in result_list:\n",
    "    result = max(result,i)\n",
    "\n",
    "print(result)"
   ]
  },
  {
   "cell_type": "code",
   "execution_count": 11,
   "metadata": {},
   "outputs": [
    {
     "name": "stdout",
     "output_type": "stream",
     "text": [
      "3\n",
      "NYY\n",
      "YNY\n",
      "YYN\n",
      "2\n"
     ]
    }
   ],
   "source": [
    "## 성공!\n",
    "\n",
    "## 29076KB 100ms\n",
    "## rseult_list 를 줄이면서 약 2배 가까이 시간을 단축시켰다!\n",
    "\n",
    "personNum = int(input())\n",
    "\n",
    "friend = [[\"N\"]*(personNum) for _ in range(personNum)]\n",
    "visited = [[0]*(personNum) for _ in range(personNum)]\n",
    "\n",
    "matrixNumRow = 0\n",
    "result = 0\n",
    "sum =0\n",
    "\n",
    "for _ in range(personNum):\n",
    "    \n",
    "    userInputString = input()\n",
    "    for i in range(len(userInputString)):\n",
    "        friend[matrixNumRow][i] = userInputString[i]\n",
    "    matrixNumRow+=1\n",
    "\n",
    "\n",
    "\n",
    "## 두 사람이 친구이거나, A와 친구이고, B와 친구인 C가 존재\n",
    "for i in range(personNum):\n",
    "    for j in range(personNum):\n",
    "        for k in range(personNum):\n",
    "            if j==k:\n",
    "                continue\n",
    "            if friend[j][k]=='Y' or (friend[j][i]=='Y' and friend[i][k]=='Y'):\n",
    "                visited[j][k]=1\n",
    "\n",
    "for i in visited:\n",
    "    value = i\n",
    "    for j in value:\n",
    "        sum+=j\n",
    "    result = max(result,sum)\n",
    "    sum=0\n",
    "\n",
    "\n",
    "print(result)"
   ]
  }
 ],
 "metadata": {
  "kernelspec": {
   "display_name": "Python 3",
   "language": "python",
   "name": "python3"
  },
  "language_info": {
   "codemirror_mode": {
    "name": "ipython",
    "version": 3
   },
   "file_extension": ".py",
   "mimetype": "text/x-python",
   "name": "python",
   "nbconvert_exporter": "python",
   "pygments_lexer": "ipython3",
   "version": "3.6.10"
  }
 },
 "nbformat": 4,
 "nbformat_minor": 4
}
