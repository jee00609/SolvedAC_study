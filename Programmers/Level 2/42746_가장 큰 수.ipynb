{
 "cells": [
  {
   "cell_type": "code",
   "execution_count": 36,
   "metadata": {},
   "outputs": [
    {
     "name": "stdout",
     "output_type": "stream",
     "text": [
      "[6, 10, 2]\n",
      "[23, 232, 21, 212]\n"
     ]
    },
    {
     "data": {
      "text/plain": [
       "'2323221221'"
      ]
     },
     "execution_count": 36,
     "metadata": {},
     "output_type": "execute_result"
    }
   ],
   "source": [
    "#시간초과\n",
    "import itertools\n",
    "\n",
    "def solution(numbers):\n",
    "    \n",
    "    nPr = []\n",
    "    myData = []\n",
    "    max = 0\n",
    "    \n",
    "    for i in numbers:\n",
    "        i = str(i)\n",
    "    print(numbers)\n",
    "    \n",
    "    nPr = list(itertools.permutations(numbers,len(numbers)))\n",
    "    \n",
    "    for i in nPr:\n",
    "        i = list(i)\n",
    "        myData.append(list(map(str, i)))\n",
    "        \n",
    "    for i in myData:\n",
    "        myString = ''.join(i).lstrip('0')\n",
    "        if max < int(myString):\n",
    "            max = int(myString)\n",
    "        \n",
    "    answer = str(max)\n",
    "    return answer\n",
    "\n",
    "solution([6, 10, 2])\n",
    "solution([23, 232, 21, 212])"
   ]
  },
  {
   "cell_type": "code",
   "execution_count": 121,
   "metadata": {},
   "outputs": [
    {
     "name": "stdout",
     "output_type": "stream",
     "text": [
      "[['3', '333333333333'], ['30', '303030303030'], ['34', '343434343434'], ['5', '555555555555'], ['9', '999999999999']]\n",
      "[['9', '999999999999'], ['5', '555555555555'], ['34', '343434343434'], ['3', '333333333333'], ['30', '303030303030']]\n"
     ]
    },
    {
     "data": {
      "text/plain": [
       "'9534330'"
      ]
     },
     "execution_count": 121,
     "metadata": {},
     "output_type": "execute_result"
    }
   ],
   "source": [
    "#이건 참고해서 풀었다.\n",
    "#https://mentha2.tistory.com/9\n",
    "\n",
    "import itertools\n",
    "\n",
    "def solution(numbers):\n",
    "    numbers = [str(i) for i in numbers] # 모두 str로 변환\n",
    "    com_list = []   \n",
    "    answer = ''\n",
    "    #자릿수를 맞추기 위해 최소공배수 12 로 맞춰준다.\n",
    "    for i in numbers :\n",
    "        if len(i) == 4 :\n",
    "            com_list.append([i,i*3])\n",
    "        if len(i) == 3 :\n",
    "            com_list.append([i,i*4])\n",
    "        if len(i) == 2 :\n",
    "            com_list.append([i,i*6])\n",
    "        if len(i) == 1 :\n",
    "            com_list.append([i,i*12])\n",
    "    \n",
    "    print(com_list)\n",
    "    com_list.sort(key = lambda x:x[1],reverse=True)\n",
    "    \n",
    "    print(com_list)\n",
    "    \n",
    "    for i in com_list:\n",
    "        answer += i[0]\n",
    "    ##11 번 테스트 케이스 0000 일 경우 0 으로 변환    \n",
    "    answer = int(answer)\n",
    "    \n",
    "    return str(answer)\n",
    "\n",
    "solution([3, 30, 34, 5, 9])"
   ]
  },
  {
   "cell_type": "code",
   "execution_count": 119,
   "metadata": {},
   "outputs": [
    {
     "name": "stdout",
     "output_type": "stream",
     "text": [
      "['3', '30', '34', '5', '9']\n"
     ]
    },
    {
     "data": {
      "text/plain": [
       "'9534330'"
      ]
     },
     "execution_count": 119,
     "metadata": {},
     "output_type": "execute_result"
    }
   ],
   "source": [
    "#추천 코드\n",
    "#아니 이걸 어케 생각하는거지?\n",
    "#https://jokerldg.github.io/algorithm/2021/05/06/most-big-number.html\n",
    "def solution(numbers):\n",
    "    numbers = list(map(str, numbers))\n",
    "    print(numbers)\n",
    "    numbers.sort(key=lambda x: x*3, reverse=True)\n",
    "    return str(int(''.join(numbers)))\n",
    "solution([3, 30, 34, 5, 9])\n",
    "\n",
    "##s[0]*3 -> '999' \n",
    "##s[1]*3 -> '666666' \n",
    "##s[2]*3 -> '666' \n",
    "##s[3]*3-> '606060'"
   ]
  }
 ],
 "metadata": {
  "kernelspec": {
   "display_name": "Python 3",
   "language": "python",
   "name": "python3"
  },
  "language_info": {
   "codemirror_mode": {
    "name": "ipython",
    "version": 3
   },
   "file_extension": ".py",
   "mimetype": "text/x-python",
   "name": "python",
   "nbconvert_exporter": "python",
   "pygments_lexer": "ipython3",
   "version": "3.6.10"
  }
 },
 "nbformat": 4,
 "nbformat_minor": 4
}
