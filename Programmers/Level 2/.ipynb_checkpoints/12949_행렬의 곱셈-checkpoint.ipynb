{
 "cells": [
  {
   "cell_type": "code",
   "execution_count": null,
   "metadata": {},
   "outputs": [],
   "source": [
    "#참고했다 다시해보자!\n",
    "def solution(arr1, arr2):\n",
    "    \n",
    "    arr3_x = len(arr1)\n",
    "    arr3_y = len(arr2[0])\n",
    "    arr3 = [[0]*arr3_y for i in range(arr3_x)]\n",
    "    \n",
    "    print(len(arr1))\n",
    "    print(len(arr2[0]))\n",
    "    print(len(arr1[0]))\n",
    "            \n",
    "    for i in range(len(arr1)):\n",
    "        for j in range(len(arr2[0])):\n",
    "            sum = 0\n",
    "            for k in range(len(arr1[0])):\n",
    "                arr3[i][j] += arr1[i][k]*arr2[k][j]\n",
    "\n",
    "    answer = arr3\n",
    "    return answer"
   ]
  }
 ],
 "metadata": {
  "kernelspec": {
   "display_name": "Python 3",
   "language": "python",
   "name": "python3"
  },
  "language_info": {
   "codemirror_mode": {
    "name": "ipython",
    "version": 3
   },
   "file_extension": ".py",
   "mimetype": "text/x-python",
   "name": "python",
   "nbconvert_exporter": "python",
   "pygments_lexer": "ipython3",
   "version": "3.6.10"
  }
 },
 "nbformat": 4,
 "nbformat_minor": 4
}
