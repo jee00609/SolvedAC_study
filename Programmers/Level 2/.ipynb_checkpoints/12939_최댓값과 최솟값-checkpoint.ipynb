{
 "cells": [
  {
   "cell_type": "code",
   "execution_count": null,
   "metadata": {},
   "outputs": [],
   "source": [
    "def solution(s):\n",
    "    answerList = []\n",
    "    data = s.split()\n",
    "    sotringData = []\n",
    "    \n",
    "    for i in data:\n",
    "        sotringData.append(int(i))\n",
    "    print(sotringData)\n",
    "    sotringData.sort()\n",
    "    answerList.append(str(min(sotringData)))\n",
    "    answerList.append(str(max(sotringData)))\n",
    "    answer = ' '.join(answerList)\n",
    "    \n",
    "    return answer"
   ]
  },
  {
   "cell_type": "code",
   "execution_count": null,
   "metadata": {},
   "outputs": [],
   "source": [
    "# 추천 코드\n",
    "def solution(s):\n",
    "    s = list(map(int,s.split()))\n",
    "    return str(min(s)) + \" \" + str(max(s))"
   ]
  }
 ],
 "metadata": {
  "kernelspec": {
   "display_name": "Python 3",
   "language": "python",
   "name": "python3"
  },
  "language_info": {
   "codemirror_mode": {
    "name": "ipython",
    "version": 3
   },
   "file_extension": ".py",
   "mimetype": "text/x-python",
   "name": "python",
   "nbconvert_exporter": "python",
   "pygments_lexer": "ipython3",
   "version": "3.6.10"
  }
 },
 "nbformat": 4,
 "nbformat_minor": 4
}
