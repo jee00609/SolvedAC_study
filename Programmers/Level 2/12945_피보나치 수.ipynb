{
 "cells": [
  {
   "cell_type": "code",
   "execution_count": 3,
   "metadata": {},
   "outputs": [],
   "source": [
    "## 이렇게 풀면 7번 테스트 케이스부터 틀린다.\n",
    "## 이렇게 푸는 것도 맞지만 이 문제의 의도에는 부합하지 않는 듯 하다.\n",
    "def fib(n):\n",
    "    if n <= 2:\n",
    "        return 1\n",
    "    else:\n",
    "        return fib(n-2)+fib(n-1)\n",
    "\n",
    "def solution(n):\n",
    "    \n",
    "    answer = fib(n)\n",
    "    answer = answer%1234567\n",
    "    print(answer)\n",
    "    \n",
    "    return answer"
   ]
  },
  {
   "cell_type": "code",
   "execution_count": 4,
   "metadata": {},
   "outputs": [],
   "source": [
    "# 이런방법으로 생각하는게 더 나을 것 같다.\n",
    "# 재귀는 크면 클수록 메모리 부하가 심하다는 것 같다.\n",
    "def solution(n):\n",
    "    fibo = []\n",
    "    for num in range(0, n+1):\n",
    "        if num == 0:\n",
    "            fibo.append(0)\n",
    "        elif num == 1:\n",
    "            fibo.append(1)\n",
    "        else:\n",
    "            fibo.append(fibo[num - 2] + fibo[num - 1])\n",
    "\n",
    "    return fibo[n] % 1234567"
   ]
  },
  {
   "cell_type": "code",
   "execution_count": 8,
   "metadata": {},
   "outputs": [
    {
     "name": "stdout",
     "output_type": "stream",
     "text": [
      "1168141\n"
     ]
    }
   ],
   "source": [
    "#추천 코드\n",
    "#이게 진짜 와...\n",
    "def solution(n):\n",
    "    f_list = [0,1]\n",
    "    for i in range(2,n+1):\n",
    "        f_list.append((f_list[i-2]%1234567+f_list[i-1]%1234567)%1234567)\n",
    "    return f_list[-1]\n",
    "\n",
    "print(solution(100000))"
   ]
  }
 ],
 "metadata": {
  "kernelspec": {
   "display_name": "Python 3",
   "language": "python",
   "name": "python3"
  },
  "language_info": {
   "codemirror_mode": {
    "name": "ipython",
    "version": 3
   },
   "file_extension": ".py",
   "mimetype": "text/x-python",
   "name": "python",
   "nbconvert_exporter": "python",
   "pygments_lexer": "ipython3",
   "version": "3.6.10"
  }
 },
 "nbformat": 4,
 "nbformat_minor": 4
}
