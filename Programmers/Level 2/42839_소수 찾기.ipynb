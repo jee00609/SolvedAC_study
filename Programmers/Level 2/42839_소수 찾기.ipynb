{
 "cells": [
  {
   "cell_type": "code",
   "execution_count": 57,
   "metadata": {},
   "outputs": [
    {
     "data": {
      "text/plain": [
       "2"
      ]
     },
     "execution_count": 57,
     "metadata": {},
     "output_type": "execute_result"
    }
   ],
   "source": [
    "import itertools\n",
    "\n",
    "import math\n",
    "\n",
    "# 소수 없애기\n",
    "# 그런데 대부분 1을 소수로 인식한다\n",
    "# 따로 예외 처리 함\n",
    "def is_prime_num(n):\n",
    "    if n == 1:\n",
    "        return False\n",
    "    \n",
    "    for i in range(2, int(math.sqrt(n))+1):\n",
    "        if n % i == 0:\n",
    "            return False\n",
    "\n",
    "    return True\n",
    "\n",
    "def solution(numbers):\n",
    "    \n",
    "    arr = list(numbers)\n",
    "    data = []\n",
    "    answer = 0\n",
    "    nPr = []\n",
    "\n",
    "    #순열로 가능한 수 찾아준다.\n",
    "    for i in range(len(numbers)):\n",
    "        nPr += list(itertools.permutations(arr,i+1))\n",
    "    \n",
    "    for i in nPr:\n",
    "        #list 의 내부의 값들을 String 으로 합치는데\n",
    "        #이때 앞이 0인 String 은 0을 제거 해준다\n",
    "        myString = ''.join(i).lstrip('0')\n",
    "        #list 내부 item 중복을 제거해준다\n",
    "        if myString not in data:\n",
    "            data.append(myString)\n",
    "    \n",
    "    #공백으로 된 list item 삭제\n",
    "    data = list(filter(bool, data))\n",
    "    \n",
    "    #소수인지 판별\n",
    "    for i in data:\n",
    "        if is_prime_num(int(i)) == True:\n",
    "            answer +=1\n",
    "    \n",
    "    return answer\n",
    "\n",
    "solution(\"011\")"
   ]
  },
  {
   "cell_type": "code",
   "execution_count": 67,
   "metadata": {},
   "outputs": [
    {
     "name": "stdout",
     "output_type": "stream",
     "text": [
      "{0, 1, 7}\n",
      "{0, 1, 70, 7, 71, 10, 11, 17}\n",
      "{0, 1, 70, 7, 71, 710, 10, 11, 711, 17, 100, 101, 170, 171, 107, 110, 117, 700, 701}\n",
      "{0, 1, 7, 10, 11, 17, 1170, 1700, 1701, 170, 171, 1710, 1070, 1071, 700, 701, 7100, 7101, 70, 71, 710, 711, 7110, 1100, 1107, 7001, 7010, 7011, 100, 101, 1001, 107, 110, 1007, 1010, 117, 1017}\n",
      "{0, 1, 7, 10, 11, 17, 1170, 10017, 1700, 1701, 170, 171, 1710, 1070, 1071, 11700, 10170, 700, 701, 7100, 7101, 71100, 11070, 70, 71, 710, 711, 7110, 1100, 17100, 10701, 1107, 70101, 10710, 10071, 7001, 71001, 70110, 7010, 7011, 100, 101, 71010, 1001, 17001, 107, 110, 1007, 1010, 17010, 70011, 117, 1017, 10107, 11007}\n",
      "\n",
      "{7, 10, 11, 17, 1170, 10017, 1700, 1701, 170, 171, 1710, 1070, 1071, 11700, 10170, 700, 701, 7100, 7101, 71100, 11070, 70, 71, 710, 711, 7110, 1100, 17100, 10701, 1107, 70101, 10710, 10071, 7001, 71001, 70110, 7010, 7011, 100, 101, 71010, 1001, 17001, 107, 110, 1007, 1010, 17010, 70011, 117, 1017, 10107, 11007}\n"
     ]
    },
    {
     "data": {
      "text/plain": [
       "8"
      ]
     },
     "execution_count": 67,
     "metadata": {},
     "output_type": "execute_result"
    }
   ],
   "source": [
    "#추천 코드\n",
    "#어떻게 이런 생각을 할 수 있지?\n",
    "#그래도 순열을 이용해서 푸는 공통점은 존재한다. 아싸!\n",
    "\n",
    "from itertools import permutations\n",
    "def solution(n):\n",
    "    a = set()\n",
    "    for i in range(len(n)):\n",
    "        a |= set(map(int, map(\"\".join, permutations(list(n), i + 1))))\n",
    "        print(a)\n",
    "    \n",
    "    print()\n",
    "    #set 을 이용해서 0과 1을 제거해준다 wow!\n",
    "    a -= set(range(0, 2))\n",
    "    print(a)\n",
    "    \n",
    "    for i in range(2, int(max(a) ** 0.5) + 1):\n",
    "        a -= set(range(i * 2, max(a) + 1, i))\n",
    "    return len(a)\n",
    "\n",
    "solution(\"70101\")"
   ]
  }
 ],
 "metadata": {
  "kernelspec": {
   "display_name": "Python 3",
   "language": "python",
   "name": "python3"
  },
  "language_info": {
   "codemirror_mode": {
    "name": "ipython",
    "version": 3
   },
   "file_extension": ".py",
   "mimetype": "text/x-python",
   "name": "python",
   "nbconvert_exporter": "python",
   "pygments_lexer": "ipython3",
   "version": "3.6.10"
  }
 },
 "nbformat": 4,
 "nbformat_minor": 4
}
