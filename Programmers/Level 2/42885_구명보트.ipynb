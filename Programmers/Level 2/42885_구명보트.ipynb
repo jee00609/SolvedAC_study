{
 "cells": [
  {
   "cell_type": "code",
   "execution_count": null,
   "metadata": {},
   "outputs": [],
   "source": [
    "## 힌트 보고 풀었다\n",
    "def solution(people, limit):\n",
    "    answer = 0\n",
    "    \n",
    "    people.sort()\n",
    "    \n",
    "    #가장 처음 의 사람\n",
    "    left = 0\n",
    "    #가장 끝의 사람\n",
    "    right = len(people)-1\n",
    "    \n",
    "    \n",
    "    while left < right:\n",
    "        #가장 무거운 사람을 기준으로 가벼운 사람을 묶을 수 있는지 비교해서 limit 보다 작으면 같이 타기\n",
    "        if people[right]+people[left] <= limit:\n",
    "            left +=1\n",
    "            right -=1\n",
    "        #없을 경우 걍 혼자 타기\n",
    "        else:\n",
    "            right-=1\n",
    "        answer+=1\n",
    "        #left 와 right 가 같다는 것을 혼자 남은 누군가가 존재한다는 것\n",
    "        if left == right:\n",
    "            answer+=1\n",
    "\n",
    "    return answer"
   ]
  },
  {
   "cell_type": "code",
   "execution_count": null,
   "metadata": {},
   "outputs": [],
   "source": [
    "## 추천 코드 1\n",
    "def solution(people, limit) :\n",
    "    answer = 0\n",
    "    people.sort()\n",
    "\n",
    "    a = 0\n",
    "    b = len(people) - 1\n",
    "    while a < b :\n",
    "        if people[b] + people[a] <= limit :\n",
    "            a += 1\n",
    "            answer += 1\n",
    "        b -= 1\n",
    "    return len(people) - answer"
   ]
  },
  {
   "cell_type": "code",
   "execution_count": 4,
   "metadata": {},
   "outputs": [
    {
     "name": "stdout",
     "output_type": "stream",
     "text": [
      "4\n"
     ]
    },
    {
     "data": {
      "text/plain": [
       "5"
      ]
     },
     "execution_count": 4,
     "metadata": {},
     "output_type": "execute_result"
    }
   ],
   "source": [
    "## 추천 코드 2\n",
    "from collections import deque\n",
    "\n",
    "def solution(people, limit):\n",
    "    result = 0\n",
    "    deque_people = deque(sorted(people))\n",
    "\n",
    "    while deque_people:\n",
    "        left = deque_people.popleft()\n",
    "        \n",
    "        if not deque_people:\n",
    "            return result + 1\n",
    "        \n",
    "        right = deque_people.pop()\n",
    "        \n",
    "        if left + right > limit:\n",
    "            deque_people.appendleft(left)\n",
    "            \n",
    "        result += 1\n",
    "        \n",
    "    return result\n",
    "\n",
    "solution([10, 20, 30, 40, 50, 60, 70, 80, 90], 100)"
   ]
  }
 ],
 "metadata": {
  "kernelspec": {
   "display_name": "Python 3",
   "language": "python",
   "name": "python3"
  },
  "language_info": {
   "codemirror_mode": {
    "name": "ipython",
    "version": 3
   },
   "file_extension": ".py",
   "mimetype": "text/x-python",
   "name": "python",
   "nbconvert_exporter": "python",
   "pygments_lexer": "ipython3",
   "version": "3.6.10"
  }
 },
 "nbformat": 4,
 "nbformat_minor": 4
}
