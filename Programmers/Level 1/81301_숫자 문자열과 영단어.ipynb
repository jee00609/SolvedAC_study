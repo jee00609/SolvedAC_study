{
 "cells": [
  {
   "cell_type": "code",
   "execution_count": 6,
   "metadata": {},
   "outputs": [
    {
     "data": {
      "text/plain": [
       "10203"
      ]
     },
     "execution_count": 6,
     "metadata": {},
     "output_type": "execute_result"
    }
   ],
   "source": [
    "def solution(s):\n",
    "    \n",
    "    task = [\n",
    "            [0,'zero'],\n",
    "            [1,'one'],\n",
    "            [2,'two'],\n",
    "            [3,'three'],\n",
    "            [4,'four'],\n",
    "            [5,'five'],\n",
    "            [6,'six'],\n",
    "            [7,'seven'],\n",
    "            [8,'eight'],\n",
    "            [9,'nine']\n",
    "           ]\n",
    "    \n",
    "    while True:\n",
    "        if s.isdigit():\n",
    "            break\n",
    "        else : \n",
    "            for i in range(10):\n",
    "                if task[i][1] in s:\n",
    "                    s = s.replace(task[i][1],str(task[i][0]));\n",
    "            \n",
    "    answer = int(s)\n",
    "    return answer\n",
    "\n",
    "solution(\"1zerotwozero3\")"
   ]
  },
  {
   "cell_type": "code",
   "execution_count": null,
   "metadata": {},
   "outputs": [],
   "source": [
    "#추천 코드\n",
    "#dict 로 푼듯?\n",
    "num_dic = {\"zero\":\"0\", \"one\":\"1\", \"two\":\"2\", \"three\":\"3\", \"four\":\"4\", \"five\":\"5\", \"six\":\"6\", \"seven\":\"7\", \"eight\":\"8\", \"nine\":\"9\"}\n",
    "\n",
    "def solution(s):\n",
    "    answer = s\n",
    "    for key, value in num_dic.items():\n",
    "        answer = answer.replace(key, value)\n",
    "    return int(answer)"
   ]
  }
 ],
 "metadata": {
  "kernelspec": {
   "display_name": "Python 3",
   "language": "python",
   "name": "python3"
  },
  "language_info": {
   "codemirror_mode": {
    "name": "ipython",
    "version": 3
   },
   "file_extension": ".py",
   "mimetype": "text/x-python",
   "name": "python",
   "nbconvert_exporter": "python",
   "pygments_lexer": "ipython3",
   "version": "3.6.10"
  }
 },
 "nbformat": 4,
 "nbformat_minor": 4
}
