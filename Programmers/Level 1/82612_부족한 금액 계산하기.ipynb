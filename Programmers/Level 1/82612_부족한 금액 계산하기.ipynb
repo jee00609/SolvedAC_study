{
 "cells": [
  {
   "cell_type": "code",
   "execution_count": null,
   "metadata": {},
   "outputs": [],
   "source": [
    "def solution(price, money, count):\n",
    "    answer = -1\n",
    "\n",
    "    myPrice = 0\n",
    "    temp = 0\n",
    "    for i in range(1,count+1):\n",
    "        temp = price * i\n",
    "        myPrice+=temp\n",
    "    #절대값으로 해준다.\n",
    "    answer = abs(money - myPrice)\n",
    "    #단, 금액이 부족하지 않으면 0을 return 하세요.\n",
    "    if money-myPrice >= 0 :\n",
    "        return 0\n",
    "    \n",
    "    return answer"
   ]
  },
  {
   "cell_type": "code",
   "execution_count": null,
   "metadata": {},
   "outputs": [],
   "source": [
    "# 추천 코드 1\n",
    "# 등차수열(3,6,9,...)의 공식을 이용하여 푼 방식\n",
    "# 어떻게 이런걸 바로바로?\n",
    "\n",
    "def solution(price, money, count):\n",
    "    return max(0,price*(count+1)*count//2-money)"
   ]
  },
  {
   "cell_type": "code",
   "execution_count": null,
   "metadata": {},
   "outputs": [],
   "source": [
    "# 추천 코드 2\n",
    "# 나도 이방식처럼 풀고 싶어서 따로 메모\n",
    "# \n",
    "def solution(price, money, count):\n",
    "    return abs(min(money - sum([price*i for i in range(1,count+1)]),0))"
   ]
  },
  {
   "cell_type": "markdown",
   "metadata": {},
   "source": [
    "## sum(iterable, start = 0)\n",
    "\n",
    "첫번째 인자 : iterable하고 숫자데이터가 들어간 객체, 변수\n",
    "\n",
    "두번째 인자 : 처음으로 또 더해줄 숫자\n",
    "\n",
    "반환 : iterable의 합 + start 값\n",
    "\n",
    "\n",
    "\n",
    "출처: https://blockdmask.tistory.com/413 [개발자 지망생]"
   ]
  }
 ],
 "metadata": {
  "kernelspec": {
   "display_name": "Python 3",
   "language": "python",
   "name": "python3"
  },
  "language_info": {
   "codemirror_mode": {
    "name": "ipython",
    "version": 3
   },
   "file_extension": ".py",
   "mimetype": "text/x-python",
   "name": "python",
   "nbconvert_exporter": "python",
   "pygments_lexer": "ipython3",
   "version": "3.7.3"
  }
 },
 "nbformat": 4,
 "nbformat_minor": 2
}
