{
 "cells": [
  {
   "cell_type": "code",
   "execution_count": null,
   "metadata": {},
   "outputs": [],
   "source": [
    "def solution(d, budget):\n",
    "    \n",
    "    #d 를 오름차순 정렬 해준다.\n",
    "    #이를 통해 가장 많이 예산을 줄 수 있도록 세팅할 수 있따.\n",
    "    d.sort()\n",
    "    \n",
    "    #예산을 부여받은 부서를 의미한다.\n",
    "    answer = 0\n",
    "    #리스트 d 를 위한 값\n",
    "    i = 0\n",
    "    #부서가 받은 총 예산을 의미한다.\n",
    "    count = 0\n",
    "\n",
    "    #부서가 받은 예산이 정해진 전체 예산보다 작을 경우 반복\n",
    "    while count <= budget:\n",
    "        \n",
    "        #만약 모든 부서가 예산을 받은 경우 Break\n",
    "        if i == len(d):\n",
    "            break\n",
    "        \n",
    "        #부서가 예산을 받는다.\n",
    "        count += d[i]\n",
    "        #예산을 받은 부서의 수 1 증가\n",
    "        answer+=1\n",
    "        \n",
    "        #만약 부서가 받은 예산이 정해진 전체 예산보다 커질 경우\n",
    "        if count >budget:\n",
    "            #전체 예산보다 큰 경우니 가장 최근에 예산을 받은 부서를 취소하기 위해\n",
    "            #부서의 수 1 감소\n",
    "            answer-=1\n",
    "            #바로 break\n",
    "            break\n",
    "        i+=1\n",
    "        \n",
    "    return answer"
   ]
  },
  {
   "cell_type": "code",
   "execution_count": null,
   "metadata": {},
   "outputs": [],
   "source": [
    "#추천 코드\n",
    "#pop 을 이용하는 방법도 있구나\n",
    "#sum 으로 최고를 잡고 pop 을 이용하는 방법\n",
    "#이런 생각을 할 수 있도록 노력해보자\n",
    "def solution(d, budget):\n",
    "    d.sort()\n",
    "    while budget < sum(d):\n",
    "        d.pop()\n",
    "    return len(d)"
   ]
  }
 ],
 "metadata": {
  "kernelspec": {
   "display_name": "Python 3",
   "language": "python",
   "name": "python3"
  },
  "language_info": {
   "codemirror_mode": {
    "name": "ipython",
    "version": 3
   },
   "file_extension": ".py",
   "mimetype": "text/x-python",
   "name": "python",
   "nbconvert_exporter": "python",
   "pygments_lexer": "ipython3",
   "version": "3.7.3"
  }
 },
 "nbformat": 4,
 "nbformat_minor": 2
}
