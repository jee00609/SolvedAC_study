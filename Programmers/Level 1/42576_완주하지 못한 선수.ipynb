{
 "cells": [
  {
   "cell_type": "code",
   "execution_count": null,
   "metadata": {},
   "outputs": [],
   "source": [
    "def solution(participant, completion):\n",
    "    answer = ''\n",
    "    participant_dict = {}\n",
    "    \n",
    "    #참가자 dict 를 생성\n",
    "    #이름이 같을 경우 같은 이름 key 에 value + 1\n",
    "    for i in participant:\n",
    "        try: participant_dict[i] += 1\n",
    "        except: participant_dict[i] = 1\n",
    "    \n",
    "    #완주자에 대하여\n",
    "    #완주자 이름이 있을 경우 해당 이름 key 에 대한 value -1\n",
    "    for i in completion:\n",
    "        if i in participant_dict.keys():\n",
    "            participant_dict[i] -=1\n",
    "\n",
    "    #이름 key 에 대해 0 보다 큰 참가자의 값을 가져온다.\n",
    "    #여기서 알아야 할 것은 return 은 무조건 한개 이름이란것\n",
    "    #바로 answer 을 박아준다.\n",
    "    for key,value in participant_dict.items():\n",
    "        if value > 0:\n",
    "            answer = key\n",
    "        \n",
    "    return answer"
   ]
  },
  {
   "cell_type": "code",
   "execution_count": null,
   "metadata": {},
   "outputs": [],
   "source": [
    "#추천 코드\n",
    "#https://www.daleseo.com/python-collections-counter/\n",
    "#파이썬에서 제공하는 collections 모듈의 Counter 클래스를 사용하면 dict count 코드를 단 한 줄로 줄일 수가 있습니다.\n",
    "\n",
    "\n",
    "import collections\n",
    "\n",
    "def solution(participant, completion):\n",
    "    answer = collections.Counter(participant) - collections.Counter(completion)\n",
    "    return list(answer.keys())[0]"
   ]
  }
 ],
 "metadata": {
  "kernelspec": {
   "display_name": "Python 3",
   "language": "python",
   "name": "python3"
  },
  "language_info": {
   "codemirror_mode": {
    "name": "ipython",
    "version": 3
   },
   "file_extension": ".py",
   "mimetype": "text/x-python",
   "name": "python",
   "nbconvert_exporter": "python",
   "pygments_lexer": "ipython3",
   "version": "3.7.3"
  }
 },
 "nbformat": 4,
 "nbformat_minor": 2
}
