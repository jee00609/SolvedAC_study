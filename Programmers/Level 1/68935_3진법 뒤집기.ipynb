{
 "cells": [
  {
   "cell_type": "code",
   "execution_count": null,
   "metadata": {},
   "outputs": [],
   "source": [
    "import math\n",
    "\n",
    "#N진법 함수 (재귀)\n",
    "def convert(n, base):\n",
    "    T = \"0123456789ABCDEF\"\n",
    "    #divmod 에서 나온 앞의 결과는 몫, 뒤는 나머지다.\n",
    "    q, r = divmod(n, base)\n",
    "    if q == 0:\n",
    "        return T[r]\n",
    "    else:\n",
    "        return convert(q, base) + T[r]\n",
    "\n",
    "def solution(n):\n",
    "    \n",
    "    #3진법\n",
    "    answer = convert(n,3)\n",
    "    #문자열 뒤집기\n",
    "    #하면서 앞에 0 있는것도 쌈마이 하게 지움\n",
    "    answer = str(int(answer[::-1]))\n",
    "\n",
    "    #10진법 표현\n",
    "    myAnswer=0\n",
    "    for i in range(len(answer)):\n",
    "        temp = int(answer[-1-i])\n",
    "        myPow = int(math.pow(3,i))\n",
    "        myAnswer += temp*myPow\n",
    "    \n",
    "    answer = myAnswer\n",
    "    return answer"
   ]
  },
  {
   "cell_type": "code",
   "execution_count": null,
   "metadata": {},
   "outputs": [],
   "source": [
    "#추천 코드 1\n",
    "# int 에 이런 옵션이 있었다는 것을 이제서야!!!!!!!!!!!!\n",
    "# https://www.daleseo.com/python-int-bases/\n",
    "\n",
    "def solution(n):\n",
    "    tmp = ''\n",
    "    while n:\n",
    "        tmp += str(n % 3)\n",
    "        n = n // 3\n",
    "\n",
    "    #python int 의 옵션\n",
    "    #진법을 바꿔준다\n",
    "    #사실 int() 함수의 2번째 인자는 디폴트값이 10이기 때문에 생략했을 경우 10진수의 문자열이 숫자로 변환되는 것입니다.\n",
    "    answer = int(tmp, 3)\n",
    "    return answer"
   ]
  },
  {
   "cell_type": "code",
   "execution_count": null,
   "metadata": {},
   "outputs": [],
   "source": [
    "#추천 코드 2\n",
    "#여기서 answer 을 reverse 로 뒤집은게 보인다.\n",
    "def solution(n):\n",
    "    answer = []\n",
    "    while True:\n",
    "        if n < 3:\n",
    "            answer.append(n)\n",
    "            break\n",
    "        answer.append(n % 3)\n",
    "        n = n // 3\n",
    "    answer.reverse()\n",
    "    sum = 0\n",
    "    for i in range(len(answer)):\n",
    "        sum += (answer[i] * (3 ** i))\n",
    "    return sum"
   ]
  }
 ],
 "metadata": {
  "kernelspec": {
   "display_name": "Python 3",
   "language": "python",
   "name": "python3"
  },
  "language_info": {
   "codemirror_mode": {
    "name": "ipython",
    "version": 3
   },
   "file_extension": ".py",
   "mimetype": "text/x-python",
   "name": "python",
   "nbconvert_exporter": "python",
   "pygments_lexer": "ipython3",
   "version": "3.7.3"
  }
 },
 "nbformat": 4,
 "nbformat_minor": 2
}
