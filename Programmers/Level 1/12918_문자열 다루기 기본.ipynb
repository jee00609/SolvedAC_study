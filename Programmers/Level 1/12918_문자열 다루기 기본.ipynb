{
 "cells": [
  {
   "cell_type": "code",
   "execution_count": null,
   "metadata": {},
   "outputs": [],
   "source": [
    "# s는 길이 1 이상, 길이 8 이하인 문자열\n",
    "# 그러나 원하는 것은 4 혹은 6 의 길이를 가진 문자열이다.\n",
    "\n",
    "def solution(s):\n",
    "    \n",
    "    if len(s) != 4:\n",
    "        if len(s) != 6 :\n",
    "            return False\n",
    "    \n",
    "    \n",
    "    for i in s:\n",
    "        if i.isalpha() == True:\n",
    "            return False\n",
    "        \n",
    "    return True"
   ]
  },
  {
   "cell_type": "code",
   "execution_count": null,
   "metadata": {},
   "outputs": [],
   "source": [
    "# 추천 코드\n",
    "# in 을 사용하는 방법도 있구만\n",
    "\n",
    "def solution(s):\n",
    "    return s.isdigit() and len(s) in (4, 6)"
   ]
  }
 ],
 "metadata": {
  "kernelspec": {
   "display_name": "Python 3",
   "language": "python",
   "name": "python3"
  },
  "language_info": {
   "codemirror_mode": {
    "name": "ipython",
    "version": 3
   },
   "file_extension": ".py",
   "mimetype": "text/x-python",
   "name": "python",
   "nbconvert_exporter": "python",
   "pygments_lexer": "ipython3",
   "version": "3.6.10"
  }
 },
 "nbformat": 4,
 "nbformat_minor": 4
}
