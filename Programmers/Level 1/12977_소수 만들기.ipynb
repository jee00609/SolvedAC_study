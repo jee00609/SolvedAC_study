{
 "cells": [
  {
   "cell_type": "code",
   "execution_count": 19,
   "metadata": {},
   "outputs": [
    {
     "name": "stdout",
     "output_type": "stream",
     "text": [
      "[10, 9, 7, 14, 12, 11, 15, 13, 12, 17]\n"
     ]
    },
    {
     "data": {
      "text/plain": [
       "4"
      ]
     },
     "execution_count": 19,
     "metadata": {},
     "output_type": "execute_result"
    }
   ],
   "source": [
    "import itertools\n",
    "import math\n",
    "\n",
    "def isPrime(n):\n",
    "    if n == 1:\n",
    "        return False\n",
    "    else:\n",
    "        # 2부터 n의 제곱근까지의 모든 수를 확인하며\n",
    "        for i in range(2, int(math.sqrt(n)) + 1):\n",
    "            if n % i == 0:\n",
    "                return False\n",
    "        return True\n",
    "        \n",
    "\n",
    "def solution(nums):\n",
    "    answer = 0\n",
    "\n",
    "    #nPr = itertools.permutations(arr, 2)\n",
    "    nCr = list(itertools.combinations(nums, 3))\n",
    "    mylistData = []\n",
    "    myData = []\n",
    "    k = 0\n",
    "    for i in nCr:\n",
    "        mylistData.append(list(i))\n",
    "\n",
    "    for i in mylistData:\n",
    "        for j in i:\n",
    "            k+=j\n",
    "        myData.append(k)\n",
    "        k=0\n",
    "    \n",
    "    for i in myData:\n",
    "        if isPrime(i) == True:\n",
    "            answer+=1\n",
    "\n",
    "    return answer\n",
    "\n",
    "solution([1,2,7,6,4])"
   ]
  },
  {
   "cell_type": "code",
   "execution_count": null,
   "metadata": {},
   "outputs": [],
   "source": [
    "#추천 코드\n",
    "def solution(nums):\n",
    "    from itertools import combinations as cb\n",
    "    answer = 0\n",
    "    for a in cb(nums, 3):\n",
    "        cand = sum(a)\n",
    "        for j in range(2, cand):\n",
    "            if cand%j==0:\n",
    "                break\n",
    "        else:\n",
    "            answer += 1\n",
    "    return answer"
   ]
  },
  {
   "cell_type": "code",
   "execution_count": 21,
   "metadata": {},
   "outputs": [
    {
     "name": "stdout",
     "output_type": "stream",
     "text": [
      "[0, 0, 1, 0, 0, 1, 0, 1, 0, 1]\n"
     ]
    },
    {
     "data": {
      "text/plain": [
       "4"
      ]
     },
     "execution_count": 21,
     "metadata": {},
     "output_type": "execute_result"
    }
   ],
   "source": [
    "#추천 코드2\n",
    "from itertools import combinations\n",
    "def prime_number(x):\n",
    "    answer = 0\n",
    "    for i in range(1,int(x**0.5)+1):\n",
    "        if x%i==0:\n",
    "            answer+=1\n",
    "    return 1 if answer==1 else 0\n",
    "\n",
    "def solution(nums):\n",
    "    print([prime_number(sum(c)) for c in combinations(nums,3)])\n",
    "    \n",
    "    return sum([prime_number(sum(c)) for c in combinations(nums,3)])\n",
    "\n",
    "solution([1,2,7,6,4])"
   ]
  }
 ],
 "metadata": {
  "kernelspec": {
   "display_name": "Python 3",
   "language": "python",
   "name": "python3"
  },
  "language_info": {
   "codemirror_mode": {
    "name": "ipython",
    "version": 3
   },
   "file_extension": ".py",
   "mimetype": "text/x-python",
   "name": "python",
   "nbconvert_exporter": "python",
   "pygments_lexer": "ipython3",
   "version": "3.6.10"
  }
 },
 "nbformat": 4,
 "nbformat_minor": 4
}
