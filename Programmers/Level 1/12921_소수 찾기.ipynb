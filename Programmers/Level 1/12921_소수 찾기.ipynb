{
 "cells": [
  {
   "cell_type": "code",
   "execution_count": 2,
   "metadata": {},
   "outputs": [],
   "source": [
    "## 2022 년 1월 4일 -> 효율성 문제로 실패하는 코드가 됨\n",
    "\n",
    "import math\n",
    "\n",
    "def isPrime(n):\n",
    "    if n==2:\n",
    "        return True\n",
    "    #효율성을 위해 sqrt 를 사용\n",
    "    for i in range(2,int(math.sqrt(n)+1)):\n",
    "        if n%i == 0:\n",
    "            return False\n",
    "    return True\n",
    "\n",
    "def solution(n):\n",
    "    answer = 0\n",
    "    \n",
    "    for i in range(2,n+1):\n",
    "        if isPrime(i) == True:\n",
    "            answer +=1\n",
    "    \n",
    "    return answer"
   ]
  },
  {
   "cell_type": "code",
   "execution_count": null,
   "metadata": {},
   "outputs": [],
   "source": [
    "# 기존의 코드에서 효율성을 높임\n",
    "# 에라토스테네스의 체\n",
    "\n",
    "def solution(n):\n",
    "    \n",
    "    # 0 과 1은 소수가 아님으로 False False\n",
    "    a = [False,False] + [True]*(n-1)\n",
    "    primes=[]\n",
    "\n",
    "    #가장 작은 소수 2 부터 시작 ~ n 까지 반복\n",
    "    for i in range(2,n+1):\n",
    "        # 소수인 경우 True\n",
    "        if a[i] == True:\n",
    "            primes.append(i)\n",
    "            \n",
    "            #이제 i 의 배수는 무조건 소수가 아님으로 False 로 도배\n",
    "            for j in range(2*i, n+1, i):\n",
    "                a[j] = False\n",
    "            \n",
    "    return len(primes)"
   ]
  },
  {
   "cell_type": "code",
   "execution_count": null,
   "metadata": {},
   "outputs": [],
   "source": [
    "# 위의 코드는 어떤 숫자가 소수인지 확인할 수 있도록 제작한 것\n",
    "# 현재 코드는 소수의 총 개수만을 구하는 코드임\n",
    "\n",
    "def solution(n):\n",
    "    \n",
    "    # 0 과 1은 소수가 아님\n",
    "    a = [False,False] + [True]*(n-1)\n",
    "    cnt=0\n",
    "\n",
    "    #가장 작은 소수 2 부터 시작 ~ n 까지 반복\n",
    "    for i in range(2,n+1):\n",
    "        # 소수인 경우 True\n",
    "        if a[i] == True:\n",
    "            cnt+=1\n",
    "            \n",
    "            #이제 i 의 배수는 무조건 소수가 아님으로 False 로 도배\n",
    "            for j in range(2*i, n+1, i):\n",
    "                a[j] = False\n",
    "            \n",
    "    return cnt"
   ]
  },
  {
   "cell_type": "code",
   "execution_count": null,
   "metadata": {},
   "outputs": [],
   "source": [
    "# 추천 코드\n",
    "# 에라토스테너스의 체 구현?\n",
    "# 이해가 안가는 중 다음에 한번 더 보자\n",
    "def solution(n):\n",
    "    num=set(range(2,n+1))\n",
    "\n",
    "    for i in range(2,n+1):\n",
    "        if i in num:\n",
    "            num-=set(range(2*i,n+1,i))\n",
    "    return len(num)"
   ]
  },
  {
   "cell_type": "markdown",
   "metadata": {},
   "source": [
    "읽어볼 만한 글\n",
    "\n",
    "1보다 큰 모든 자연수는 소수의 곱으로 이루어져 있다.\n",
    "이것은 가장 기본적인 정리입니다. 이 정리가 의미하는 바는 무엇일까요? 대부분의 사람들은 소수를 구하기 위해서 2부터 차례대로 증가시켜서 나누어보는 방법을 이용할 것 입니다. 그러나 이 방식은 굉장히 비효율적인입니다. 그렇지만 1보다 큰 자연수는 소수의 곱으로 이루어져 있기 때문에 소수로만 나누면 됩니다. 예를 들어서, 10이 소수인지 아닌지를 알기 위해서 10보다 작은 소수만을 이용하면 됩니다. 실제로 10보다 작은 소수는 4개입니다. 그러니깐 4개만 이용하면 됩니다. 그리고 100이 소수인지 아닌지를 알기 위해서 99개의 자연수를 모두 이용한 것 대신에 25개의 소수만 이용하면 됩니다.\n",
    "\n",
    "어떤 자연수 n이 있을 때, √n 보다 작은 모든 소수들로 나누어 떨어지지 않으면 n은 소수입니다.\n",
    "언뜻 이해하기 힘들겠지만 한 번 이해하면 쉽습니다. 증명을 생략하고 예를 들겠습니다. 먼저 101이 소수인지 아닌지 판별하기 위해서 우리는 √101을 구하면 10.xxx이 됩니다. 자 10보다 작은 소수는 뭐가 있을까요? 일단 2, 3, 5, 7이 있습니다. 그런데 딱 봐도 이 4개의 소수로만 101이 나누어 떨어지지 않습니다. 그러므로 101소수입니다. 위의 방식을 이용하면 25개의 소수를 모두 이용해야 하지만 지금은 4개만 이용해도 쉽게 계산이 됩니다.\n",
    "\n",
    "2보다 큰 모든 짝수는 어차피 합성수입니다. 어차피 2로 나누어 떨어지기 때문이다."
   ]
  }
 ],
 "metadata": {
  "kernelspec": {
   "display_name": "Python 3",
   "language": "python",
   "name": "python3"
  },
  "language_info": {
   "codemirror_mode": {
    "name": "ipython",
    "version": 3
   },
   "file_extension": ".py",
   "mimetype": "text/x-python",
   "name": "python",
   "nbconvert_exporter": "python",
   "pygments_lexer": "ipython3",
   "version": "3.7.3"
  }
 },
 "nbformat": 4,
 "nbformat_minor": 4
}
