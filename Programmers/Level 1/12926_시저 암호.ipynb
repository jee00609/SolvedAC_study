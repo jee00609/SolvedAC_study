{
 "cells": [
  {
   "cell_type": "code",
   "execution_count": null,
   "metadata": {},
   "outputs": [],
   "source": [
    "#솔직히 아스키코드로 하고 싶었는데 그냥 list 로 만들어서 해버렸다.\n",
    "#좀더 깔끔한 코드를 짤 수 있도록 노력해보자\n",
    "\n",
    "def solution(s, n):\n",
    "    \n",
    "    abc = ['a','b','c','d','e','f','g','h','i','j','k','l','m','n','o','p','q','r','s','t','u','v','w','x','y','z']\n",
    "    ABC = ['A','B','C','D','E','F','G','H','I','J','K','L','M','N','O','P','Q','R','S','T','U','V','W','X','Y','Z']    \n",
    "    \n",
    "    answer = \"\"\n",
    "    \n",
    "    for i in s:\n",
    "        #공백 확인\n",
    "        if i.isspace() == True:\n",
    "            answer += \" \"\n",
    "        #문자이며 대문자일 경우\n",
    "        elif i.isupper() == True:\n",
    "            change = int(ABC.index(i)+n)\n",
    "            #Z를 뛰어넘었을 경우\n",
    "            if change > 25:\n",
    "                change -=26\n",
    "                \n",
    "            data = ABC[change]\n",
    "            answer += data\n",
    "            \n",
    "        #문자이며 소문자일 경우\n",
    "        elif i.islower()==True:\n",
    "            change = int(abc.index(i)+n)\n",
    "            \n",
    "            #z 를 뛰어넘었을 경우\n",
    "            if change > 25:\n",
    "                change -=26\n",
    "            \n",
    "            data = abc[change]\n",
    "            answer += data\n",
    "\n",
    "    return answer"
   ]
  },
  {
   "cell_type": "code",
   "execution_count": null,
   "metadata": {},
   "outputs": [],
   "source": [
    "#추천 코드\n",
    "#확실히 아스키 코드 내에서 변환하면 쉽겠구나\n",
    "def solution(s, n):\n",
    "    answer = ''\n",
    "    for i in s:\n",
    "        if i:\n",
    "            if i >= 'A' and i <= 'Z':\n",
    "                answer += chr((ord(i) - ord('A') + n) % 26 + ord('A'))\n",
    "            elif i >= 'a' and i <= 'z':\n",
    "                answer += chr((ord(i) - ord('a') + n) % 26 + ord('a'))\n",
    "            else : answer += ' '\n",
    "    return answer"
   ]
  }
 ],
 "metadata": {
  "kernelspec": {
   "display_name": "Python 3",
   "language": "python",
   "name": "python3"
  },
  "language_info": {
   "codemirror_mode": {
    "name": "ipython",
    "version": 3
   },
   "file_extension": ".py",
   "mimetype": "text/x-python",
   "name": "python",
   "nbconvert_exporter": "python",
   "pygments_lexer": "ipython3",
   "version": "3.7.3"
  }
 },
 "nbformat": 4,
 "nbformat_minor": 2
}
