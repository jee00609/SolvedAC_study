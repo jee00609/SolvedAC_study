{
 "cells": [
  {
   "cell_type": "code",
   "execution_count": null,
   "metadata": {},
   "outputs": [],
   "source": [
    "from itertools import permutations\n",
    "from itertools import combinations\n",
    "\n",
    "def solution(nums):\n",
    "    answer = 0\n",
    "    choice = len(nums)//2\n",
    "\n",
    "    # 중복되는 친구 모두 삭제\n",
    "    nums = list(set(nums))\n",
    "    \n",
    "    # 만약 중복되는 요소를 모두 삭제 했다 하더라도 고를 수 있는 개수 보다 같거나 클 때\n",
    "    # 무조건 choice 만큼 각자 다른 개체를 선택할 수 있다.\n",
    "    # 이걸로 시간 효율성을 높임\n",
    "    if len(nums) >= choice:\n",
    "        return choice\n",
    "\n",
    "    # 순서 관계 없이 조합\n",
    "    nCr = list(combinations(nums, choice))\n",
    "    \n",
    "    # 리스트에 암 것도 안들었으면\n",
    "    # 조합해봤자 결국 똑같은 개체 뽑아서 골라야 함을 의미\n",
    "    # len(nums) 로 세팅\n",
    "    if len(nCr) == 0:\n",
    "        answer = len(nums)\n",
    "    else:\n",
    "        # 아닐 경우 제일 높은 조합으로 세팅\n",
    "        for i in nCr:\n",
    "            if answer < len(i):\n",
    "                answer = len(i)\n",
    "\n",
    "    \n",
    "    return answer"
   ]
  },
  {
   "cell_type": "code",
   "execution_count": null,
   "metadata": {},
   "outputs": [],
   "source": [
    "# 추천 코드\n",
    "# 나랑 비슷하게 한 것 같은데 내가 푼 풀이는 뭔가 좀 비효율적이었음을 이걸로 깨달았다\n",
    "\n",
    "def solution(nums):\n",
    "    return min(len(nums)/2, len(set(nums)))"
   ]
  }
 ],
 "metadata": {
  "kernelspec": {
   "display_name": "Python 3",
   "language": "python",
   "name": "python3"
  },
  "language_info": {
   "codemirror_mode": {
    "name": "ipython",
    "version": 3
   },
   "file_extension": ".py",
   "mimetype": "text/x-python",
   "name": "python",
   "nbconvert_exporter": "python",
   "pygments_lexer": "ipython3",
   "version": "3.7.3"
  }
 },
 "nbformat": 4,
 "nbformat_minor": 2
}
