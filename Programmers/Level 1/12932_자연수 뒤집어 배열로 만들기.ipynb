{
 "cells": [
  {
   "cell_type": "code",
   "execution_count": null,
   "metadata": {},
   "outputs": [],
   "source": [
    "def solution(n):\n",
    "    answer = []\n",
    "    temp = list(str(n))\n",
    "    temp.reverse()\n",
    "    for i in temp:\n",
    "        answer.append(int(i))\n",
    "    return answer"
   ]
  },
  {
   "cell_type": "code",
   "execution_count": null,
   "metadata": {},
   "outputs": [],
   "source": [
    "#추천 코드 1\n",
    "#map 을 이용해서 풀 수 있는 것 같다\n",
    "def solution(n):\n",
    "    return list(map(int, reversed(str(n))))"
   ]
  },
  {
   "cell_type": "code",
   "execution_count": null,
   "metadata": {},
   "outputs": [],
   "source": [
    "#추천 코드 2\n",
    "#이렇게 풀고 싶었는데 도저히 떠오르지 않았다\n",
    "#reversed가 기억 안날땐 [::-1]\n",
    "def solution(n):\n",
    "    return [int(i) for i in str(n)][::-1]"
   ]
  }
 ],
 "metadata": {
  "kernelspec": {
   "display_name": "Python 3",
   "language": "python",
   "name": "python3"
  },
  "language_info": {
   "codemirror_mode": {
    "name": "ipython",
    "version": 3
   },
   "file_extension": ".py",
   "mimetype": "text/x-python",
   "name": "python",
   "nbconvert_exporter": "python",
   "pygments_lexer": "ipython3",
   "version": "3.6.10"
  }
 },
 "nbformat": 4,
 "nbformat_minor": 4
}
