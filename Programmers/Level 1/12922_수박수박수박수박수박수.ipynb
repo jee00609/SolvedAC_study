{
 "cells": [
  {
   "cell_type": "code",
   "execution_count": null,
   "metadata": {},
   "outputs": [],
   "source": [
    "def solution(n):\n",
    "    data = ['수','박']\n",
    "    answer = ''\n",
    "    \n",
    "    for i in range(0,n):\n",
    "        if i == 0:\n",
    "            answer += data[0]\n",
    "        else:\n",
    "            if i%2==0:\n",
    "                answer += data[0]\n",
    "            else:\n",
    "                answer += data[1]\n",
    "    \n",
    "    return answer"
   ]
  },
  {
   "cell_type": "code",
   "execution_count": null,
   "metadata": {},
   "outputs": [],
   "source": [
    "# 추천 코드\n",
    "\n",
    "def solution(n):\n",
    "    return \"\".join([\"수박\"[i%2] for i in range(n)])"
   ]
  }
 ],
 "metadata": {
  "kernelspec": {
   "display_name": "Python 3",
   "language": "python",
   "name": "python3"
  },
  "language_info": {
   "codemirror_mode": {
    "name": "ipython",
    "version": 3
   },
   "file_extension": ".py",
   "mimetype": "text/x-python",
   "name": "python",
   "nbconvert_exporter": "python",
   "pygments_lexer": "ipython3",
   "version": "3.6.10"
  }
 },
 "nbformat": 4,
 "nbformat_minor": 4
}
