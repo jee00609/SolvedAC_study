{
 "cells": [
  {
   "cell_type": "code",
   "execution_count": 3,
   "metadata": {},
   "outputs": [
    {
     "name": "stdout",
     "output_type": "stream",
     "text": [
      "7\n",
      "결과 : *******4444\n"
     ]
    }
   ],
   "source": [
    "def solution(phone_number):\n",
    "    answer = ''\n",
    "    data = []\n",
    "    \n",
    "    answer = list(phone_number)\n",
    "        \n",
    "    for i in range(len(answer[:-4])):\n",
    "        data.append(\"*\")\n",
    "        \n",
    "    for i in answer[-4:]:\n",
    "        data.append(i)\n",
    "        \n",
    "    data = ''.join(data)\n",
    "    answer = data\n",
    "    \n",
    "    return answer\n",
    "\n",
    "print(\"결과 : \" + solution('01033334444'))"
   ]
  },
  {
   "cell_type": "code",
   "execution_count": 2,
   "metadata": {},
   "outputs": [
    {
     "name": "stdout",
     "output_type": "stream",
     "text": [
      "결과 : *******4444\n"
     ]
    }
   ],
   "source": [
    "#추천 코드\n",
    "#이런 방법도 있구만\n",
    "\n",
    "def solution(phone_number):\n",
    "    return \"*\"*(len(phone_number)-4) + phone_number[-4:]\n",
    "\n",
    "# 아래는 테스트로 출력해 보기 위한 코드입니다.\n",
    "print(\"결과 : \" + solution('01033334444'))"
   ]
  }
 ],
 "metadata": {
  "kernelspec": {
   "display_name": "Python 3",
   "language": "python",
   "name": "python3"
  },
  "language_info": {
   "codemirror_mode": {
    "name": "ipython",
    "version": 3
   },
   "file_extension": ".py",
   "mimetype": "text/x-python",
   "name": "python",
   "nbconvert_exporter": "python",
   "pygments_lexer": "ipython3",
   "version": "3.6.10"
  }
 },
 "nbformat": 4,
 "nbformat_minor": 4
}
