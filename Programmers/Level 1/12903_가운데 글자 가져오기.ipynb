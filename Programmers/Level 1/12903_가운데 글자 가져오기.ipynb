{
 "cells": [
  {
   "cell_type": "code",
   "execution_count": null,
   "metadata": {},
   "outputs": [],
   "source": [
    "def solution(s):\n",
    "    s_len = len(s)\n",
    "    \n",
    "    if s_len%2 == 0:\n",
    "        answer = list(s)\n",
    "        answer = ''.join(answer[(s_len//2)-1:s_len//2+1])\n",
    "    else:\n",
    "        answer = list(s)\n",
    "        answer = answer[(s_len//2)]\n",
    "    return answer"
   ]
  },
  {
   "cell_type": "code",
   "execution_count": null,
   "metadata": {},
   "outputs": [],
   "source": [
    "# 추천 코드\n",
    "# 어떻게 이런 생각을...?\n",
    "def solution(s):\n",
    "    return str[(len(s)-1)//2:len(s)//2+1]"
   ]
  }
 ],
 "metadata": {
  "kernelspec": {
   "display_name": "Python 3",
   "language": "python",
   "name": "python3"
  },
  "language_info": {
   "codemirror_mode": {
    "name": "ipython",
    "version": 3
   },
   "file_extension": ".py",
   "mimetype": "text/x-python",
   "name": "python",
   "nbconvert_exporter": "python",
   "pygments_lexer": "ipython3",
   "version": "3.6.10"
  }
 },
 "nbformat": 4,
 "nbformat_minor": 4
}
