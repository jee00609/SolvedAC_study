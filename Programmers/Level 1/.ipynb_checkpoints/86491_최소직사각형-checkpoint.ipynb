{
 "cells": [
  {
   "cell_type": "code",
   "execution_count": null,
   "metadata": {},
   "outputs": [],
   "source": [
    "def solution(sizes):\n",
    "    \n",
    "    max_width = 0\n",
    "    max_length = 0\n",
    "    \n",
    "    #sizes 내부에 들어있는 아이템들 중 가장 큰 값을 i[0] 으로 다 몰아준다\n",
    "    #최소직사각형을 위한 아이디어\n",
    "    for i in sizes:\n",
    "        if i[0]<i[1]:\n",
    "            i[0],i[1] = i[1],i[0]\n",
    "    \n",
    "    #list 내부 list 의 최대값 구하기\n",
    "    max_width = max(map(lambda x: x[0], sizes))\n",
    "    max_length = max(map(lambda x: x[1], sizes))\n",
    "    \n",
    "    answer = max_width * max_length\n",
    "    return answer"
   ]
  },
  {
   "cell_type": "code",
   "execution_count": null,
   "metadata": {},
   "outputs": [],
   "source": [
    "#추천 코드\n",
    "def solution(sizes):\n",
    "    return max(max(x) for x in sizes) * max(min(x) for x in sizes)"
   ]
  }
 ],
 "metadata": {
  "kernelspec": {
   "display_name": "Python 3",
   "language": "python",
   "name": "python3"
  },
  "language_info": {
   "codemirror_mode": {
    "name": "ipython",
    "version": 3
   },
   "file_extension": ".py",
   "mimetype": "text/x-python",
   "name": "python",
   "nbconvert_exporter": "python",
   "pygments_lexer": "ipython3",
   "version": "3.7.3"
  }
 },
 "nbformat": 4,
 "nbformat_minor": 2
}
