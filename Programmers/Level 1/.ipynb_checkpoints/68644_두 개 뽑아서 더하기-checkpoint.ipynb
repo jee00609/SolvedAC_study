{
 "cells": [
  {
   "cell_type": "code",
   "execution_count": null,
   "metadata": {},
   "outputs": [],
   "source": [
    "import itertools\n",
    "\n",
    "def solution(numbers):\n",
    "    \n",
    "    nCr = list(itertools.combinations(numbers,2))\n",
    "    data = []\n",
    "    for i in nCr:\n",
    "        data.append(sum(i))\n",
    "    data = list(set(data))\n",
    "    data.sort()\n",
    "    \n",
    "    answer = data\n",
    "    return answer"
   ]
  },
  {
   "cell_type": "markdown",
   "metadata": {},
   "source": [
    "## 메모\n",
    "\n",
    "data.sort()\n",
    "한 이후에\n",
    "\n",
    "data = list(set(data))\n",
    "이렇게 하면 다시 뒤죽박죽 된다\n",
    "\n",
    "## set 이후에 sort 를 하자"
   ]
  },
  {
   "cell_type": "code",
   "execution_count": null,
   "metadata": {},
   "outputs": [],
   "source": [
    "#추천 코드\n",
    "#추천 코드와 비슷하다 WA!\n",
    "from itertools import combinations\n",
    "\n",
    "def solution(numbers):\n",
    "    answer = []\n",
    "    l = list(combinations(numbers, 2))\n",
    "\n",
    "    for i in l:\n",
    "        answer.append(i[0]+i[1])\n",
    "    answer = list(set(answer))\n",
    "    answer.sort()\n",
    "\n",
    "    return answer"
   ]
  }
 ],
 "metadata": {
  "kernelspec": {
   "display_name": "Python 3",
   "language": "python",
   "name": "python3"
  },
  "language_info": {
   "codemirror_mode": {
    "name": "ipython",
    "version": 3
   },
   "file_extension": ".py",
   "mimetype": "text/x-python",
   "name": "python",
   "nbconvert_exporter": "python",
   "pygments_lexer": "ipython3",
   "version": "3.6.10"
  }
 },
 "nbformat": 4,
 "nbformat_minor": 4
}
