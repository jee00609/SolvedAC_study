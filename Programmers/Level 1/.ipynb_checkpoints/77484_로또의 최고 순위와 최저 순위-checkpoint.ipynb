{
 "cells": [
  {
   "cell_type": "code",
   "execution_count": null,
   "metadata": {},
   "outputs": [],
   "source": [
    "#로또의 최고 순위와 최저 순위\n",
    "#내 풀이\n",
    "def solution(lottos, win_nums):\n",
    "\n",
    "    z_count = 0\n",
    "    count = 0\n",
    "    answer = []\n",
    "    \n",
    "    lottos.sort()\n",
    "    win_nums.sort()\n",
    "    \n",
    "    for i in lottos:\n",
    "        if i == 0 :\n",
    "            z_count+=1\n",
    "        for j in win_nums:\n",
    "            if i==j:\n",
    "                count+=1\n",
    "    \n",
    "    max_count = z_count+count\n",
    "    \n",
    "    if max_count ==6:\n",
    "        answer.append(1)\n",
    "    elif max_count ==5:\n",
    "        answer.append(2)\n",
    "    elif max_count ==4:\n",
    "        answer.append(3)\n",
    "    elif max_count ==3:\n",
    "        answer.append(4)\n",
    "    elif max_count ==2:\n",
    "        answer.append(5)\n",
    "    else :\n",
    "        answer.append(6)\n",
    "        \n",
    "    if count ==6:\n",
    "        answer.append(1)\n",
    "    elif count ==5:\n",
    "        answer.append(2)\n",
    "    elif count ==4:\n",
    "        answer.append(3)\n",
    "    elif count ==3:\n",
    "        answer.append(4)\n",
    "    elif count ==2:\n",
    "        answer.append(5)\n",
    "    else :\n",
    "        answer.append(6)\n",
    "    \n",
    "    return answer"
   ]
  },
  {
   "cell_type": "code",
   "execution_count": null,
   "metadata": {},
   "outputs": [],
   "source": [
    "# 추천\n",
    "def solution(lottos, win_nums):\n",
    "\n",
    "    rank=[6,6,5,4,3,2,1]\n",
    "\n",
    "    cnt_0 = lottos.count(0)\n",
    "    ans = 0\n",
    "    for x in win_nums:\n",
    "        if x in lottos:\n",
    "            ans += 1\n",
    "    return rank[cnt_0 + ans],rank[ans]"
   ]
  },
  {
   "cell_type": "markdown",
   "metadata": {},
   "source": [
    "## count 함수\n",
    "찾고자 하는 항목이, 파이썬의 리스트에 몇개나 들어있는지 확인하는 count 함수\n",
    "\n",
    "## len() 함수\n",
    "리스트의 전체 갯수 세기 : 리스트에 저장된 항목이 전부 몇개인지 확인하는 len() 함수"
   ]
  }
 ],
 "metadata": {
  "kernelspec": {
   "display_name": "Python 3",
   "language": "python",
   "name": "python3"
  },
  "language_info": {
   "codemirror_mode": {
    "name": "ipython",
    "version": 3
   },
   "file_extension": ".py",
   "mimetype": "text/x-python",
   "name": "python",
   "nbconvert_exporter": "python",
   "pygments_lexer": "ipython3",
   "version": "3.6.10"
  }
 },
 "nbformat": 4,
 "nbformat_minor": 4
}
