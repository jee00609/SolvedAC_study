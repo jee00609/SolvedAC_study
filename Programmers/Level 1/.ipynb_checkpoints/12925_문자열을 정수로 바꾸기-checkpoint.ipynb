{
 "cells": [
  {
   "cell_type": "code",
   "execution_count": null,
   "metadata": {},
   "outputs": [],
   "source": [
    "def solution(s):\n",
    "    temp = list(s)\n",
    "    answer = 0\n",
    "    print(answer)\n",
    "    \n",
    "    if temp[0].isdigit():\n",
    "        answer = int(s)\n",
    "    else :\n",
    "        if temp[0] == '+':\n",
    "            temp2 = ''.join(temp[1:])\n",
    "            answer = int(temp2)\n",
    "        else :\n",
    "            temp2 = ''.join(temp[1:])\n",
    "            answer = int(temp2)\n",
    "            answer *= -1\n",
    "    \n",
    "    return answer"
   ]
  },
  {
   "cell_type": "code",
   "execution_count": null,
   "metadata": {},
   "outputs": [],
   "source": [
    "# 추천 코드\n",
    "# 어이가 없네\n",
    "# +,- 는 알아서 판단하는 것 같다...\n",
    "#파이썬 그는 신이야!\n",
    "def solution(s):\n",
    "    answer = int(s)\n",
    "    return answer"
   ]
  }
 ],
 "metadata": {
  "kernelspec": {
   "display_name": "Python 3",
   "language": "python",
   "name": "python3"
  },
  "language_info": {
   "codemirror_mode": {
    "name": "ipython",
    "version": 3
   },
   "file_extension": ".py",
   "mimetype": "text/x-python",
   "name": "python",
   "nbconvert_exporter": "python",
   "pygments_lexer": "ipython3",
   "version": "3.6.10"
  }
 },
 "nbformat": 4,
 "nbformat_minor": 4
}
