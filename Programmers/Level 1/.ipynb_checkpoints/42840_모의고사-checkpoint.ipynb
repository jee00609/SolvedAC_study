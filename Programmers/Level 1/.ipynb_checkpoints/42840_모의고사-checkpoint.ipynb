{
 "cells": [
  {
   "cell_type": "code",
   "execution_count": null,
   "metadata": {},
   "outputs": [],
   "source": [
    "def solution(answers):\n",
    "    answer = []\n",
    "    \n",
    "    #5\n",
    "    user1 = [1,2,3,4,5]\n",
    "    #8\n",
    "    user2 = [2,1,2,3,2,4,2,5]\n",
    "    #10\n",
    "    user3 = [3,3,1,1,2,2,4,4,5,5]\n",
    "    \n",
    "    myAnswer1 = 0\n",
    "    myAnswer2 = 0\n",
    "    myAnswer3 = 0\n",
    "    \n",
    "    for i in range(len(answers)):\n",
    "        if i ==0:\n",
    "            if answers[i]==user1[i]:\n",
    "                myAnswer1+=1\n",
    "            if answers[i]==user2[i]:\n",
    "                myAnswer2+=1\n",
    "            if answers[i]==user3[i]:\n",
    "                myAnswer3+=1\n",
    "        else:\n",
    "            if answers[i]==user1[i%5]:\n",
    "                myAnswer1+=1\n",
    "            if answers[i]==user2[i%8]:\n",
    "                myAnswer2+=1\n",
    "            if answers[i]==user3[i%10]:\n",
    "                myAnswer3+=1\n",
    "                \n",
    "    myData = []\n",
    "    myData.append(myAnswer1)\n",
    "    myData.append(myAnswer2)\n",
    "    myData.append(myAnswer3)\n",
    "    \n",
    "    maxData = max(myData)\n",
    "    \n",
    "    if maxData==myAnswer1:\n",
    "        answer.append(1)\n",
    "    if maxData==myAnswer2:\n",
    "        answer.append(2)\n",
    "    if maxData==myAnswer3:\n",
    "        answer.append(3)\n",
    "    \n",
    "    return answer"
   ]
  },
  {
   "cell_type": "code",
   "execution_count": null,
   "metadata": {},
   "outputs": [],
   "source": [
    "#추천코드\n",
    "def solution(answers):\n",
    "    pattern1 = [1,2,3,4,5]\n",
    "    pattern2 = [2,1,2,3,2,4,2,5]\n",
    "    pattern3 = [3,3,1,1,2,2,4,4,5,5]\n",
    "    score = [0, 0, 0]\n",
    "    result = []\n",
    "\n",
    "    for idx, answer in enumerate(answers):\n",
    "        if answer == pattern1[idx%len(pattern1)]:\n",
    "            score[0] += 1\n",
    "        if answer == pattern2[idx%len(pattern2)]:\n",
    "            score[1] += 1\n",
    "        if answer == pattern3[idx%len(pattern3)]:\n",
    "            score[2] += 1\n",
    "\n",
    "    #enumerate 를 사용하는 방법도 있구만!\n",
    "    for idx, s in enumerate(score):\n",
    "        if s == max(score):\n",
    "            result.append(idx+1)\n",
    "\n",
    "    return result"
   ]
  }
 ],
 "metadata": {
  "kernelspec": {
   "display_name": "Python 3",
   "language": "python",
   "name": "python3"
  },
  "language_info": {
   "codemirror_mode": {
    "name": "ipython",
    "version": 3
   },
   "file_extension": ".py",
   "mimetype": "text/x-python",
   "name": "python",
   "nbconvert_exporter": "python",
   "pygments_lexer": "ipython3",
   "version": "3.7.3"
  }
 },
 "nbformat": 4,
 "nbformat_minor": 2
}
