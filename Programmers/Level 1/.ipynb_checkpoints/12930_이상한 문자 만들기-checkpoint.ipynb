{
 "cells": [
  {
   "cell_type": "code",
   "execution_count": null,
   "metadata": {},
   "outputs": [],
   "source": [
    "# 틀린 코드\n",
    "\n",
    "def solution(s):\n",
    "    temp = []\n",
    "    temp = s.split()\n",
    "    answer = []\n",
    "    \n",
    "    for num in temp:\n",
    "        for i in range(len(num)):\n",
    "            if i==0 or i%2 ==0:\n",
    "                answer.append(num[i].upper())\n",
    "            else:\n",
    "                answer.append(num[i].lower())\n",
    "        answer.append(' ')\n",
    "    if answer[-1] == ' ':\n",
    "        answer = answer[:-1]\n",
    "    answer = ''.join(answer)\n",
    "                   \n",
    "    return answer"
   ]
  },
  {
   "cell_type": "code",
   "execution_count": 1,
   "metadata": {},
   "outputs": [],
   "source": [
    "# https://programmers.co.kr/questions/19144 참고\n",
    "# 테스트 케이스에는 한 개 이상의 공백은 보존하는 것 같습니다.\n",
    "\n",
    "def solution(s):\n",
    "    temp = []\n",
    "    #여기 바꿈\n",
    "    temp = s.split(\" \")\n",
    "    answer = []\n",
    "    \n",
    "    for num in temp:\n",
    "        for i in range(len(num)):\n",
    "            if i==0 or i%2 ==0:\n",
    "                answer.append(num[i].upper())\n",
    "            else:\n",
    "                answer.append(num[i].lower())\n",
    "        answer.append(' ')\n",
    "    if answer[-1] == ' ':\n",
    "        answer = answer[:-1]\n",
    "    answer = ''.join(answer)\n",
    "                   \n",
    "    return answer"
   ]
  },
  {
   "cell_type": "code",
   "execution_count": null,
   "metadata": {},
   "outputs": [],
   "source": [
    "# 추천 코드\n",
    "# enumerate -> 인덱스 번호와 컬렉션의 원소를 tuple형태로 반환\n",
    "# 몇 번째 반복문인지 확인이 필요할 때 사용한다!\n",
    "# 꽤 괜찮아 보이는 기능이다.\n",
    "def solution(s):\n",
    "    return \" \".join(map(lambda x: \"\".join([a.lower() if i % 2 else a.upper() for i, a in enumerate(x)]), s.split(\" \")))"
   ]
  }
 ],
 "metadata": {
  "kernelspec": {
   "display_name": "Python 3",
   "language": "python",
   "name": "python3"
  },
  "language_info": {
   "codemirror_mode": {
    "name": "ipython",
    "version": 3
   },
   "file_extension": ".py",
   "mimetype": "text/x-python",
   "name": "python",
   "nbconvert_exporter": "python",
   "pygments_lexer": "ipython3",
   "version": "3.6.10"
  }
 },
 "nbformat": 4,
 "nbformat_minor": 4
}
