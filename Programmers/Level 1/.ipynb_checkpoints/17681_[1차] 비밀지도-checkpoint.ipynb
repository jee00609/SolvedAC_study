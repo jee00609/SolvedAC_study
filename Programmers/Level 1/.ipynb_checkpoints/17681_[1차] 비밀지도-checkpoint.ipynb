{
 "cells": [
  {
   "cell_type": "code",
   "execution_count": 3,
   "metadata": {},
   "outputs": [
    {
     "data": {
      "text/plain": [
       "['######', '###  #', '##  ##', ' #### ', ' #####', '### # ']"
      ]
     },
     "execution_count": 3,
     "metadata": {},
     "output_type": "execute_result"
    }
   ],
   "source": [
    "import collections\n",
    "\n",
    "def solution(n, arr1, arr2):\n",
    "    \n",
    "    arr1_2byte = []\n",
    "    arr1_2byte2 = []\n",
    "    \n",
    "    arr2_2byte = []\n",
    "    arr2_2byte2 = []\n",
    "    \n",
    "    #이번에 알아두는 좋은 상식, 포맷은 신이며 이를 증명가능하다\n",
    "    for i in arr1:\n",
    "        arr1_2byte.append(format(i,'b'))\n",
    "        \n",
    "    for i in arr2:\n",
    "        arr2_2byte.append(format(i,'b'))\n",
    "    \n",
    "    # 2진수로 되어있는 값들을 문자로 바꾸어서 list 내부에 삽입한다.\n",
    "    arr1_2byte = [list(str(i)) for i in arr1_2byte]\n",
    "    arr1_2byte2 = [list(str(i)) for i in arr1_2byte2]\n",
    "    \n",
    "    \n",
    "    #리스트로 되어있는 아이템들 중 n 보다 len 이 적을 경우 appendleft 를 통해 0 을 추가해준다\n",
    "    for i in arr1_2byte:\n",
    "        if len(i) < n:\n",
    "            while len(i)<=n-1:\n",
    "                deq = collections.deque(i)\n",
    "                deq.appendleft('0')\n",
    "                i = list(deq)\n",
    "        else:\n",
    "            i = list(i)\n",
    "        arr1_2byte2.append(i)\n",
    "    #리스트로 되어있는 아이템들 중 n 보다 len 이 적을 경우 appendleft 를 통해 0 을 추가해준다    \n",
    "    for i in arr2_2byte:\n",
    "        if len(i) < n:\n",
    "            while len(i)<=n-1:\n",
    "                deq = collections.deque(i)\n",
    "                deq.appendleft('0')\n",
    "                i = list(deq)\n",
    "        else:\n",
    "            i = list(i)\n",
    "        arr2_2byte2.append(i)\n",
    "    \n",
    "    answer = []\n",
    "    # 1 즉 벽으로 되어있는 모든 부분을 #으로 변환하며 그 이외의 부분은 \" \"으로 나타내준다.\n",
    "    for i in range(n):\n",
    "        mydata2 =\"\"\n",
    "        for j in range(n):\n",
    "            if arr1_2byte2[i][j] == \"1\" or arr2_2byte2[i][j] == \"1\" :\n",
    "                mydata2+=\"#\"\n",
    "            else:\n",
    "                mydata2+=\" \"\n",
    "        answer.append(mydata2)\n",
    "            \n",
    "    return answer\n",
    "solution(6,[46, 33, 33 ,22, 31, 50],[27 ,56, 19, 14, 14, 10])"
   ]
  },
  {
   "cell_type": "code",
   "execution_count": 2,
   "metadata": {},
   "outputs": [
    {
     "name": "stdout",
     "output_type": "stream",
     "text": [
      "0b111111\n",
      "111111\n",
      "0b111001\n",
      "111001\n",
      "0b110011\n",
      "110011\n",
      "0b11110\n",
      "11110\n",
      "0b11111\n",
      "11111\n",
      "0b111010\n",
      "111010\n"
     ]
    },
    {
     "data": {
      "text/plain": [
       "['######', '###  #', '##  ##', ' #### ', ' #####', '### # ']"
      ]
     },
     "execution_count": 2,
     "metadata": {},
     "output_type": "execute_result"
    }
   ],
   "source": [
    "#추천 코드\n",
    "#대체 어떻게 이런 생각을 하는거지?\n",
    "def solution(n, arr1, arr2):\n",
    "    answer = []\n",
    "    for i,j in zip(arr1,arr2):\n",
    "        #bin() 함수의 경우 10진수를 2진수로 변환 --> 난 포맷을 썼는데 이런 방식도 있구만\n",
    "        # print(bin(i|j)) --> 0b111111\n",
    "        # 따라서 2부터 시작하는듯\n",
    "        #와우\n",
    "        a12 = str(bin(i|j)[2:])\n",
    "        #이걸 보면 | 즉 or 를 사용해서 바로바로 바꿔버린듯 싶다\n",
    "        print(a12)\n",
    "        #rjust 를 string 에 활용하여 n 의 길이만큼 0을 먼저 박는다\n",
    "        a12=a12.rjust(n,'0')\n",
    "        #이후 1을 replace 해서 #으로\n",
    "        a12=a12.replace('1','#')\n",
    "        #마지막으로 0을 스페이스 문자로 변환\n",
    "        a12=a12.replace('0',' ')\n",
    "        #이걸 list ㅇ에 삽입하는듯 하다\n",
    "        #어케 이런 생각을?\n",
    "        answer.append(a12)\n",
    "    return answer\n",
    "\n",
    "solution(6,[46, 33, 33 ,22, 31, 50],[27 ,56, 19, 14, 14, 10])"
   ]
  }
 ],
 "metadata": {
  "kernelspec": {
   "display_name": "Python 3",
   "language": "python",
   "name": "python3"
  },
  "language_info": {
   "codemirror_mode": {
    "name": "ipython",
    "version": 3
   },
   "file_extension": ".py",
   "mimetype": "text/x-python",
   "name": "python",
   "nbconvert_exporter": "python",
   "pygments_lexer": "ipython3",
   "version": "3.6.10"
  }
 },
 "nbformat": 4,
 "nbformat_minor": 4
}
