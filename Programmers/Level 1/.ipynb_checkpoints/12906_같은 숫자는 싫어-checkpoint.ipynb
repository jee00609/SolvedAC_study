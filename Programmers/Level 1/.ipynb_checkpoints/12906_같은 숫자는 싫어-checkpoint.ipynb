{
 "cells": [
  {
   "cell_type": "code",
   "execution_count": null,
   "metadata": {},
   "outputs": [],
   "source": [
    "# 실패\n",
    "# 효율성 체크에서 실패\n",
    "\n",
    "from collections import deque\n",
    "def solution(arr):\n",
    "    temp = []\n",
    "    answer = []\n",
    "    for i in range(len(arr)):\n",
    "        if i+1<len(arr) :\n",
    "            if arr[i]==arr[i+1]:\n",
    "                temp.append(i)\n",
    "\n",
    "    for i in range(len(arr)):\n",
    "        if i not in temp:\n",
    "            answer.append(arr[i])\n",
    "    \n",
    "    return answer"
   ]
  },
  {
   "cell_type": "code",
   "execution_count": null,
   "metadata": {},
   "outputs": [],
   "source": [
    "# 성공\n",
    "def solution(arr):\n",
    "    answer = []\n",
    "    for i in range(len(arr)):\n",
    "        if i+1<len(arr) :\n",
    "            if arr[i]!=arr[i+1]:\n",
    "                answer.append(arr[i])\n",
    "        # i+1 이 가장 마지막일 경우\n",
    "        elif i+1 == len(arr):\n",
    "            #i 와 마지막이 같을 경우 i 만 더해주고 끝!\n",
    "            if arr[i] == arr[-1]:\n",
    "                answer.append(arr[i])\n",
    "\n",
    "    return answer"
   ]
  }
 ],
 "metadata": {
  "kernelspec": {
   "display_name": "Python 3",
   "language": "python",
   "name": "python3"
  },
  "language_info": {
   "codemirror_mode": {
    "name": "ipython",
    "version": 3
   },
   "file_extension": ".py",
   "mimetype": "text/x-python",
   "name": "python",
   "nbconvert_exporter": "python",
   "pygments_lexer": "ipython3",
   "version": "3.6.10"
  }
 },
 "nbformat": 4,
 "nbformat_minor": 4
}
