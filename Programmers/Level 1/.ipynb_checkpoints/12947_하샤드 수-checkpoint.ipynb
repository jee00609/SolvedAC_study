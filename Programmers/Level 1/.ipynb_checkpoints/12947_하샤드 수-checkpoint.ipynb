{
 "cells": [
  {
   "cell_type": "code",
   "execution_count": 1,
   "metadata": {},
   "outputs": [
    {
     "name": "stdout",
     "output_type": "stream",
     "text": [
      "True\n"
     ]
    }
   ],
   "source": [
    "def solution(x):\n",
    "    answer = True\n",
    "    \n",
    "    str_x = str(x) \n",
    "    data = list(str_x)\n",
    "    judge = 0\n",
    "    \n",
    "    for i in data:\n",
    "        judge += int(i)\n",
    "    \n",
    "    if x%judge == 0:\n",
    "        return True\n",
    "    else:\n",
    "        return False\n",
    "    \n",
    "    \n",
    "print(solution(18))"
   ]
  },
  {
   "cell_type": "code",
   "execution_count": 3,
   "metadata": {},
   "outputs": [
    {
     "name": "stdout",
     "output_type": "stream",
     "text": [
      "True\n"
     ]
    }
   ],
   "source": [
    "# 추천 코드\n",
    "# 나 또한 sum 으 사용해보려고 했으나 이런 방법으로는 생각하지 못해본 듯하다\n",
    "# 저 리스트 내부에서 For 문 사용하는 법을 좀 사용해 보고 싶은데\n",
    "# 사용하려고 하면 생각이 나지 않으니... 역시 여러번 구현해보면서 따라해봐야겠다\n",
    "def solution(x):\n",
    "    # n은 하샤드 수 인가요?\n",
    "    return x % sum([int(c) for c in str(x)]) == 0\n",
    "\n",
    "print(solution(18))"
   ]
  }
 ],
 "metadata": {
  "kernelspec": {
   "display_name": "Python 3",
   "language": "python",
   "name": "python3"
  },
  "language_info": {
   "codemirror_mode": {
    "name": "ipython",
    "version": 3
   },
   "file_extension": ".py",
   "mimetype": "text/x-python",
   "name": "python",
   "nbconvert_exporter": "python",
   "pygments_lexer": "ipython3",
   "version": "3.6.10"
  }
 },
 "nbformat": 4,
 "nbformat_minor": 4
}
