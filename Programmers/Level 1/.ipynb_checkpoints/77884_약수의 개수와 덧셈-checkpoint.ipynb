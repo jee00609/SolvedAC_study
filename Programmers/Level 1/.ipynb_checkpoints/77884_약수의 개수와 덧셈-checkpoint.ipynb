{
 "cells": [
  {
   "cell_type": "code",
   "execution_count": null,
   "metadata": {},
   "outputs": [],
   "source": [
    "def divisior(num):\n",
    "    div=0\n",
    "    for i in range(1,num+1):\n",
    "        if num % i==0:\n",
    "            div += 1\n",
    "    return div\n",
    "\n",
    "def solution(left, right):\n",
    "    answer = 0\n",
    "    \n",
    "    for i in range(left,right+1):\n",
    "        if divisior(i) % 2 == 0:\n",
    "            answer+=i\n",
    "        else:\n",
    "            answer-=i\n",
    "            \n",
    "    \n",
    "    \n",
    "    return answer"
   ]
  },
  {
   "cell_type": "code",
   "execution_count": null,
   "metadata": {},
   "outputs": [],
   "source": [
    "# 추천 코드\n",
    "\n",
    "# 약수가 홀수개인 모든 수는 제곱수 라는 명제는 약수가 홀수개가 아니나 제곱수인 어떤 수가 존재할 가능성을 내포하고 있기 때문에 \n",
    "# 굳이 따지자면 제곱수의 약수가 홀수개이다 란 명제를 사용해야 if 조건문에 사용할 수 있을것 같습니다. \n",
    "# 물론 이 경우에도 else에서 반례가 나올 수 있기 때문에 엄밀하게는 필요충분조건이어야, \n",
    "# 즉 두 명제가 모두 필요하지 않나 생각됩니다.\n",
    "\n",
    "def solution(left, right):\n",
    "    answer = 0\n",
    "    for i in range(left,right+1):\n",
    "        if int(i**0.5)==i**0.5:\n",
    "            answer -= i\n",
    "        else:\n",
    "            answer += i\n",
    "    return answer"
   ]
  }
 ],
 "metadata": {
  "kernelspec": {
   "display_name": "Python 3",
   "language": "python",
   "name": "python3"
  },
  "language_info": {
   "codemirror_mode": {
    "name": "ipython",
    "version": 3
   },
   "file_extension": ".py",
   "mimetype": "text/x-python",
   "name": "python",
   "nbconvert_exporter": "python",
   "pygments_lexer": "ipython3",
   "version": "3.6.10"
  }
 },
 "nbformat": 4,
 "nbformat_minor": 4
}
