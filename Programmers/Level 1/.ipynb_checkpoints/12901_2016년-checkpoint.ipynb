{
 "cells": [
  {
   "cell_type": "code",
   "execution_count": null,
   "metadata": {},
   "outputs": [],
   "source": [
    "## https://www.w3resource.com/python/module/calendar/weekday.php\n",
    "import calendar\n",
    "\n",
    "def solution(a, b):\n",
    "    answer = ''\n",
    "    #월~일\n",
    "    dateDict = {0: 'MON', 1:'TUE', 2:'WED', 3:'THU', 4:'FRI', 5:'SAT', 6:'SUN'}\n",
    "\n",
    "    myDate = calendar.weekday(2016, a, b)\n",
    "    answer = dateDict[myDate]\n",
    "    \n",
    "    return answer"
   ]
  },
  {
   "cell_type": "code",
   "execution_count": null,
   "metadata": {},
   "outputs": [],
   "source": [
    "# 추천코드\n",
    "# 나도 처음엔 datetime 을 썼으나 오류가 생겨서 바꿨는데 strftime upper 문제였었을까?\n",
    "# https://ponyozzang.tistory.com/626\n",
    "\n",
    "from datetime import date\n",
    "def solution(a,b):\n",
    "    return date(2016,a,b).strftime(\"%a\").upper()"
   ]
  },
  {
   "cell_type": "markdown",
   "metadata": {},
   "source": [
    "# import datetime\n",
    "\n",
    "## %A\n",
    "print(d_today.strftime('%A, %B %d, %Y'))\n",
    "=> Wednesday, September 02, 2020\n",
    "\n",
    "\n",
    "## %a\n",
    "print(d_today.strftime('%a, %b %d, %Y'))\n",
    "=> Wed, Sep 02, 2020"
   ]
  },
  {
   "cell_type": "markdown",
   "metadata": {},
   "source": [
    "https://www.w3resource.com/python/module/calendar/weekday.php\n",
    "\n",
    "import calendar\n",
    "print(calendar.weekday(2016, 5, 15))\n",
    "0~6 으로 표현되며 월~일 순서다!"
   ]
  }
 ],
 "metadata": {
  "kernelspec": {
   "display_name": "Python 3",
   "language": "python",
   "name": "python3"
  },
  "language_info": {
   "codemirror_mode": {
    "name": "ipython",
    "version": 3
   },
   "file_extension": ".py",
   "mimetype": "text/x-python",
   "name": "python",
   "nbconvert_exporter": "python",
   "pygments_lexer": "ipython3",
   "version": "3.7.3"
  }
 },
 "nbformat": 4,
 "nbformat_minor": 2
}
