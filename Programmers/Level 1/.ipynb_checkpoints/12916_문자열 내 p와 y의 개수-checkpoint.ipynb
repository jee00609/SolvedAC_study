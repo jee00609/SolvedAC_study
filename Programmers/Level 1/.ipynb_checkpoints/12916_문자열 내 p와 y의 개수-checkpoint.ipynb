{
 "cells": [
  {
   "cell_type": "code",
   "execution_count": null,
   "metadata": {},
   "outputs": [],
   "source": [
    "def solution(s):\n",
    "    answer = True\n",
    "    p_num = 0\n",
    "    y_num =0\n",
    "    \n",
    "    for i in list(s):\n",
    "        if 'p' in i or 'P' in i:\n",
    "            p_num +=1\n",
    "        elif 'y' in i or 'Y' in i:\n",
    "            y_num +=1\n",
    "\n",
    "    if p_num == y_num:\n",
    "        return True\n",
    "    else:\n",
    "        return False"
   ]
  },
  {
   "cell_type": "code",
   "execution_count": null,
   "metadata": {},
   "outputs": [],
   "source": [
    "# 추천 코드\n",
    "# lower 을 사용해서 모두 소문자로 바꾼 뒤\n",
    "# count 함수를 사용하다니\n",
    "# 대단하다!\n",
    "def solution(s):\n",
    "    # 함수를 완성하세요\n",
    "    return s.lower().count('p') == s.lower().count('y')"
   ]
  }
 ],
 "metadata": {
  "kernelspec": {
   "display_name": "Python 3",
   "language": "python",
   "name": "python3"
  },
  "language_info": {
   "codemirror_mode": {
    "name": "ipython",
    "version": 3
   },
   "file_extension": ".py",
   "mimetype": "text/x-python",
   "name": "python",
   "nbconvert_exporter": "python",
   "pygments_lexer": "ipython3",
   "version": "3.6.10"
  }
 },
 "nbformat": 4,
 "nbformat_minor": 4
}
