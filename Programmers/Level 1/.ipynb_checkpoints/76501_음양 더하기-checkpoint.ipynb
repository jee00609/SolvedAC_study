{
 "cells": [
  {
   "cell_type": "code",
   "execution_count": null,
   "metadata": {},
   "outputs": [],
   "source": [
    "def solution(absolutes, signs):\n",
    "    \n",
    "    answer = 0\n",
    "    temp = 0\n",
    "    for i in signs:\n",
    "        if i == False:\n",
    "            answer += (absolutes[temp] * (-1))          \n",
    "        else :\n",
    "            answer += absolutes[temp]\n",
    "        temp += 1\n",
    "    \n",
    "    \n",
    "    return answer"
   ]
  },
  {
   "cell_type": "code",
   "execution_count": null,
   "metadata": {},
   "outputs": [],
   "source": [
    "# 추천 코드\n",
    "def solution(absolutes, signs):\n",
    "    return sum(absolutes if sign else -absolutes for absolutes, sign in zip(absolutes, signs))"
   ]
  }
 ],
 "metadata": {
  "kernelspec": {
   "display_name": "Python 3",
   "language": "python",
   "name": "python3"
  },
  "language_info": {
   "codemirror_mode": {
    "name": "ipython",
    "version": 3
   },
   "file_extension": ".py",
   "mimetype": "text/x-python",
   "name": "python",
   "nbconvert_exporter": "python",
   "pygments_lexer": "ipython3",
   "version": "3.6.10"
  }
 },
 "nbformat": 4,
 "nbformat_minor": 4
}
