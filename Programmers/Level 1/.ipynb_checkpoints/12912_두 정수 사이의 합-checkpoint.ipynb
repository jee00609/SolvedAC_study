{
 "cells": [
  {
   "cell_type": "code",
   "execution_count": null,
   "metadata": {},
   "outputs": [],
   "source": [
    "def solution(a, b):\n",
    "    answer = 0\n",
    "    \n",
    "    if a>b:\n",
    "        a,b = b,a\n",
    "    elif a==b:\n",
    "        answer = a\n",
    "        return answer\n",
    "        \n",
    "    for i in range(a,b+1,1):\n",
    "        answer +=i\n",
    "    \n",
    "    \n",
    "    return answer"
   ]
  },
  {
   "cell_type": "code",
   "execution_count": null,
   "metadata": {},
   "outputs": [],
   "source": [
    "#추천 코드\n",
    "#sum 을 이용하는 방법이 있구만\n",
    "def solution(a, b):\n",
    "    # 함수를 완성하세요\n",
    "    if a > b: a, b = b, a\n",
    "\n",
    "    return sum(range(a,b+1))"
   ]
  }
 ],
 "metadata": {
  "kernelspec": {
   "display_name": "Python 3",
   "language": "python",
   "name": "python3"
  },
  "language_info": {
   "codemirror_mode": {
    "name": "ipython",
    "version": 3
   },
   "file_extension": ".py",
   "mimetype": "text/x-python",
   "name": "python",
   "nbconvert_exporter": "python",
   "pygments_lexer": "ipython3",
   "version": "3.6.10"
  }
 },
 "nbformat": 4,
 "nbformat_minor": 4
}
