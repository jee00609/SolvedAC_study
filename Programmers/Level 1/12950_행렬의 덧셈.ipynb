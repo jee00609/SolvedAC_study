{
 "cells": [
  {
   "cell_type": "code",
   "execution_count": 6,
   "metadata": {},
   "outputs": [
    {
     "name": "stdout",
     "output_type": "stream",
     "text": [
      "[[4, 6], [7, 9]]\n",
      "time is  0.0010280609130859375\n"
     ]
    }
   ],
   "source": [
    "import time\n",
    "start = time.time()\n",
    "\n",
    "def solution(arr1, arr2):\n",
    "    \n",
    "    size = len(arr1)\n",
    "    length = len(arr1[0])\n",
    "    i = 0\n",
    "    \n",
    "    data = []\n",
    "    \n",
    "    while i<size:\n",
    "        little_data = []\n",
    "        for j in range(length):\n",
    "            little_data.append(arr1[i][j]+arr2[i][j])\n",
    "        data.append(little_data)\n",
    "        i+=1\n",
    "    \n",
    "    answer = data\n",
    "    return answer\n",
    "\n",
    "print(solution([[1,2], [2,3]], [[3,4],[5,6]]))\n",
    "\n",
    "end = time.time()\n",
    "\n",
    "print(\"time is \",end-start)"
   ]
  },
  {
   "cell_type": "code",
   "execution_count": 4,
   "metadata": {},
   "outputs": [
    {
     "name": "stdout",
     "output_type": "stream",
     "text": [
      "[[4, 6], [7, 9]]\n",
      "time is  0.0009984970092773438\n"
     ]
    }
   ],
   "source": [
    "import time\n",
    "start = time.time()\n",
    "\n",
    "def solution(arr1,arr2):\n",
    "    answer = [[c + d for c, d in zip(a, b)] for a, b in zip(arr1,arr2)]\n",
    "    return answer\n",
    "\n",
    "print(solution([[1,2], [2,3]], [[3,4],[5,6]]))\n",
    "\n",
    "end = time.time()\n",
    "\n",
    "print(\"time is \",end-start)"
   ]
  }
 ],
 "metadata": {
  "kernelspec": {
   "display_name": "Python 3",
   "language": "python",
   "name": "python3"
  },
  "language_info": {
   "codemirror_mode": {
    "name": "ipython",
    "version": 3
   },
   "file_extension": ".py",
   "mimetype": "text/x-python",
   "name": "python",
   "nbconvert_exporter": "python",
   "pygments_lexer": "ipython3",
   "version": "3.6.10"
  }
 },
 "nbformat": 4,
 "nbformat_minor": 4
}
