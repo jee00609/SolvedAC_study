{
 "cells": [
  {
   "cell_type": "markdown",
   "metadata": {},
   "source": [
    "동물 보호소에 가장 먼저 들어온 동물의 이름을 조회하는 SQL 문\n",
    "\n",
    "여기서 체크할 점\n",
    "\n",
    "1. 가장 먼저 들어온\n",
    "\n",
    "2. 이름\n",
    "\n",
    "3. 단 한개만을 조회"
   ]
  },
  {
   "cell_type": "markdown",
   "metadata": {},
   "source": [
    "SELECT NAME FROM ANIMAL_INS ORDER BY DATETIME LIMIT 1;"
   ]
  }
 ],
 "metadata": {
  "kernelspec": {
   "display_name": "Python 3",
   "language": "python",
   "name": "python3"
  },
  "language_info": {
   "codemirror_mode": {
    "name": "ipython",
    "version": 3
   },
   "file_extension": ".py",
   "mimetype": "text/x-python",
   "name": "python",
   "nbconvert_exporter": "python",
   "pygments_lexer": "ipython3",
   "version": "3.7.3"
  }
 },
 "nbformat": 4,
 "nbformat_minor": 2
}
