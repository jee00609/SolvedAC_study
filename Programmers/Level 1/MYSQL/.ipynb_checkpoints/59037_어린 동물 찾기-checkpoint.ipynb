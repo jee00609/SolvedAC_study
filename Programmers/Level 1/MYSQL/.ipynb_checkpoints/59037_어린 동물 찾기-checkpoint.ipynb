{
 "cells": [
  {
   "cell_type": "code",
   "execution_count": null,
   "metadata": {},
   "outputs": [],
   "source": [
    "문제 내용과 예시가 어렵다.\n",
    "\n",
    "젊은 동물을 조회하라는데, 젊은 동물의 조건이 'Aged' 가 붙지 않은 모든 동물이란 것에 의문을 느낀다.\n",
    "\n",
    "또한 LIMIT 조건이 있는 줄 알았는데 아니었다.\n",
    "\n",
    "문제 설명을 다시 만들어야 하는 것이 아닐까 생각했다."
   ]
  },
  {
   "cell_type": "markdown",
   "metadata": {},
   "source": [
    "-- 코드를 입력하세요\n",
    "SELECT ANIMAL_ID,NAME FROM ANIMAL_INS WHERE INTAKE_CONDITION != 'Aged' ORDER BY ANIMAL_ID"
   ]
  }
 ],
 "metadata": {
  "kernelspec": {
   "display_name": "Python 3",
   "language": "python",
   "name": "python3"
  },
  "language_info": {
   "codemirror_mode": {
    "name": "ipython",
    "version": 3
   },
   "file_extension": ".py",
   "mimetype": "text/x-python",
   "name": "python",
   "nbconvert_exporter": "python",
   "pygments_lexer": "ipython3",
   "version": "3.7.3"
  }
 },
 "nbformat": 4,
 "nbformat_minor": 2
}
