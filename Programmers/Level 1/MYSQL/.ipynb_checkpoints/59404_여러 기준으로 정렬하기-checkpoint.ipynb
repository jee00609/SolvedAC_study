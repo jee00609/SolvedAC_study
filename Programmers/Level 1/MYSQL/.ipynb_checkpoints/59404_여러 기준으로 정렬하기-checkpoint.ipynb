{
 "cells": [
  {
   "cell_type": "markdown",
   "metadata": {},
   "source": [
    "이 문제에서 원했던 것은 두개 이상의 기준을 이용하여 정렬하는 방법이었다.\n",
    "\n",
    "원래 ORDER BY 로 하나의 요소만 정렬이 가능한 줄 알았는데 오늘 이 문제를 풀고 아님을 알게되었다."
   ]
  },
  {
   "cell_type": "code",
   "execution_count": null,
   "metadata": {},
   "outputs": [],
   "source": [
    "# 틀린 코드\n",
    "-- 코드를 입력하세요\n",
    "SELECT ANIMAL_ID, NAME, DATETIME FROM ANIMAL_INS ORDER BY NAME"
   ]
  },
  {
   "cell_type": "code",
   "execution_count": null,
   "metadata": {},
   "outputs": [],
   "source": [
    "# 맞은 코드\n",
    "-- 코드를 입력하세요\n",
    "SELECT ANIMAL_ID, NAME, DATETIME FROM ANIMAL_INS ORDER BY NAME,DATETIME DESC"
   ]
  }
 ],
 "metadata": {
  "kernelspec": {
   "display_name": "Python 3",
   "language": "python",
   "name": "python3"
  },
  "language_info": {
   "codemirror_mode": {
    "name": "ipython",
    "version": 3
   },
   "file_extension": ".py",
   "mimetype": "text/x-python",
   "name": "python",
   "nbconvert_exporter": "python",
   "pygments_lexer": "ipython3",
   "version": "3.7.3"
  }
 },
 "nbformat": 4,
 "nbformat_minor": 2
}
