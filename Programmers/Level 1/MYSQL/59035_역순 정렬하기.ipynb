{
 "cells": [
  {
   "cell_type": "markdown",
   "metadata": {},
   "source": [
    "SELECT 역순 정렬을 이야기 하고 있다.\n",
    "\n",
    "기본적으로 ASC가 DEFAULT 기 때문에 역정렬은 DESC 임을 의미한다."
   ]
  },
  {
   "cell_type": "code",
   "execution_count": null,
   "metadata": {},
   "outputs": [],
   "source": [
    "-- 코드를 입력하세요\n",
    "SELECT NAME, DATETIME FROM ANIMAL_INS ORDER BY ANIMAL_ID DESC"
   ]
  }
 ],
 "metadata": {
  "kernelspec": {
   "display_name": "Python 3",
   "language": "python",
   "name": "python3"
  },
  "language_info": {
   "codemirror_mode": {
    "name": "ipython",
    "version": 3
   },
   "file_extension": ".py",
   "mimetype": "text/x-python",
   "name": "python",
   "nbconvert_exporter": "python",
   "pygments_lexer": "ipython3",
   "version": "3.7.3"
  }
 },
 "nbformat": 4,
 "nbformat_minor": 2
}
