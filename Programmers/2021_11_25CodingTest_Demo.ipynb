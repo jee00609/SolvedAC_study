{
 "cells": [
  {
   "cell_type": "markdown",
   "metadata": {},
   "source": [
    "## 문제 설명\n",
    "직사각형을 만드는 데 필요한 4개의 점 중 3개의 좌표가 주어질 때, 나머지 한 점의 좌표를 구하려고 합니다. 점 3개의 좌표가 들어있는 배열 v가 매개변수로 주어질 때, 직사각형을 만드는 데 필요한 나머지 한 점의 좌표를 return 하도록 solution 함수를 완성해주세요. 단, 직사각형의 각 변은 x축, y축에 평행하며, 반드시 직사각형을 만들 수 있는 경우만 입력으로 주어집니다.\n",
    "\n",
    "## 제한사항\n",
    "v는 세 점의 좌표가 들어있는 2차원 배열입니다.\n",
    "v의 각 원소는 점의 좌표를 나타내며, 좌표는 [x축 좌표, y축 좌표] 순으로 주어집니다.\n",
    "좌표값은 1 이상 10억 이하의 자연수입니다.\n",
    "직사각형을 만드는 데 필요한 나머지 한 점의 좌표를 [x축 좌표, y축 좌표] 순으로 담아 return 해주세요."
   ]
  },
  {
   "cell_type": "markdown",
   "metadata": {},
   "source": [
    "                        v\tresult\n",
    "[[1, 4], [3, 4], [3, 10]]\t[1, 10]\n",
    "[[1, 1], [2, 2], [1, 2]]\t[2, 1]"
   ]
  },
  {
   "cell_type": "code",
   "execution_count": null,
   "metadata": {},
   "outputs": [],
   "source": [
    "def solution(v):\n",
    "    x = 0\n",
    "    y = 0\n",
    "\n",
    "    for i in v:\n",
    "        for j in v:\n",
    "            for k in v:\n",
    "                if i!=j and i!=k and i[0]==j[0] and i[1]==k[1]:\n",
    "                    y = j[1]\n",
    "                    x = k[0]\n",
    "                \n",
    "    answer = [x,y]\n",
    "    \n",
    "    return answer"
   ]
  }
 ],
 "metadata": {
  "kernelspec": {
   "display_name": "Python 3",
   "language": "python",
   "name": "python3"
  },
  "language_info": {
   "codemirror_mode": {
    "name": "ipython",
    "version": 3
   },
   "file_extension": ".py",
   "mimetype": "text/x-python",
   "name": "python",
   "nbconvert_exporter": "python",
   "pygments_lexer": "ipython3",
   "version": "3.6.10"
  }
 },
 "nbformat": 4,
 "nbformat_minor": 4
}
