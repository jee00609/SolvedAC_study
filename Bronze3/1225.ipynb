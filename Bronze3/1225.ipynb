{
 "cells": [
  {
   "cell_type": "code",
   "execution_count": 45,
   "metadata": {},
   "outputs": [
    {
     "name": "stdout",
     "output_type": "stream",
     "text": [
      "121 34\n",
      "28\n"
     ]
    }
   ],
   "source": [
    "# 시간 초과!\n",
    "A,B = input().split()\n",
    "\n",
    "A_integer= map(int,str(A))\n",
    "A_integer = list(A_integer)\n",
    "\n",
    "B_integer= map(int,str(B))\n",
    "B_integer = list(B_integer)\n",
    "\n",
    "mul=0\n",
    "sum = 0\n",
    "\n",
    "for i in A_integer:\n",
    "    for j in B_integer:\n",
    "        mul = mul + (i*j)\n",
    "        \n",
    "    sum = sum+mul\n",
    "    mul=0\n",
    "    \n",
    "print(sum)"
   ]
  },
  {
   "cell_type": "markdown",
   "metadata": {},
   "source": [
    "다시 한번 생각해보자\n",
    "\n",
    "121 * 45 라고 생각했을 때\n",
    "\n",
    "# {(1 * 4)+(2 * 4)+(1 * 4)} + {(1 * 5)+(2 * 5)+(1 * 5)}\n",
    "\n",
    "라고 볼 수 있다.\n",
    "\n",
    "고등학교 시절 분배법칙, 분배법칙, 교환법칙, 결합법칙 이러면서 배웠던 여러 가지 중\n",
    "\n",
    "결합 법칙과 비슷한 성질을 가졌다고 볼 수 있다.\n",
    "\n",
    "# {(1+2+1) * 4 } + {(1+2+1) * 5 }\n"
   ]
  },
  {
   "cell_type": "code",
   "execution_count": 47,
   "metadata": {},
   "outputs": [
    {
     "name": "stdout",
     "output_type": "stream",
     "text": [
      "121 34\n",
      "28\n"
     ]
    }
   ],
   "source": [
    "# 성공!\n",
    "A,B = input().split()\n",
    "\n",
    "A_integer= map(int,str(A))\n",
    "A_integer = list(A_integer)\n",
    "\n",
    "B_integer= map(int,str(B))\n",
    "B_integer = list(B_integer)\n",
    "\n",
    "A_Sum = 0\n",
    "B_Sum = 0\n",
    "\n",
    "for i in A_integer:\n",
    "    A_Sum = A_Sum+i\n",
    "        \n",
    "for i in B_integer:\n",
    "    B_Sum = B_Sum+i\n",
    "    \n",
    "result = A_Sum*B_Sum\n",
    "print(result)"
   ]
  }
 ],
 "metadata": {
  "kernelspec": {
   "display_name": "Python 3",
   "language": "python",
   "name": "python3"
  },
  "language_info": {
   "codemirror_mode": {
    "name": "ipython",
    "version": 3
   },
   "file_extension": ".py",
   "mimetype": "text/x-python",
   "name": "python",
   "nbconvert_exporter": "python",
   "pygments_lexer": "ipython3",
   "version": "3.6.10"
  }
 },
 "nbformat": 4,
 "nbformat_minor": 4
}
